{
  "nbformat": 4,
  "nbformat_minor": 0,
  "metadata": {
    "colab": {
      "provenance": []
    },
    "kernelspec": {
      "name": "python3",
      "display_name": "Python 3"
    },
    "language_info": {
      "name": "python"
    }
  },
  "cells": [
    {
      "cell_type": "markdown",
      "source": [
        "##Práctica final del módulo de Deep Learning\n",
        "\n",
        "\n",
        "\n",
        "#Objetivo\n",
        "El objetivo de la práctica final del módulo de Deep Learning consiste en resolver un problema\n",
        "del mundo real empleando para ello técnicas vistas durante las sesiones de dicho módulo.\n",
        "En concreto, se trabajará en predecir el precio de habitaciones de AirBnB utilizando para ello\n",
        "todas las características disponibles en el dataset.\n",
        "El propósito no es obtener un sistema predictor con una precisión o una tasa de acierto lo\n",
        "más alta posible, sino el diseño, implementación y la evaluación de modelos de redes\n",
        "neuronales profundas que usen diferentes fuentes de datos (modalidades): numéricas e\n",
        "imágenes."
      ],
      "metadata": {
        "id": "dUYMrrF0QEMA"
      }
    },
    {
      "cell_type": "markdown",
      "source": [
        "###Cargamos el Dataset"
      ],
      "metadata": {
        "id": "LKykQYBgQnHQ"
      }
    },
    {
      "cell_type": "code",
      "execution_count": 1,
      "metadata": {
        "id": "NY5j6d9jXPrp",
        "colab": {
          "base_uri": "https://localhost:8080/",
          "height": 1000
        },
        "outputId": "794f7a24-b183-42a3-e77f-c9be66907fb2"
      },
      "outputs": [
        {
          "output_type": "display_data",
          "data": {
            "text/plain": [
              "<IPython.core.display.HTML object>"
            ],
            "text/html": [
              "\n",
              "     <input type=\"file\" id=\"files-942e2849-e072-47e6-b336-ef30db0236c4\" name=\"files[]\" multiple disabled\n",
              "        style=\"border:none\" />\n",
              "     <output id=\"result-942e2849-e072-47e6-b336-ef30db0236c4\">\n",
              "      Upload widget is only available when the cell has been executed in the\n",
              "      current browser session. Please rerun this cell to enable.\n",
              "      </output>\n",
              "      <script>// Copyright 2017 Google LLC\n",
              "//\n",
              "// Licensed under the Apache License, Version 2.0 (the \"License\");\n",
              "// you may not use this file except in compliance with the License.\n",
              "// You may obtain a copy of the License at\n",
              "//\n",
              "//      http://www.apache.org/licenses/LICENSE-2.0\n",
              "//\n",
              "// Unless required by applicable law or agreed to in writing, software\n",
              "// distributed under the License is distributed on an \"AS IS\" BASIS,\n",
              "// WITHOUT WARRANTIES OR CONDITIONS OF ANY KIND, either express or implied.\n",
              "// See the License for the specific language governing permissions and\n",
              "// limitations under the License.\n",
              "\n",
              "/**\n",
              " * @fileoverview Helpers for google.colab Python module.\n",
              " */\n",
              "(function(scope) {\n",
              "function span(text, styleAttributes = {}) {\n",
              "  const element = document.createElement('span');\n",
              "  element.textContent = text;\n",
              "  for (const key of Object.keys(styleAttributes)) {\n",
              "    element.style[key] = styleAttributes[key];\n",
              "  }\n",
              "  return element;\n",
              "}\n",
              "\n",
              "// Max number of bytes which will be uploaded at a time.\n",
              "const MAX_PAYLOAD_SIZE = 100 * 1024;\n",
              "\n",
              "function _uploadFiles(inputId, outputId) {\n",
              "  const steps = uploadFilesStep(inputId, outputId);\n",
              "  const outputElement = document.getElementById(outputId);\n",
              "  // Cache steps on the outputElement to make it available for the next call\n",
              "  // to uploadFilesContinue from Python.\n",
              "  outputElement.steps = steps;\n",
              "\n",
              "  return _uploadFilesContinue(outputId);\n",
              "}\n",
              "\n",
              "// This is roughly an async generator (not supported in the browser yet),\n",
              "// where there are multiple asynchronous steps and the Python side is going\n",
              "// to poll for completion of each step.\n",
              "// This uses a Promise to block the python side on completion of each step,\n",
              "// then passes the result of the previous step as the input to the next step.\n",
              "function _uploadFilesContinue(outputId) {\n",
              "  const outputElement = document.getElementById(outputId);\n",
              "  const steps = outputElement.steps;\n",
              "\n",
              "  const next = steps.next(outputElement.lastPromiseValue);\n",
              "  return Promise.resolve(next.value.promise).then((value) => {\n",
              "    // Cache the last promise value to make it available to the next\n",
              "    // step of the generator.\n",
              "    outputElement.lastPromiseValue = value;\n",
              "    return next.value.response;\n",
              "  });\n",
              "}\n",
              "\n",
              "/**\n",
              " * Generator function which is called between each async step of the upload\n",
              " * process.\n",
              " * @param {string} inputId Element ID of the input file picker element.\n",
              " * @param {string} outputId Element ID of the output display.\n",
              " * @return {!Iterable<!Object>} Iterable of next steps.\n",
              " */\n",
              "function* uploadFilesStep(inputId, outputId) {\n",
              "  const inputElement = document.getElementById(inputId);\n",
              "  inputElement.disabled = false;\n",
              "\n",
              "  const outputElement = document.getElementById(outputId);\n",
              "  outputElement.innerHTML = '';\n",
              "\n",
              "  const pickedPromise = new Promise((resolve) => {\n",
              "    inputElement.addEventListener('change', (e) => {\n",
              "      resolve(e.target.files);\n",
              "    });\n",
              "  });\n",
              "\n",
              "  const cancel = document.createElement('button');\n",
              "  inputElement.parentElement.appendChild(cancel);\n",
              "  cancel.textContent = 'Cancel upload';\n",
              "  const cancelPromise = new Promise((resolve) => {\n",
              "    cancel.onclick = () => {\n",
              "      resolve(null);\n",
              "    };\n",
              "  });\n",
              "\n",
              "  // Wait for the user to pick the files.\n",
              "  const files = yield {\n",
              "    promise: Promise.race([pickedPromise, cancelPromise]),\n",
              "    response: {\n",
              "      action: 'starting',\n",
              "    }\n",
              "  };\n",
              "\n",
              "  cancel.remove();\n",
              "\n",
              "  // Disable the input element since further picks are not allowed.\n",
              "  inputElement.disabled = true;\n",
              "\n",
              "  if (!files) {\n",
              "    return {\n",
              "      response: {\n",
              "        action: 'complete',\n",
              "      }\n",
              "    };\n",
              "  }\n",
              "\n",
              "  for (const file of files) {\n",
              "    const li = document.createElement('li');\n",
              "    li.append(span(file.name, {fontWeight: 'bold'}));\n",
              "    li.append(span(\n",
              "        `(${file.type || 'n/a'}) - ${file.size} bytes, ` +\n",
              "        `last modified: ${\n",
              "            file.lastModifiedDate ? file.lastModifiedDate.toLocaleDateString() :\n",
              "                                    'n/a'} - `));\n",
              "    const percent = span('0% done');\n",
              "    li.appendChild(percent);\n",
              "\n",
              "    outputElement.appendChild(li);\n",
              "\n",
              "    const fileDataPromise = new Promise((resolve) => {\n",
              "      const reader = new FileReader();\n",
              "      reader.onload = (e) => {\n",
              "        resolve(e.target.result);\n",
              "      };\n",
              "      reader.readAsArrayBuffer(file);\n",
              "    });\n",
              "    // Wait for the data to be ready.\n",
              "    let fileData = yield {\n",
              "      promise: fileDataPromise,\n",
              "      response: {\n",
              "        action: 'continue',\n",
              "      }\n",
              "    };\n",
              "\n",
              "    // Use a chunked sending to avoid message size limits. See b/62115660.\n",
              "    let position = 0;\n",
              "    do {\n",
              "      const length = Math.min(fileData.byteLength - position, MAX_PAYLOAD_SIZE);\n",
              "      const chunk = new Uint8Array(fileData, position, length);\n",
              "      position += length;\n",
              "\n",
              "      const base64 = btoa(String.fromCharCode.apply(null, chunk));\n",
              "      yield {\n",
              "        response: {\n",
              "          action: 'append',\n",
              "          file: file.name,\n",
              "          data: base64,\n",
              "        },\n",
              "      };\n",
              "\n",
              "      let percentDone = fileData.byteLength === 0 ?\n",
              "          100 :\n",
              "          Math.round((position / fileData.byteLength) * 100);\n",
              "      percent.textContent = `${percentDone}% done`;\n",
              "\n",
              "    } while (position < fileData.byteLength);\n",
              "  }\n",
              "\n",
              "  // All done.\n",
              "  yield {\n",
              "    response: {\n",
              "      action: 'complete',\n",
              "    }\n",
              "  };\n",
              "}\n",
              "\n",
              "scope.google = scope.google || {};\n",
              "scope.google.colab = scope.google.colab || {};\n",
              "scope.google.colab._files = {\n",
              "  _uploadFiles,\n",
              "  _uploadFilesContinue,\n",
              "};\n",
              "})(self);\n",
              "</script> "
            ]
          },
          "metadata": {}
        },
        {
          "output_type": "stream",
          "name": "stdout",
          "text": [
            "Saving dataset.csv to dataset.csv\n",
            "Dataset después de eliminar duplicados: 3600 filas.\n"
          ]
        },
        {
          "output_type": "stream",
          "name": "stderr",
          "text": [
            "  0%|          | 16/3600 [00:04<16:00,  3.73it/s]"
          ]
        },
        {
          "output_type": "stream",
          "name": "stdout",
          "text": [
            "URL inválida para el índice 14: https://a0.muscache.com/pictures/18698089/0b22a030_original.jpg\n"
          ]
        },
        {
          "output_type": "stream",
          "name": "stderr",
          "text": [
            "  1%|          | 23/3600 [00:06<13:23,  4.45it/s]"
          ]
        },
        {
          "output_type": "stream",
          "name": "stdout",
          "text": [
            "URL inválida para el índice 22: https://a0.muscache.com/pictures/2143912/1608e26a_original.jpg\n"
          ]
        },
        {
          "output_type": "stream",
          "name": "stderr",
          "text": [
            "  1%|▏         | 50/3600 [00:16<28:02,  2.11it/s]"
          ]
        },
        {
          "output_type": "stream",
          "name": "stdout",
          "text": [
            "URL inválida para el índice 49: https://a0.muscache.com/pictures/miso/Hosting-1130279/original/1ff92114-4883-42f1-90c2-a51fa75140ad.jpeg\n"
          ]
        },
        {
          "output_type": "stream",
          "name": "stderr",
          "text": [
            "  2%|▏         | 58/3600 [00:19<19:22,  3.05it/s]"
          ]
        },
        {
          "output_type": "stream",
          "name": "stdout",
          "text": [
            "URL inválida para el índice 57: https://a0.muscache.com/pictures/22175517/62b99022_original.jpg\n"
          ]
        },
        {
          "output_type": "stream",
          "name": "stderr",
          "text": [
            "  2%|▏         | 82/3600 [00:25<13:44,  4.27it/s]"
          ]
        },
        {
          "output_type": "stream",
          "name": "stdout",
          "text": [
            "URL inválida para el índice 81: https://a0.muscache.com/pictures/miso/Hosting-2381143/original/fe2a01b1-7652-476f-b552-032879da8f04.png\n"
          ]
        },
        {
          "output_type": "stream",
          "name": "stderr",
          "text": [
            "  3%|▎         | 108/3600 [00:34<18:41,  3.11it/s]"
          ]
        },
        {
          "output_type": "stream",
          "name": "stdout",
          "text": [
            "URL inválida para el índice 107: https://a0.muscache.com/pictures/c168962e-1a48-461d-a568-3ec4bf9a6c65.jpg\n"
          ]
        },
        {
          "output_type": "stream",
          "name": "stderr",
          "text": [
            "  3%|▎         | 110/3600 [00:34<15:52,  3.67it/s]"
          ]
        },
        {
          "output_type": "stream",
          "name": "stdout",
          "text": [
            "URL inválida para el índice 109: https://a0.muscache.com/pictures/miso/Hosting-4090224/original/ab9132a7-8b00-407f-a67a-9100b3c8707f.jpeg\n"
          ]
        },
        {
          "output_type": "stream",
          "name": "stderr",
          "text": [
            "  3%|▎         | 123/3600 [00:37<09:29,  6.10it/s]"
          ]
        },
        {
          "output_type": "stream",
          "name": "stdout",
          "text": [
            "URL inválida para el índice 122: https://a0.muscache.com/pictures/prohost-api/Hosting-4461846/original/fc197865-7e72-4359-963f-ca4c1ce97bb5.jpeg\n"
          ]
        },
        {
          "output_type": "stream",
          "name": "stderr",
          "text": [
            "  4%|▍         | 136/3600 [00:40<13:52,  4.16it/s]"
          ]
        },
        {
          "output_type": "stream",
          "name": "stdout",
          "text": [
            "URL inválida para el índice 134: https://a0.muscache.com/pictures/prohost-api/Hosting-4623114/original/7c8d41af-cbd1-4666-8705-937098a17bf2.jpeg\n"
          ]
        },
        {
          "output_type": "stream",
          "name": "stderr",
          "text": [
            "  4%|▍         | 138/3600 [00:40<12:30,  4.61it/s]"
          ]
        },
        {
          "output_type": "stream",
          "name": "stdout",
          "text": [
            "URL inválida para el índice 137: https://a0.muscache.com/pictures/90646201/a9cbf501_original.jpg\n"
          ]
        },
        {
          "output_type": "stream",
          "name": "stderr",
          "text": [
            "\r  4%|▍         | 139/3600 [00:41<13:30,  4.27it/s]"
          ]
        },
        {
          "output_type": "stream",
          "name": "stdout",
          "text": [
            "URL inválida para el índice 138: https://a0.muscache.com/pictures/72880628/d3e48f2c_original.jpg\n"
          ]
        },
        {
          "output_type": "stream",
          "name": "stderr",
          "text": [
            "  5%|▍         | 164/3600 [00:47<18:18,  3.13it/s]"
          ]
        },
        {
          "output_type": "stream",
          "name": "stdout",
          "text": [
            "URL inválida para el índice 163: https://a0.muscache.com/pictures/fc3371ed-197d-4484-bd24-5d2281c9f356.jpg\n"
          ]
        },
        {
          "output_type": "stream",
          "name": "stderr",
          "text": [
            "  5%|▌         | 189/3600 [00:53<10:37,  5.35it/s]"
          ]
        },
        {
          "output_type": "stream",
          "name": "stdout",
          "text": [
            "URL inválida para el índice 187: https://a0.muscache.com/pictures/miso/Hosting-6646604/original/0f04720b-b742-4aba-b252-2be9080145e9.jpeg\n"
          ]
        },
        {
          "output_type": "stream",
          "name": "stderr",
          "text": [
            "  6%|▋         | 231/3600 [01:04<12:50,  4.37it/s]"
          ]
        },
        {
          "output_type": "stream",
          "name": "stdout",
          "text": [
            "URL inválida para el índice 229: https://a0.muscache.com/pictures/prohost-api/Hosting-7531700/original/67306117-5e1a-46b6-b1a9-8694dc769b9c.jpeg\n"
          ]
        },
        {
          "output_type": "stream",
          "name": "stderr",
          "text": [
            "  7%|▋         | 240/3600 [01:05<09:35,  5.84it/s]"
          ]
        },
        {
          "output_type": "stream",
          "name": "stdout",
          "text": [
            "URL inválida para el índice 238: https://a0.muscache.com/pictures/prohost-api/Hosting-7837202/original/37ec70e7-1b6c-415e-8ecf-7f8087aaca6d.jpeg\n"
          ]
        },
        {
          "output_type": "stream",
          "name": "stderr",
          "text": [
            " 10%|▉         | 344/3600 [01:34<10:59,  4.94it/s]"
          ]
        },
        {
          "output_type": "stream",
          "name": "stdout",
          "text": [
            "URL inválida para el índice 342: https://a0.muscache.com/pictures/e3f457c4-5f1a-4151-a3c8-e53f161d57fb.jpg\n"
          ]
        },
        {
          "output_type": "stream",
          "name": "stderr",
          "text": [
            " 10%|█         | 367/3600 [01:41<14:35,  3.69it/s]"
          ]
        },
        {
          "output_type": "stream",
          "name": "stdout",
          "text": [
            "URL inválida para el índice 366: https://a0.muscache.com/pictures/7fef86ac-75ff-44a3-ae8a-60639f1548eb.jpg\n"
          ]
        },
        {
          "output_type": "stream",
          "name": "stderr",
          "text": [
            " 10%|█         | 370/3600 [01:41<13:32,  3.97it/s]"
          ]
        },
        {
          "output_type": "stream",
          "name": "stdout",
          "text": [
            "URL inválida para el índice 368: https://a0.muscache.com/pictures/prohost-api/Hosting-13650313/original/1713739f-5d53-45db-aa2e-611c2098615d.jpeg\n"
          ]
        },
        {
          "output_type": "stream",
          "name": "stderr",
          "text": [
            " 11%|█         | 388/3600 [01:45<07:54,  6.76it/s]"
          ]
        },
        {
          "output_type": "stream",
          "name": "stdout",
          "text": [
            "URL inválida para el índice 387: https://a0.muscache.com/pictures/prohost-api/Hosting-14229841/original/c611eaeb-4983-4a3c-9525-fcabb3b0fbf5.jpeg\n"
          ]
        },
        {
          "output_type": "stream",
          "name": "stderr",
          "text": [
            " 12%|█▏        | 415/3600 [01:52<15:22,  3.45it/s]"
          ]
        },
        {
          "output_type": "stream",
          "name": "stdout",
          "text": [
            "URL inválida para el índice 414: https://a0.muscache.com/pictures/prohost-api/Hosting-14976039/original/30b560e4-51f7-4f35-9b4d-343aa5074bc2.jpeg\n"
          ]
        },
        {
          "output_type": "stream",
          "name": "stderr",
          "text": [
            " 12%|█▏        | 428/3600 [01:54<10:26,  5.06it/s]"
          ]
        },
        {
          "output_type": "stream",
          "name": "stdout",
          "text": [
            "URL inválida para el índice 426: https://a0.muscache.com/pictures/f805da52-3971-4361-9881-f11775636c63.jpg\n"
          ]
        },
        {
          "output_type": "stream",
          "name": "stderr",
          "text": [
            " 12%|█▏        | 434/3600 [01:57<23:50,  2.21it/s]"
          ]
        },
        {
          "output_type": "stream",
          "name": "stdout",
          "text": [
            "URL inválida para el índice 433: https://a0.muscache.com/pictures/0d0adcee-76b9-48bc-9dd7-aeca958a23a2.jpg\n"
          ]
        },
        {
          "output_type": "stream",
          "name": "stderr",
          "text": [
            " 12%|█▏        | 444/3600 [02:00<16:04,  3.27it/s]"
          ]
        },
        {
          "output_type": "stream",
          "name": "stdout",
          "text": [
            "URL inválida para el índice 443: https://a0.muscache.com/pictures/22ff0a41-874e-4723-b465-22d234d672e5.jpg\n"
          ]
        },
        {
          "output_type": "stream",
          "name": "stderr",
          "text": [
            " 13%|█▎        | 464/3600 [02:06<25:04,  2.08it/s]"
          ]
        },
        {
          "output_type": "stream",
          "name": "stdout",
          "text": [
            "URL inválida para el índice 463: https://a0.muscache.com/pictures/prohost-api/Hosting-17023481/original/c66d1dcf-8cae-4a0f-b34d-e8a9da3882ab.jpeg\n"
          ]
        },
        {
          "output_type": "stream",
          "name": "stderr",
          "text": [
            "\r 13%|█▎        | 465/3600 [02:06<20:45,  2.52it/s]"
          ]
        },
        {
          "output_type": "stream",
          "name": "stdout",
          "text": [
            "URL inválida para el índice 464: https://a0.muscache.com/pictures/prohost-api/Hosting-17042710/original/0a2e4db0-4940-4a4b-b948-11bef8ec0ed5.jpeg\n"
          ]
        },
        {
          "output_type": "stream",
          "name": "stderr",
          "text": [
            " 13%|█▎        | 483/3600 [02:11<13:44,  3.78it/s]"
          ]
        },
        {
          "output_type": "stream",
          "name": "stdout",
          "text": [
            "URL inválida para el índice 482: https://a0.muscache.com/pictures/prohost-api/Hosting-17617918/original/aa7f3f57-a69b-439a-941d-5367cf50ef7c.jpeg\n"
          ]
        },
        {
          "output_type": "stream",
          "name": "stderr",
          "text": [
            " 14%|█▎        | 494/3600 [02:14<13:38,  3.80it/s]"
          ]
        },
        {
          "output_type": "stream",
          "name": "stdout",
          "text": [
            "URL inválida para el índice 493: https://a0.muscache.com/pictures/e604dcf8-6900-4b02-9087-91eb98c1691a.jpg\n"
          ]
        },
        {
          "output_type": "stream",
          "name": "stderr",
          "text": [
            " 14%|█▍        | 501/3600 [02:16<14:10,  3.64it/s]"
          ]
        },
        {
          "output_type": "stream",
          "name": "stdout",
          "text": [
            "URL inválida para el índice 499: https://a0.muscache.com/pictures/prohost-api/Hosting-18032982/original/2c71e21b-33cd-4f6a-ae22-287cdeaedfc0.jpeg\n"
          ]
        },
        {
          "output_type": "stream",
          "name": "stderr",
          "text": [
            " 14%|█▍        | 503/3600 [02:16<13:22,  3.86it/s]"
          ]
        },
        {
          "output_type": "stream",
          "name": "stdout",
          "text": [
            "URL inválida para el índice 502: https://a0.muscache.com/pictures/miso/Hosting-18170647/original/d7c346d7-a904-4e8c-8356-4de5eb79c60f.jpeg\n"
          ]
        },
        {
          "output_type": "stream",
          "name": "stderr",
          "text": [
            " 15%|█▌        | 551/3600 [02:34<14:37,  3.48it/s]"
          ]
        },
        {
          "output_type": "stream",
          "name": "stdout",
          "text": [
            "URL inválida para el índice 550: https://a0.muscache.com/pictures/miso/Hosting-19969497/original/2a822aed-e88f-4676-b990-1a719a44c0b4.jpeg\n"
          ]
        },
        {
          "output_type": "stream",
          "name": "stderr",
          "text": [
            " 18%|█▊        | 652/3600 [03:04<13:36,  3.61it/s]"
          ]
        },
        {
          "output_type": "stream",
          "name": "stdout",
          "text": [
            "URL inválida para el índice 651: https://a0.muscache.com/pictures/aeda0be5-b9b8-48b9-ab3d-dd9053e65734.jpg\n"
          ]
        },
        {
          "output_type": "stream",
          "name": "stderr",
          "text": [
            " 19%|█▊        | 674/3600 [03:09<13:45,  3.54it/s]"
          ]
        },
        {
          "output_type": "stream",
          "name": "stdout",
          "text": [
            "URL inválida para el índice 673: https://a0.muscache.com/pictures/9ba55672-3899-4b0e-b3a2-c6c5be9c463c.jpg\n"
          ]
        },
        {
          "output_type": "stream",
          "name": "stderr",
          "text": [
            " 19%|█▉        | 678/3600 [03:10<11:32,  4.22it/s]"
          ]
        },
        {
          "output_type": "stream",
          "name": "stdout",
          "text": [
            "URL inválida para el índice 676: https://a0.muscache.com/pictures/eb441f94-0f0b-4436-943d-f3f2bf5aa164.jpg\n"
          ]
        },
        {
          "output_type": "stream",
          "name": "stderr",
          "text": [
            " 19%|█▉        | 696/3600 [03:14<10:05,  4.80it/s]"
          ]
        },
        {
          "output_type": "stream",
          "name": "stdout",
          "text": [
            "URL inválida para el índice 695: https://a0.muscache.com/pictures/43b67d11-54b2-4a2b-803e-ce693e25696e.jpg\n"
          ]
        },
        {
          "output_type": "stream",
          "name": "stderr",
          "text": [
            " 20%|█▉        | 708/3600 [03:17<09:23,  5.13it/s]"
          ]
        },
        {
          "output_type": "stream",
          "name": "stdout",
          "text": [
            "URL inválida para el índice 707: https://a0.muscache.com/pictures/75319c2e-294f-48dd-a5e8-76c5a2164d89.jpg\n"
          ]
        },
        {
          "output_type": "stream",
          "name": "stderr",
          "text": [
            " 20%|██        | 737/3600 [03:23<08:01,  5.95it/s]"
          ]
        },
        {
          "output_type": "stream",
          "name": "stdout",
          "text": [
            "URL inválida para el índice 735: https://a0.muscache.com/pictures/971baba7-a4a1-42c5-b690-b5bb8180cde2.jpg\n"
          ]
        },
        {
          "output_type": "stream",
          "name": "stderr",
          "text": [
            " 22%|██▏       | 775/3600 [03:31<09:43,  4.84it/s]"
          ]
        },
        {
          "output_type": "stream",
          "name": "stdout",
          "text": [
            "URL inválida para el índice 773: https://a0.muscache.com/pictures/prohost-api/Hosting-28360335/original/c8d8cd53-ed9e-4831-ba48-a838f2ac2bcf.jpeg\n"
          ]
        },
        {
          "output_type": "stream",
          "name": "stderr",
          "text": [
            " 23%|██▎       | 811/3600 [03:40<09:43,  4.78it/s]"
          ]
        },
        {
          "output_type": "stream",
          "name": "stdout",
          "text": [
            "URL inválida para el índice 809: https://a0.muscache.com/pictures/pro_photo_tool/Hosting-29682500-unapproved/original/9b8998d9-840b-46b1-a25e-4789ff346f20.JPEG\n",
            "URL inválida para el índice 810: https://a0.muscache.com/pictures/prohost-api/Hosting-29702825/original/32a037b0-43f1-4954-946b-9d1364829d04.jpeg\n"
          ]
        },
        {
          "output_type": "stream",
          "name": "stderr",
          "text": [
            " 23%|██▎       | 827/3600 [03:43<08:12,  5.63it/s]"
          ]
        },
        {
          "output_type": "stream",
          "name": "stdout",
          "text": [
            "URL inválida para el índice 825: https://a0.muscache.com/pictures/48c10d62-5750-4364-9e3a-54439983cb6b.jpg\n"
          ]
        },
        {
          "output_type": "stream",
          "name": "stderr",
          "text": [
            "\r 23%|██▎       | 828/3600 [03:43<08:21,  5.53it/s]"
          ]
        },
        {
          "output_type": "stream",
          "name": "stdout",
          "text": [
            "URL inválida para el índice 827: https://a0.muscache.com/pictures/9a56c86d-d5f3-4737-a658-1fd9885e8d61.jpg\n"
          ]
        },
        {
          "output_type": "stream",
          "name": "stderr",
          "text": [
            " 23%|██▎       | 832/3600 [03:45<12:13,  3.77it/s]"
          ]
        },
        {
          "output_type": "stream",
          "name": "stdout",
          "text": [
            "URL inválida para el índice 831: https://a0.muscache.com/pictures/prohost-api/Hosting-30390378/original/244ec1dc-2c48-4e5e-84cf-fb57110e4bc7.jpeg\n"
          ]
        },
        {
          "output_type": "stream",
          "name": "stderr",
          "text": [
            "\r 23%|██▎       | 833/3600 [03:45<11:31,  4.00it/s]"
          ]
        },
        {
          "output_type": "stream",
          "name": "stdout",
          "text": [
            "URL inválida para el índice 832: https://a0.muscache.com/pictures/prohost-api/Hosting-30397078/original/337887d6-4c7c-4550-9f1f-5e4ee671b8f6.jpeg\n"
          ]
        },
        {
          "output_type": "stream",
          "name": "stderr",
          "text": [
            " 23%|██▎       | 836/3600 [03:46<11:41,  3.94it/s]"
          ]
        },
        {
          "output_type": "stream",
          "name": "stdout",
          "text": [
            "URL inválida para el índice 835: https://a0.muscache.com/pictures/prohost-api/Hosting-30516467/original/57a80027-7bdb-4fac-a4dd-5656631425d0.jpeg\n"
          ]
        },
        {
          "output_type": "stream",
          "name": "stderr",
          "text": [
            " 24%|██▎       | 847/3600 [03:48<08:56,  5.13it/s]"
          ]
        },
        {
          "output_type": "stream",
          "name": "stdout",
          "text": [
            "URL inválida para el índice 846: https://a0.muscache.com/pictures/2ce1fe90-fb8f-4136-afcd-6ecb91a3a624.jpg\n"
          ]
        },
        {
          "output_type": "stream",
          "name": "stderr",
          "text": [
            " 24%|██▍       | 863/3600 [03:52<09:27,  4.82it/s]"
          ]
        },
        {
          "output_type": "stream",
          "name": "stdout",
          "text": [
            "URL inválida para el índice 862: https://a0.muscache.com/pictures/miso/Hosting-32330465/original/7e2aa39c-61d9-41d8-97aa-393ee35fade9.png\n"
          ]
        },
        {
          "output_type": "stream",
          "name": "stderr",
          "text": [
            "\r 24%|██▍       | 864/3600 [03:53<10:09,  4.49it/s]"
          ]
        },
        {
          "output_type": "stream",
          "name": "stdout",
          "text": [
            "URL inválida para el índice 863: https://a0.muscache.com/pictures/b848723a-0ed9-4b49-8c84-9d7eb14ce088.jpg\n"
          ]
        },
        {
          "output_type": "stream",
          "name": "stderr",
          "text": [
            " 25%|██▍       | 884/3600 [03:56<08:11,  5.52it/s]"
          ]
        },
        {
          "output_type": "stream",
          "name": "stdout",
          "text": [
            "URL inválida para el índice 882: https://a0.muscache.com/pictures/prohost-api/Hosting-33196944/original/bb6a5cd0-7ee6-4465-824d-cd4cb0c5d652.jpeg\n"
          ]
        },
        {
          "output_type": "stream",
          "name": "stderr",
          "text": [
            " 25%|██▍       | 893/3600 [03:58<07:19,  6.16it/s]"
          ]
        },
        {
          "output_type": "stream",
          "name": "stdout",
          "text": [
            "URL inválida para el índice 892: https://a0.muscache.com/pictures/prohost-api/Hosting-33439464/original/97081848-d2c3-47e1-8647-ac8af1c3f6dc.jpeg\n"
          ]
        },
        {
          "output_type": "stream",
          "name": "stderr",
          "text": [
            "\r 25%|██▍       | 894/3600 [03:58<09:03,  4.98it/s]"
          ]
        },
        {
          "output_type": "stream",
          "name": "stdout",
          "text": [
            "URL inválida para el índice 893: https://a0.muscache.com/pictures/prohost-api/Hosting-33440102/original/9c6d9fa6-c962-4f7c-b69f-898bdd560ea4.jpeg\n"
          ]
        },
        {
          "output_type": "stream",
          "name": "stderr",
          "text": [
            " 25%|██▍       | 897/3600 [03:59<09:13,  4.89it/s]"
          ]
        },
        {
          "output_type": "stream",
          "name": "stdout",
          "text": [
            "URL inválida para el índice 896: https://a0.muscache.com/pictures/a8cdc116-e934-4b9f-b8f2-91b8d69343b9.jpg\n"
          ]
        },
        {
          "output_type": "stream",
          "name": "stderr",
          "text": [
            " 25%|██▌       | 909/3600 [04:01<08:15,  5.43it/s]"
          ]
        },
        {
          "output_type": "stream",
          "name": "stdout",
          "text": [
            "URL inválida para el índice 907: https://a0.muscache.com/pictures/prohost-api/Hosting-34133759/original/1dc53195-b06f-4fed-a860-92e1718bdccb.jpeg\n"
          ]
        },
        {
          "output_type": "stream",
          "name": "stderr",
          "text": [
            " 26%|██▌       | 920/3600 [04:03<08:25,  5.30it/s]"
          ]
        },
        {
          "output_type": "stream",
          "name": "stdout",
          "text": [
            "URL inválida para el índice 918: https://a0.muscache.com/pictures/prohost-api/Hosting-34974052/original/80db035e-1445-4ce8-8314-e9175130884b.jpeg\n"
          ]
        },
        {
          "output_type": "stream",
          "name": "stderr",
          "text": [
            " 26%|██▌       | 933/3600 [04:06<09:50,  4.52it/s]"
          ]
        },
        {
          "output_type": "stream",
          "name": "stdout",
          "text": [
            "URL inválida para el índice 932: https://a0.muscache.com/pictures/prohost-api/Hosting-35481543/original/38658947-e448-49ca-b0b2-607429f1b5b0.jpeg\n"
          ]
        },
        {
          "output_type": "stream",
          "name": "stderr",
          "text": [
            " 27%|██▋       | 980/3600 [04:15<08:43,  5.00it/s]"
          ]
        },
        {
          "output_type": "stream",
          "name": "stdout",
          "text": [
            "URL inválida para el índice 978: https://a0.muscache.com/pictures/prohost-api/Hosting-37068313/original/c51bac91-f35e-4e1e-bb88-07934499bfdd.jpeg\n"
          ]
        },
        {
          "output_type": "stream",
          "name": "stderr",
          "text": [
            " 27%|██▋       | 987/3600 [04:17<12:30,  3.48it/s]"
          ]
        },
        {
          "output_type": "stream",
          "name": "stdout",
          "text": [
            "URL inválida para el índice 986: https://a0.muscache.com/pictures/prohost-api/Hosting-37709158/original/09489cb1-f4c7-436f-a7e8-018a7079c658.jpeg\n"
          ]
        },
        {
          "output_type": "stream",
          "name": "stderr",
          "text": [
            " 28%|██▊       | 1006/3600 [04:22<11:25,  3.79it/s]"
          ]
        },
        {
          "output_type": "stream",
          "name": "stdout",
          "text": [
            "URL inválida para el índice 1004: https://a0.muscache.com/pictures/prohost-api/Hosting-38178173/original/e1b494b8-9fc3-466a-8789-9d3afa032807.jpeg\n",
            "URL inválida para el índice 1005: https://a0.muscache.com/pictures/prohost-api/Hosting-38274887/original/ee5fb630-9250-4f85-b0e7-794619ceedf6.jpeg\n"
          ]
        },
        {
          "output_type": "stream",
          "name": "stderr",
          "text": [
            " 28%|██▊       | 1016/3600 [04:24<07:46,  5.54it/s]"
          ]
        },
        {
          "output_type": "stream",
          "name": "stdout",
          "text": [
            "URL inválida para el índice 1014: https://a0.muscache.com/pictures/prohost-api/Hosting-38513768/original/43b5f7ad-a3a1-4019-993f-c5ebe3168d59.jpeg\n"
          ]
        },
        {
          "output_type": "stream",
          "name": "stderr",
          "text": [
            " 29%|██▉       | 1038/3600 [04:28<06:57,  6.14it/s]"
          ]
        },
        {
          "output_type": "stream",
          "name": "stdout",
          "text": [
            "URL inválida para el índice 1037: https://a0.muscache.com/pictures/miso/Hosting-39536784/original/d1c26658-a946-468a-9a39-c6a3dfb23691.jpeg\n"
          ]
        },
        {
          "output_type": "stream",
          "name": "stderr",
          "text": [
            " 29%|██▉       | 1051/3600 [04:30<08:52,  4.79it/s]"
          ]
        },
        {
          "output_type": "stream",
          "name": "stdout",
          "text": [
            "URL inválida para el índice 1049: https://a0.muscache.com/pictures/prohost-api/Hosting-39908091/original/17a09417-8eab-48b1-a21b-904f1837e84f.jpeg\n"
          ]
        },
        {
          "output_type": "stream",
          "name": "stderr",
          "text": [
            " 30%|██▉       | 1065/3600 [04:33<07:24,  5.70it/s]"
          ]
        },
        {
          "output_type": "stream",
          "name": "stdout",
          "text": [
            "URL inválida para el índice 1063: https://a0.muscache.com/pictures/prohost-api/Hosting-40423797/original/374a8e77-d840-480b-ba94-51b8d7337e0c.jpeg\n"
          ]
        },
        {
          "output_type": "stream",
          "name": "stderr",
          "text": [
            " 30%|██▉       | 1076/3600 [04:35<08:31,  4.94it/s]"
          ]
        },
        {
          "output_type": "stream",
          "name": "stdout",
          "text": [
            "URL inválida para el índice 1075: https://a0.muscache.com/pictures/miso/Hosting-40617998/original/6c9424ed-eaca-433f-9099-a9c9782dea58.jpeg\n"
          ]
        },
        {
          "output_type": "stream",
          "name": "stderr",
          "text": [
            " 30%|███       | 1093/3600 [04:39<08:38,  4.83it/s]"
          ]
        },
        {
          "output_type": "stream",
          "name": "stdout",
          "text": [
            "URL inválida para el índice 1091: https://a0.muscache.com/pictures/prohost-api/Hosting-41102403/original/da9a9606-9604-4c01-b3ea-c1a3670b78e5.jpeg\n",
            "URL inválida para el índice 1092: https://a0.muscache.com/pictures/prohost-api/Hosting-41102476/original/04617580-6650-48c9-8e4c-c00f54156a8c.jpeg\n"
          ]
        },
        {
          "output_type": "stream",
          "name": "stderr",
          "text": [
            " 31%|███       | 1103/3600 [04:41<07:13,  5.76it/s]"
          ]
        },
        {
          "output_type": "stream",
          "name": "stdout",
          "text": [
            "URL inválida para el índice 1102: https://a0.muscache.com/pictures/2d4d9af2-32eb-4fdd-8ce7-f2b5bdc94853.jpg\n"
          ]
        },
        {
          "output_type": "stream",
          "name": "stderr",
          "text": [
            " 31%|███       | 1106/3600 [04:42<08:47,  4.73it/s]"
          ]
        },
        {
          "output_type": "stream",
          "name": "stdout",
          "text": [
            "URL inválida para el índice 1105: https://a0.muscache.com/pictures/ee7985b8-9db3-4c5c-9143-b1ff052dd862.jpg\n"
          ]
        },
        {
          "output_type": "stream",
          "name": "stderr",
          "text": [
            " 31%|███       | 1108/3600 [04:42<08:39,  4.79it/s]"
          ]
        },
        {
          "output_type": "stream",
          "name": "stdout",
          "text": [
            "URL inválida para el índice 1106: https://a0.muscache.com/pictures/prohost-api/Hosting-41785374/original/61a91ae7-d44c-4914-8abd-db076afedf4f.jpeg\n",
            "URL inválida para el índice 1107: https://a0.muscache.com/pictures/prohost-api/Hosting-41785889/original/8f975c1d-488b-432e-81ee-cdb79c1c02aa.jpeg\n"
          ]
        },
        {
          "output_type": "stream",
          "name": "stderr",
          "text": [
            " 31%|███       | 1110/3600 [04:43<08:45,  4.74it/s]"
          ]
        },
        {
          "output_type": "stream",
          "name": "stdout",
          "text": [
            "URL inválida para el índice 1109: https://a0.muscache.com/pictures/prohost-api/Hosting-41903226/original/7a269ac9-2f1b-4602-8bdf-4ff24a9a6777.jpeg\n"
          ]
        },
        {
          "output_type": "stream",
          "name": "stderr",
          "text": [
            "\r 31%|███       | 1112/3600 [04:43<07:07,  5.83it/s]"
          ]
        },
        {
          "output_type": "stream",
          "name": "stdout",
          "text": [
            "URL inválida para el índice 1111: https://a0.muscache.com/pictures/prohost-api/Hosting-41925155/original/2ea402f5-82d2-4893-99cf-0d6ceca7f403.jpeg\n"
          ]
        },
        {
          "output_type": "stream",
          "name": "stderr",
          "text": [
            " 31%|███       | 1116/3600 [04:44<06:29,  6.38it/s]"
          ]
        },
        {
          "output_type": "stream",
          "name": "stdout",
          "text": [
            "URL inválida para el índice 1114: https://a0.muscache.com/pictures/prohost-api/Hosting-41953347/original/920668ea-3248-402a-a2f4-e85a90c92ca1.jpeg\n",
            "URL inválida para el índice 1115: https://a0.muscache.com/pictures/prohost-api/Hosting-41953381/original/1dfc0495-f723-4331-8a89-4ac4d88edd0c.jpeg\n"
          ]
        },
        {
          "output_type": "stream",
          "name": "stderr",
          "text": [
            " 31%|███       | 1121/3600 [04:45<07:17,  5.66it/s]"
          ]
        },
        {
          "output_type": "stream",
          "name": "stdout",
          "text": [
            "URL inválida para el índice 1120: https://a0.muscache.com/pictures/prohost-api/Hosting-42080174/original/70a61753-d83a-4323-b5be-66365f32d0af.jpeg\n"
          ]
        },
        {
          "output_type": "stream",
          "name": "stderr",
          "text": [
            "\r 31%|███       | 1122/3600 [04:45<07:50,  5.27it/s]"
          ]
        },
        {
          "output_type": "stream",
          "name": "stdout",
          "text": [
            "URL inválida para el índice 1121: https://a0.muscache.com/pictures/prohost-api/Hosting-42080205/original/180c0cef-eb46-4641-a6be-71872fc644ee.jpeg\n"
          ]
        },
        {
          "output_type": "stream",
          "name": "stderr",
          "text": [
            "\r 31%|███       | 1123/3600 [04:45<08:37,  4.78it/s]"
          ]
        },
        {
          "output_type": "stream",
          "name": "stdout",
          "text": [
            "URL inválida para el índice 1122: https://a0.muscache.com/pictures/prohost-api/Hosting-42195053/original/66a57514-4d25-4268-815b-68465adc5717.jpeg\n"
          ]
        },
        {
          "output_type": "stream",
          "name": "stderr",
          "text": [
            " 32%|███▏      | 1135/3600 [04:48<08:52,  4.63it/s]"
          ]
        },
        {
          "output_type": "stream",
          "name": "stdout",
          "text": [
            "URL inválida para el índice 1133: https://a0.muscache.com/pictures/prohost-api/Hosting-42708089/original/63e58680-832d-47de-b782-380659efda4c.jpeg\n",
            "URL inválida para el índice 1134: https://a0.muscache.com/pictures/prohost-api/Hosting-42708127/original/91eae4b5-4a53-444e-bbe9-db37ae477471.jpeg\n"
          ]
        },
        {
          "output_type": "stream",
          "name": "stderr",
          "text": [
            " 32%|███▏      | 1138/3600 [04:48<06:10,  6.64it/s]"
          ]
        },
        {
          "output_type": "stream",
          "name": "stdout",
          "text": [
            "URL inválida para el índice 1135: https://a0.muscache.com/pictures/prohost-api/Hosting-42708174/original/250bd918-a4d8-46d0-8bc9-e9a46413ec41.jpeg\n"
          ]
        },
        {
          "output_type": "stream",
          "name": "stderr",
          "text": [
            " 32%|███▏      | 1141/3600 [04:49<06:22,  6.43it/s]"
          ]
        },
        {
          "output_type": "stream",
          "name": "stdout",
          "text": [
            "URL inválida para el índice 1139: https://a0.muscache.com/pictures/miso/Hosting-42774598/original/73da70dc-380f-4d53-b7b3-755c0f255305.png\n"
          ]
        },
        {
          "output_type": "stream",
          "name": "stderr",
          "text": [
            " 32%|███▏      | 1157/3600 [04:52<09:38,  4.23it/s]"
          ]
        },
        {
          "output_type": "stream",
          "name": "stdout",
          "text": [
            "URL inválida para el índice 1156: https://a0.muscache.com/pictures/prohost-api/Hosting-43032465/original/28381099-f671-4471-8727-9e8084e47d4f.jpeg\n"
          ]
        },
        {
          "output_type": "stream",
          "name": "stderr",
          "text": [
            " 32%|███▏      | 1160/3600 [04:52<06:57,  5.85it/s]"
          ]
        },
        {
          "output_type": "stream",
          "name": "stdout",
          "text": [
            "URL inválida para el índice 1157: https://a0.muscache.com/pictures/prohost-api/Hosting-43032495/original/58abc83b-2b8c-4176-9d7c-5bf91b42c49f.jpeg\n"
          ]
        },
        {
          "output_type": "stream",
          "name": "stderr",
          "text": [
            " 32%|███▏      | 1165/3600 [04:53<08:12,  4.94it/s]"
          ]
        },
        {
          "output_type": "stream",
          "name": "stdout",
          "text": [
            "URL inválida para el índice 1163: https://a0.muscache.com/pictures/prohost-api/Hosting-43121210/original/5f99a7da-d07c-43a4-8e67-92a31abe9695.jpeg\n"
          ]
        },
        {
          "output_type": "stream",
          "name": "stderr",
          "text": [
            " 33%|███▎      | 1172/3600 [04:54<09:10,  4.41it/s]"
          ]
        },
        {
          "output_type": "stream",
          "name": "stdout",
          "text": [
            "URL inválida para el índice 1170: https://a0.muscache.com/pictures/prohost-api/Hosting-43301136/original/373cca92-f25a-4d44-a5cb-c2e3c253e2d3.jpeg\n"
          ]
        },
        {
          "output_type": "stream",
          "name": "stderr",
          "text": [
            " 33%|███▎      | 1187/3600 [04:57<07:31,  5.35it/s]"
          ]
        },
        {
          "output_type": "stream",
          "name": "stdout",
          "text": [
            "URL inválida para el índice 1185: https://a0.muscache.com/pictures/prohost-api/Hosting-43921666/original/ff08f5f6-d1dd-435e-af2e-c7917dfcdc7d.jpeg\n"
          ]
        },
        {
          "output_type": "stream",
          "name": "stderr",
          "text": [
            " 33%|███▎      | 1191/3600 [04:58<07:42,  5.20it/s]"
          ]
        },
        {
          "output_type": "stream",
          "name": "stdout",
          "text": [
            "URL inválida para el índice 1189: https://a0.muscache.com/pictures/prohost-api/Hosting-44053258/original/48655a82-a536-465e-925a-b901943762e2.jpeg\n"
          ]
        },
        {
          "output_type": "stream",
          "name": "stderr",
          "text": [
            " 33%|███▎      | 1195/3600 [04:59<12:33,  3.19it/s]"
          ]
        },
        {
          "output_type": "stream",
          "name": "stdout",
          "text": [
            "URL inválida para el índice 1194: https://a0.muscache.com/pictures/prohost-api/Hosting-44242670/original/4b69e1a9-8664-4b90-a9f9-cd0a966df453.jpeg\n"
          ]
        },
        {
          "output_type": "stream",
          "name": "stderr",
          "text": [
            " 33%|███▎      | 1202/3600 [05:00<08:36,  4.64it/s]"
          ]
        },
        {
          "output_type": "stream",
          "name": "stdout",
          "text": [
            "URL inválida para el índice 1201: https://a0.muscache.com/pictures/prohost-api/Hosting-44776954/original/e20fbcfe-fd7e-48a4-9237-71d69f4d207f.jpeg\n"
          ]
        },
        {
          "output_type": "stream",
          "name": "stderr",
          "text": [
            "\r 33%|███▎      | 1203/3600 [05:01<08:34,  4.65it/s]"
          ]
        },
        {
          "output_type": "stream",
          "name": "stdout",
          "text": [
            "URL inválida para el índice 1202: https://a0.muscache.com/pictures/prohost-api/Hosting-44776967/original/22009d99-ee7d-44ee-b6a5-e3d47e1dbf8a.jpeg\n"
          ]
        },
        {
          "output_type": "stream",
          "name": "stderr",
          "text": [
            " 34%|███▎      | 1207/3600 [05:01<07:02,  5.66it/s]"
          ]
        },
        {
          "output_type": "stream",
          "name": "stdout",
          "text": [
            "URL inválida para el índice 1206: https://a0.muscache.com/pictures/miso/Hosting-45031773/original/786af0d4-0eb3-4608-a4a3-895bc73c8fc7.jpeg\n"
          ]
        },
        {
          "output_type": "stream",
          "name": "stderr",
          "text": [
            "\r 34%|███▎      | 1208/3600 [05:02<08:26,  4.72it/s]"
          ]
        },
        {
          "output_type": "stream",
          "name": "stdout",
          "text": [
            "URL inválida para el índice 1207: https://a0.muscache.com/pictures/miso/Hosting-45067711/original/54d23f39-6e1c-4118-8d0f-fcb82c101863.jpeg\n"
          ]
        },
        {
          "output_type": "stream",
          "name": "stderr",
          "text": [
            " 34%|███▎      | 1210/3600 [05:02<09:08,  4.36it/s]"
          ]
        },
        {
          "output_type": "stream",
          "name": "stdout",
          "text": [
            "URL inválida para el índice 1209: https://a0.muscache.com/pictures/prohost-api/Hosting-45095953/original/e530a1ff-ca52-4a5e-a210-2536b4d4678a.jpeg\n"
          ]
        },
        {
          "output_type": "stream",
          "name": "stderr",
          "text": [
            "\r 34%|███▎      | 1211/3600 [05:02<08:52,  4.49it/s]"
          ]
        },
        {
          "output_type": "stream",
          "name": "stdout",
          "text": [
            "URL inválida para el índice 1210: https://a0.muscache.com/pictures/prohost-api/Hosting-45096003/original/0c468432-5000-4423-97b2-5afda54e34f8.jpeg\n"
          ]
        },
        {
          "output_type": "stream",
          "name": "stderr",
          "text": [
            " 34%|███▎      | 1213/3600 [05:03<08:23,  4.74it/s]"
          ]
        },
        {
          "output_type": "stream",
          "name": "stdout",
          "text": [
            "URL inválida para el índice 1211: https://a0.muscache.com/pictures/prohost-api/Hosting-45096017/original/552d794b-b07e-4a21-a7b4-4e513fc2e6b9.jpeg\n",
            "URL inválida para el índice 1212: https://a0.muscache.com/pictures/miso/Hosting-45112213/original/23220062-1037-4561-b0ff-fa9806e04863.jpeg\n"
          ]
        },
        {
          "output_type": "stream",
          "name": "stderr",
          "text": [
            " 34%|███▍      | 1215/3600 [05:03<11:42,  3.40it/s]"
          ]
        },
        {
          "output_type": "stream",
          "name": "stdout",
          "text": [
            "URL inválida para el índice 1214: https://a0.muscache.com/pictures/miso/Hosting-45136082/original/9d67ada5-de07-480a-a9fa-ceb0bac7f088.jpeg\n"
          ]
        },
        {
          "output_type": "stream",
          "name": "stderr",
          "text": [
            " 34%|███▍      | 1227/3600 [05:07<15:02,  2.63it/s]"
          ]
        },
        {
          "output_type": "stream",
          "name": "stdout",
          "text": [
            "URL inválida para el índice 1226: https://a0.muscache.com/pictures/246931ce-1d84-484a-bde7-4ee607f5d48e.jpg\n"
          ]
        },
        {
          "output_type": "stream",
          "name": "stderr",
          "text": [
            "\r 34%|███▍      | 1228/3600 [05:08<13:42,  2.88it/s]"
          ]
        },
        {
          "output_type": "stream",
          "name": "stdout",
          "text": [
            "URL inválida para el índice 1227: https://a0.muscache.com/pictures/prohost-api/Hosting-45443503/original/72ca2b6e-9420-4c81-856d-f3c4ec4cb6f8.jpeg\n"
          ]
        },
        {
          "output_type": "stream",
          "name": "stderr",
          "text": [
            " 34%|███▍      | 1233/3600 [05:09<09:15,  4.26it/s]"
          ]
        },
        {
          "output_type": "stream",
          "name": "stdout",
          "text": [
            "URL inválida para el índice 1231: https://a0.muscache.com/pictures/prohost-api/Hosting-45494260/original/245b92de-7b7d-4225-ae48-1b2321a8a501.jpeg\n",
            "URL inválida para el índice 1232: https://a0.muscache.com/pictures/miso/Hosting-45501019/original/de13720d-7458-4897-b812-10c014117d01.png\n"
          ]
        },
        {
          "output_type": "stream",
          "name": "stderr",
          "text": [
            " 34%|███▍      | 1239/3600 [05:10<10:44,  3.67it/s]"
          ]
        },
        {
          "output_type": "stream",
          "name": "stdout",
          "text": [
            "URL inválida para el índice 1238: https://a0.muscache.com/pictures/prohost-api/Hosting-45539765/original/6ae8c686-fc70-4705-afc5-ef9177681289.jpeg\n"
          ]
        },
        {
          "output_type": "stream",
          "name": "stderr",
          "text": [
            " 35%|███▍      | 1249/3600 [05:13<07:58,  4.91it/s]"
          ]
        },
        {
          "output_type": "stream",
          "name": "stdout",
          "text": [
            "URL inválida para el índice 1247: https://a0.muscache.com/pictures/prohost-api/Hosting-45679998/original/2189dde9-1660-43fd-9f83-6b3b5cd0eec3.jpeg\n",
            "URL inválida para el índice 1248: https://a0.muscache.com/pictures/prohost-api/Hosting-45680010/original/c72ecce3-1fb0-4918-b50f-06df412d1f31.jpeg\n"
          ]
        },
        {
          "output_type": "stream",
          "name": "stderr",
          "text": [
            "\r 35%|███▍      | 1250/3600 [05:13<08:38,  4.53it/s]"
          ]
        },
        {
          "output_type": "stream",
          "name": "stdout",
          "text": [
            "URL inválida para el índice 1249: https://a0.muscache.com/pictures/prohost-api/Hosting-45680018/original/a60994d1-69e5-4aa8-adfb-e5a05ffeec5c.jpeg\n"
          ]
        },
        {
          "output_type": "stream",
          "name": "stderr",
          "text": [
            "\r 35%|███▍      | 1251/3600 [05:13<09:00,  4.34it/s]"
          ]
        },
        {
          "output_type": "stream",
          "name": "stdout",
          "text": [
            "URL inválida para el índice 1250: https://a0.muscache.com/pictures/prohost-api/Hosting-45680039/original/ddeaafff-825d-41b2-ae9e-f6f620020533.jpeg\n"
          ]
        },
        {
          "output_type": "stream",
          "name": "stderr",
          "text": [
            "\r 35%|███▍      | 1252/3600 [05:14<08:48,  4.44it/s]"
          ]
        },
        {
          "output_type": "stream",
          "name": "stdout",
          "text": [
            "URL inválida para el índice 1251: https://a0.muscache.com/pictures/prohost-api/Hosting-45689038/original/c43dfacc-5def-4e24-a109-ad5de07a2f87.jpeg\n"
          ]
        },
        {
          "output_type": "stream",
          "name": "stderr",
          "text": [
            " 35%|███▍      | 1254/3600 [05:14<09:13,  4.24it/s]"
          ]
        },
        {
          "output_type": "stream",
          "name": "stdout",
          "text": [
            "URL inválida para el índice 1252: https://a0.muscache.com/pictures/prohost-api/Hosting-45689053/original/5e267cf5-62f5-48ce-9f0d-aa460713e441.jpeg\n",
            "URL inválida para el índice 1253: https://a0.muscache.com/pictures/prohost-api/Hosting-45689060/original/51ab7ef4-cd4b-4133-96a9-88a0f4f6b238.jpeg\n"
          ]
        },
        {
          "output_type": "stream",
          "name": "stderr",
          "text": [
            "\r 35%|███▍      | 1255/3600 [05:15<10:42,  3.65it/s]"
          ]
        },
        {
          "output_type": "stream",
          "name": "stdout",
          "text": [
            "URL inválida para el índice 1254: https://a0.muscache.com/pictures/prohost-api/Hosting-45689110/original/cf17e677-1be1-4046-9336-3d2e0d465310.jpeg\n"
          ]
        },
        {
          "output_type": "stream",
          "name": "stderr",
          "text": [
            " 35%|███▍      | 1257/3600 [05:15<09:24,  4.15it/s]"
          ]
        },
        {
          "output_type": "stream",
          "name": "stdout",
          "text": [
            "URL inválida para el índice 1255: https://a0.muscache.com/pictures/prohost-api/Hosting-45689125/original/bf18064a-e844-46f9-8c3d-641e4c86950d.jpeg\n"
          ]
        },
        {
          "output_type": "stream",
          "name": "stderr",
          "text": [
            " 35%|███▌      | 1263/3600 [05:16<08:44,  4.46it/s]"
          ]
        },
        {
          "output_type": "stream",
          "name": "stdout",
          "text": [
            "URL inválida para el índice 1260: https://a0.muscache.com/pictures/miso/Hosting-45844741/original/2ebd7146-447a-43ad-a296-3a28eeb59c0e.jpeg\n"
          ]
        },
        {
          "output_type": "stream",
          "name": "stderr",
          "text": [
            " 35%|███▌      | 1266/3600 [05:17<08:59,  4.33it/s]"
          ]
        },
        {
          "output_type": "stream",
          "name": "stdout",
          "text": [
            "URL inválida para el índice 1264: https://a0.muscache.com/pictures/prohost-api/Hosting-45999950/original/ea2aeb8d-fbb5-4e6a-9dd2-4e1dac7ef52f.jpeg\n",
            "URL inválida para el índice 1265: https://a0.muscache.com/pictures/prohost-api/Hosting-46000223/original/27fd39ae-6eab-4143-bd24-d81504173816.jpeg\n"
          ]
        },
        {
          "output_type": "stream",
          "name": "stderr",
          "text": [
            "\r 35%|███▌      | 1267/3600 [05:17<08:25,  4.61it/s]"
          ]
        },
        {
          "output_type": "stream",
          "name": "stdout",
          "text": [
            "URL inválida para el índice 1266: https://a0.muscache.com/pictures/miso/Hosting-46051711/original/b072612e-50cd-49d1-9a8d-87ed25838c08.jpeg\n"
          ]
        },
        {
          "output_type": "stream",
          "name": "stderr",
          "text": [
            "\r 35%|███▌      | 1268/3600 [05:18<08:51,  4.39it/s]"
          ]
        },
        {
          "output_type": "stream",
          "name": "stdout",
          "text": [
            "URL inválida para el índice 1267: https://a0.muscache.com/pictures/prohost-api/Hosting-46074220/original/8d519bd3-3811-48ab-81e8-eff68799db92.jpeg\n"
          ]
        },
        {
          "output_type": "stream",
          "name": "stderr",
          "text": [
            "\r 35%|███▌      | 1269/3600 [05:18<10:11,  3.81it/s]"
          ]
        },
        {
          "output_type": "stream",
          "name": "stdout",
          "text": [
            "URL inválida para el índice 1268: https://a0.muscache.com/pictures/prohost-api/Hosting-46074729/original/3ef2e84a-aafe-4f1e-b346-99ecf6f1f5f2.jpeg\n"
          ]
        },
        {
          "output_type": "stream",
          "name": "stderr",
          "text": [
            "\r 35%|███▌      | 1270/3600 [05:19<12:13,  3.17it/s]"
          ]
        },
        {
          "output_type": "stream",
          "name": "stdout",
          "text": [
            "URL inválida para el índice 1269: https://a0.muscache.com/pictures/prohost-api/Hosting-46074742/original/5748e678-10d5-401b-af05-df788934f705.jpeg\n"
          ]
        },
        {
          "output_type": "stream",
          "name": "stderr",
          "text": [
            " 35%|███▌      | 1273/3600 [05:19<10:04,  3.85it/s]"
          ]
        },
        {
          "output_type": "stream",
          "name": "stdout",
          "text": [
            "URL inválida para el índice 1271: https://a0.muscache.com/pictures/prohost-api/Hosting-46085675/original/1d4604ad-47a4-4c9c-b844-40acd434fb3f.jpeg\n"
          ]
        },
        {
          "output_type": "stream",
          "name": "stderr",
          "text": [
            " 35%|███▌      | 1277/3600 [05:21<11:12,  3.46it/s]"
          ]
        },
        {
          "output_type": "stream",
          "name": "stdout",
          "text": [
            "URL inválida para el índice 1275: https://a0.muscache.com/pictures/56a7aa37-27a0-4247-ae7e-221ee644f389.jpg\n",
            "URL inválida para el índice 1276: https://a0.muscache.com/pictures/miso/Hosting-46330627/original/a575814a-418e-4fd4-a783-b4eca2817921.jpeg\n"
          ]
        },
        {
          "output_type": "stream",
          "name": "stderr",
          "text": [
            " 36%|███▌      | 1284/3600 [05:22<05:48,  6.64it/s]"
          ]
        },
        {
          "output_type": "stream",
          "name": "stdout",
          "text": [
            "URL inválida para el índice 1281: https://a0.muscache.com/pictures/prohost-api/Hosting-46445272/original/bdf6198d-01b9-4988-a99a-231d4e53782d.jpeg\n"
          ]
        },
        {
          "output_type": "stream",
          "name": "stderr",
          "text": [
            " 36%|███▌      | 1290/3600 [05:23<06:51,  5.62it/s]"
          ]
        },
        {
          "output_type": "stream",
          "name": "stdout",
          "text": [
            "URL inválida para el índice 1288: https://a0.muscache.com/pictures/prohost-api/Hosting-46576175/original/653c8eb1-d0fd-4d68-8e88-5b4898d32d98.jpeg\n",
            "URL inválida para el índice 1289: https://a0.muscache.com/pictures/0826a430-939b-4a43-aa90-5e682f215465.jpg\n"
          ]
        },
        {
          "output_type": "stream",
          "name": "stderr",
          "text": [
            " 36%|███▌      | 1292/3600 [05:23<06:38,  5.79it/s]"
          ]
        },
        {
          "output_type": "stream",
          "name": "stdout",
          "text": [
            "URL inválida para el índice 1291: https://a0.muscache.com/pictures/prohost-api/Hosting-46602042/original/8a77cfa9-d271-4e7d-a98f-03d1c8abbd8b.jpeg\n"
          ]
        },
        {
          "output_type": "stream",
          "name": "stderr",
          "text": [
            "\r 36%|███▌      | 1293/3600 [05:23<07:15,  5.30it/s]"
          ]
        },
        {
          "output_type": "stream",
          "name": "stdout",
          "text": [
            "URL inválida para el índice 1292: https://a0.muscache.com/pictures/miso/Hosting-46696466/original/0ea7e189-c6df-4717-b1e4-2a5d32d01fa1.jpeg\n"
          ]
        },
        {
          "output_type": "stream",
          "name": "stderr",
          "text": [
            "\r 36%|███▌      | 1294/3600 [05:24<07:44,  4.96it/s]"
          ]
        },
        {
          "output_type": "stream",
          "name": "stdout",
          "text": [
            "URL inválida para el índice 1293: https://a0.muscache.com/pictures/miso/Hosting-46697368/original/7c297348-caf3-4d1e-8d70-41b1ad9b86e7.jpeg\n"
          ]
        },
        {
          "output_type": "stream",
          "name": "stderr",
          "text": [
            "\r 36%|███▌      | 1295/3600 [05:24<09:20,  4.11it/s]"
          ]
        },
        {
          "output_type": "stream",
          "name": "stdout",
          "text": [
            "URL inválida para el índice 1294: https://a0.muscache.com/pictures/prohost-api/Hosting-46730228/original/b49d9f80-2bbc-42ad-aef8-dcc9d4ad8c6d.jpeg\n"
          ]
        },
        {
          "output_type": "stream",
          "name": "stderr",
          "text": [
            " 36%|███▌      | 1297/3600 [05:24<09:19,  4.11it/s]"
          ]
        },
        {
          "output_type": "stream",
          "name": "stdout",
          "text": [
            "URL inválida para el índice 1295: https://a0.muscache.com/pictures/prohost-api/Hosting-46791068/original/85efb204-1093-4e95-983c-00f405dd6f4c.jpeg\n",
            "URL inválida para el índice 1296: https://a0.muscache.com/pictures/28f70459-7ac9-43bf-b2ca-740d5cbc70db.jpg\n"
          ]
        },
        {
          "output_type": "stream",
          "name": "stderr",
          "text": [
            " 36%|███▋      | 1307/3600 [05:28<09:04,  4.21it/s]"
          ]
        },
        {
          "output_type": "stream",
          "name": "stdout",
          "text": [
            "URL inválida para el índice 1306: https://a0.muscache.com/pictures/93d160f5-78fc-4044-ac33-fdda1feb841f.jpg\n"
          ]
        },
        {
          "output_type": "stream",
          "name": "stderr",
          "text": [
            " 37%|███▋      | 1339/3600 [05:36<07:43,  4.88it/s]"
          ]
        },
        {
          "output_type": "stream",
          "name": "stdout",
          "text": [
            "URL inválida para el índice 1337: https://a0.muscache.com/pictures/prohost-api/Hosting-47576607/original/2a8842a4-c900-4cd9-97de-2617a41b028a.jpeg\n"
          ]
        },
        {
          "output_type": "stream",
          "name": "stderr",
          "text": [
            " 37%|███▋      | 1343/3600 [05:37<06:23,  5.89it/s]"
          ]
        },
        {
          "output_type": "stream",
          "name": "stdout",
          "text": [
            "URL inválida para el índice 1341: https://a0.muscache.com/pictures/miso/Hosting-47873448/original/16fc99cc-292d-4383-b8a0-def7f17c1e64.jpeg\n"
          ]
        },
        {
          "output_type": "stream",
          "name": "stderr",
          "text": [
            " 38%|███▊      | 1361/3600 [05:41<09:17,  4.02it/s]"
          ]
        },
        {
          "output_type": "stream",
          "name": "stdout",
          "text": [
            "URL inválida para el índice 1359: https://a0.muscache.com/pictures/prohost-api/Hosting-48103622/original/6ccbbd9d-4601-45ea-b07f-b16358373780.jpeg\n",
            "URL inválida para el índice 1360: https://a0.muscache.com/pictures/prohost-api/Hosting-48103833/original/313c9151-af54-4716-bffe-4d8a243bfd7d.jpeg\n"
          ]
        },
        {
          "output_type": "stream",
          "name": "stderr",
          "text": [
            "\r 38%|███▊      | 1362/3600 [05:41<08:26,  4.42it/s]"
          ]
        },
        {
          "output_type": "stream",
          "name": "stdout",
          "text": [
            "URL inválida para el índice 1361: https://a0.muscache.com/pictures/prohost-api/Hosting-48107926/original/d9749ddd-ea24-451e-97c7-8eea156138f3.jpeg\n"
          ]
        },
        {
          "output_type": "stream",
          "name": "stderr",
          "text": [
            "\r 38%|███▊      | 1363/3600 [05:41<08:16,  4.51it/s]"
          ]
        },
        {
          "output_type": "stream",
          "name": "stdout",
          "text": [
            "URL inválida para el índice 1362: https://a0.muscache.com/pictures/prohost-api/Hosting-48107968/original/956795d8-27ef-4f54-8cca-ebfea3a6a425.jpeg\n"
          ]
        },
        {
          "output_type": "stream",
          "name": "stderr",
          "text": [
            " 38%|███▊      | 1371/3600 [05:43<05:59,  6.20it/s]"
          ]
        },
        {
          "output_type": "stream",
          "name": "stdout",
          "text": [
            "URL inválida para el índice 1369: https://a0.muscache.com/pictures/153d5cfa-95d5-4eb4-b45a-1809ff9f1c71.jpg\n"
          ]
        },
        {
          "output_type": "stream",
          "name": "stderr",
          "text": [
            " 38%|███▊      | 1375/3600 [05:44<07:53,  4.70it/s]"
          ]
        },
        {
          "output_type": "stream",
          "name": "stdout",
          "text": [
            "URL inválida para el índice 1374: https://a0.muscache.com/pictures/a5239f12-41bd-4ff2-81bb-4100667e064c.jpg\n"
          ]
        },
        {
          "output_type": "stream",
          "name": "stderr",
          "text": [
            " 38%|███▊      | 1385/3600 [05:45<07:15,  5.09it/s]"
          ]
        },
        {
          "output_type": "stream",
          "name": "stdout",
          "text": [
            "URL inválida para el índice 1383: https://a0.muscache.com/pictures/prohost-api/Hosting-48454886/original/17df10d9-f416-40a3-9d77-48eba91ff839.jpeg\n"
          ]
        },
        {
          "output_type": "stream",
          "name": "stderr",
          "text": [
            " 39%|███▊      | 1390/3600 [05:46<06:10,  5.97it/s]"
          ]
        },
        {
          "output_type": "stream",
          "name": "stdout",
          "text": [
            "URL inválida para el índice 1388: https://a0.muscache.com/pictures/prohost-api/Hosting-48597887/original/0df41515-85cb-40ca-9102-2c905c77914d.jpeg\n",
            "URL inválida para el índice 1389: https://a0.muscache.com/pictures/prohost-api/Hosting-48597894/original/9f1c5a32-2af5-4f0b-a247-413ff0972236.jpeg\n"
          ]
        },
        {
          "output_type": "stream",
          "name": "stderr",
          "text": [
            "\r 39%|███▊      | 1391/3600 [05:46<06:26,  5.71it/s]"
          ]
        },
        {
          "output_type": "stream",
          "name": "stdout",
          "text": [
            "URL inválida para el índice 1390: https://a0.muscache.com/pictures/prohost-api/Hosting-48597943/original/894b0ae3-272d-46c7-836d-c1ffa371739f.jpeg\n"
          ]
        },
        {
          "output_type": "stream",
          "name": "stderr",
          "text": [
            " 39%|███▊      | 1393/3600 [05:47<06:25,  5.72it/s]"
          ]
        },
        {
          "output_type": "stream",
          "name": "stdout",
          "text": [
            "URL inválida para el índice 1391: https://a0.muscache.com/pictures/prohost-api/Hosting-48597948/original/1447b820-5387-49bf-b1ae-f5eba0cced49.jpeg\n",
            "URL inválida para el índice 1392: https://a0.muscache.com/pictures/prohost-api/Hosting-48597957/original/43aa468b-dd06-456f-9e76-6e83810753b0.jpeg\n"
          ]
        },
        {
          "output_type": "stream",
          "name": "stderr",
          "text": [
            " 39%|███▉      | 1396/3600 [05:47<06:26,  5.71it/s]"
          ]
        },
        {
          "output_type": "stream",
          "name": "stdout",
          "text": [
            "URL inválida para el índice 1395: https://a0.muscache.com/pictures/prohost-api/Hosting-48601985/original/622c6996-32be-4f2c-a2a4-478f8a1c6a1b.jpeg\n"
          ]
        },
        {
          "output_type": "stream",
          "name": "stderr",
          "text": [
            " 39%|███▉      | 1418/3600 [05:52<07:03,  5.15it/s]"
          ]
        },
        {
          "output_type": "stream",
          "name": "stdout",
          "text": [
            "URL inválida para el índice 1417: https://a0.muscache.com/pictures/prohost-api/Hosting-48881055/original/f34c9c5f-4f9e-45a8-a30e-d0e054c8a4fa.jpeg\n"
          ]
        },
        {
          "output_type": "stream",
          "name": "stderr",
          "text": [
            " 40%|███▉      | 1422/3600 [05:54<11:00,  3.30it/s]"
          ]
        },
        {
          "output_type": "stream",
          "name": "stdout",
          "text": [
            "URL inválida para el índice 1421: https://a0.muscache.com/pictures/prohost-api/Hosting-48926365/original/a6b00f63-f34c-4149-a419-168c4987fa0a.jpeg\n"
          ]
        },
        {
          "output_type": "stream",
          "name": "stderr",
          "text": [
            " 40%|███▉      | 1424/3600 [05:54<09:25,  3.85it/s]"
          ]
        },
        {
          "output_type": "stream",
          "name": "stdout",
          "text": [
            "URL inválida para el índice 1422: https://a0.muscache.com/pictures/prohost-api/Hosting-48926392/original/8654b984-8f04-45ab-ae71-591a3f5f5c2b.jpeg\n",
            "URL inválida para el índice 1423: https://a0.muscache.com/pictures/prohost-api/Hosting-48926432/original/a61e4238-cac8-4486-b0cb-4d5dbf1f79e1.jpeg\n"
          ]
        },
        {
          "output_type": "stream",
          "name": "stderr",
          "text": [
            " 40%|████      | 1449/3600 [05:59<06:42,  5.34it/s]"
          ]
        },
        {
          "output_type": "stream",
          "name": "stdout",
          "text": [
            "URL inválida para el índice 1447: https://a0.muscache.com/pictures/prohost-api/Hosting-49188782/original/99f5948f-8279-420c-bf20-2dec587a0545.jpeg\n",
            "URL inválida para el índice 1448: https://a0.muscache.com/pictures/prohost-api/Hosting-49188871/original/72a83436-de2e-4952-a029-47af95fe4509.jpeg\n"
          ]
        },
        {
          "output_type": "stream",
          "name": "stderr",
          "text": [
            " 40%|████      | 1451/3600 [06:00<06:24,  5.59it/s]"
          ]
        },
        {
          "output_type": "stream",
          "name": "stdout",
          "text": [
            "URL inválida para el índice 1449: https://a0.muscache.com/pictures/prohost-api/Hosting-49188886/original/e2be830b-675b-410d-9880-1a6c94df52bf.jpeg\n",
            "URL inválida para el índice 1450: https://a0.muscache.com/pictures/prohost-api/Hosting-49188948/original/9b76d76e-afdc-42ff-be88-58d40a4b170b.jpeg\n"
          ]
        },
        {
          "output_type": "stream",
          "name": "stderr",
          "text": [
            " 40%|████      | 1455/3600 [06:00<04:53,  7.31it/s]"
          ]
        },
        {
          "output_type": "stream",
          "name": "stdout",
          "text": [
            "URL inválida para el índice 1452: https://a0.muscache.com/pictures/prohost-api/Hosting-49201633/original/1c4c3312-2fe4-449a-bef7-80739db2cd29.jpeg\n"
          ]
        },
        {
          "output_type": "stream",
          "name": "stderr",
          "text": [
            " 40%|████      | 1457/3600 [06:00<05:36,  6.36it/s]"
          ]
        },
        {
          "output_type": "stream",
          "name": "stdout",
          "text": [
            "URL inválida para el índice 1456: https://a0.muscache.com/pictures/prohost-api/Hosting-49341416/original/daf693f1-9f0b-4cc3-8cff-9e743424db9a.jpeg\n"
          ]
        },
        {
          "output_type": "stream",
          "name": "stderr",
          "text": [
            " 41%|████      | 1462/3600 [06:01<07:04,  5.04it/s]"
          ]
        },
        {
          "output_type": "stream",
          "name": "stdout",
          "text": [
            "URL inválida para el índice 1460: https://a0.muscache.com/pictures/prohost-api/Hosting-49459007/original/0558fbae-15ab-4c6b-b91d-266fa8918ce6.jpeg\n"
          ]
        },
        {
          "output_type": "stream",
          "name": "stderr",
          "text": [
            " 41%|████      | 1473/3600 [06:04<08:42,  4.07it/s]"
          ]
        },
        {
          "output_type": "stream",
          "name": "stdout",
          "text": [
            "URL inválida para el índice 1472: https://a0.muscache.com/pictures/prohost-api/Hosting-49610522/original/1bf4855c-6543-48ae-bf14-e26f160dbf01.jpeg\n"
          ]
        },
        {
          "output_type": "stream",
          "name": "stderr",
          "text": [
            "\r 41%|████      | 1474/3600 [06:04<08:19,  4.25it/s]"
          ]
        },
        {
          "output_type": "stream",
          "name": "stdout",
          "text": [
            "URL inválida para el índice 1473: https://a0.muscache.com/pictures/prohost-api/Hosting-49610778/original/d9163a9b-d195-4bd3-ab08-a40e8351411e.jpeg\n"
          ]
        },
        {
          "output_type": "stream",
          "name": "stderr",
          "text": [
            " 41%|████      | 1483/3600 [06:06<07:09,  4.93it/s]"
          ]
        },
        {
          "output_type": "stream",
          "name": "stdout",
          "text": [
            "URL inválida para el índice 1481: https://a0.muscache.com/pictures/prohost-api/Hosting-49752414/original/f81334c9-8612-4c66-b08b-577430dc07c6.jpeg\n",
            "URL inválida para el índice 1482: https://a0.muscache.com/pictures/prohost-api/Hosting-49800523/original/63fe1365-f4ee-4295-8cf2-e16f225955eb.jpeg\n"
          ]
        },
        {
          "output_type": "stream",
          "name": "stderr",
          "text": [
            " 41%|████▏     | 1487/3600 [06:07<09:40,  3.64it/s]"
          ]
        },
        {
          "output_type": "stream",
          "name": "stdout",
          "text": [
            "URL inválida para el índice 1486: https://a0.muscache.com/pictures/prohost-api/Hosting-49916971/original/f468740d-273a-4f68-ab34-abf7ae2125f1.jpeg\n"
          ]
        },
        {
          "output_type": "stream",
          "name": "stderr",
          "text": [
            "\r 41%|████▏     | 1488/3600 [06:07<08:59,  3.92it/s]"
          ]
        },
        {
          "output_type": "stream",
          "name": "stdout",
          "text": [
            "URL inválida para el índice 1487: https://a0.muscache.com/pictures/prohost-api/Hosting-49916983/original/d990404d-9367-42d8-9fce-f5ee52ec0310.jpeg\n"
          ]
        },
        {
          "output_type": "stream",
          "name": "stderr",
          "text": [
            " 41%|████▏     | 1491/3600 [06:08<06:18,  5.58it/s]"
          ]
        },
        {
          "output_type": "stream",
          "name": "stdout",
          "text": [
            "URL inválida para el índice 1488: https://a0.muscache.com/pictures/prohost-api/Hosting-49918081/original/d09c0701-338b-4fad-ab86-3843a6aa77e1.jpeg\n"
          ]
        },
        {
          "output_type": "stream",
          "name": "stderr",
          "text": [
            " 42%|████▏     | 1498/3600 [06:09<05:08,  6.81it/s]"
          ]
        },
        {
          "output_type": "stream",
          "name": "stdout",
          "text": [
            "URL inválida para el índice 1497: https://a0.muscache.com/pictures/prohost-api/Hosting-50017083/original/0220a02b-87a1-4434-9134-67970feb377c.jpeg\n"
          ]
        },
        {
          "output_type": "stream",
          "name": "stderr",
          "text": [
            "\r 42%|████▏     | 1499/3600 [06:09<06:23,  5.49it/s]"
          ]
        },
        {
          "output_type": "stream",
          "name": "stdout",
          "text": [
            "URL inválida para el índice 1498: https://a0.muscache.com/pictures/prohost-api/Hosting-50017182/original/945f194f-f893-4935-aa5c-08281a189922.jpeg\n"
          ]
        },
        {
          "output_type": "stream",
          "name": "stderr",
          "text": [
            " 42%|████▏     | 1503/3600 [06:10<07:26,  4.69it/s]"
          ]
        },
        {
          "output_type": "stream",
          "name": "stdout",
          "text": [
            "URL inválida para el índice 1501: https://a0.muscache.com/pictures/prohost-api/Hosting-50042062/original/5695dab1-486a-49c6-869c-f122a569cb66.jpeg\n"
          ]
        },
        {
          "output_type": "stream",
          "name": "stderr",
          "text": [
            " 42%|████▏     | 1507/3600 [06:10<04:48,  7.25it/s]"
          ]
        },
        {
          "output_type": "stream",
          "name": "stdout",
          "text": [
            "URL inválida para el índice 1504: https://a0.muscache.com/pictures/prohost-api/Hosting-50079025/original/09e0771a-9089-4b04-98f4-c694881868e0.jpeg\n"
          ]
        },
        {
          "output_type": "stream",
          "name": "stderr",
          "text": [
            " 42%|████▏     | 1509/3600 [06:11<05:15,  6.63it/s]"
          ]
        },
        {
          "output_type": "stream",
          "name": "stdout",
          "text": [
            "URL inválida para el índice 1507: https://a0.muscache.com/pictures/prohost-api/Hosting-50084542/original/c5e7b728-d2db-4021-8367-c12770be703f.jpeg\n"
          ]
        },
        {
          "output_type": "stream",
          "name": "stderr",
          "text": [
            " 42%|████▏     | 1516/3600 [06:12<06:32,  5.30it/s]"
          ]
        },
        {
          "output_type": "stream",
          "name": "stdout",
          "text": [
            "URL inválida para el índice 1514: https://a0.muscache.com/pictures/prohost-api/Hosting-50206794/original/cc4830dd-0e33-439b-938c-6f6dad9dec33.jpeg\n"
          ]
        },
        {
          "output_type": "stream",
          "name": "stderr",
          "text": [
            " 42%|████▏     | 1524/3600 [06:13<04:50,  7.15it/s]"
          ]
        },
        {
          "output_type": "stream",
          "name": "stdout",
          "text": [
            "URL inválida para el índice 1523: https://a0.muscache.com/pictures/prohost-api/Hosting-50386523/original/9445af86-b60f-4298-8a3c-ad67d8e211de.jpeg\n"
          ]
        },
        {
          "output_type": "stream",
          "name": "stderr",
          "text": [
            "\r 42%|████▏     | 1525/3600 [06:13<05:23,  6.41it/s]"
          ]
        },
        {
          "output_type": "stream",
          "name": "stdout",
          "text": [
            "URL inválida para el índice 1524: https://a0.muscache.com/pictures/prohost-api/Hosting-50386543/original/1cff2a6d-7883-48a9-ac73-c9919818e888.jpeg\n"
          ]
        },
        {
          "output_type": "stream",
          "name": "stderr",
          "text": [
            " 43%|████▎     | 1533/3600 [06:15<06:24,  5.38it/s]"
          ]
        },
        {
          "output_type": "stream",
          "name": "stdout",
          "text": [
            "URL inválida para el índice 1532: https://a0.muscache.com/pictures/prohost-api/Hosting-50562977/original/af9f1ab1-ee6b-4773-ad8e-1d1a8a854f0b.jpeg\n"
          ]
        },
        {
          "output_type": "stream",
          "name": "stderr",
          "text": [
            "\r 43%|████▎     | 1534/3600 [06:15<08:19,  4.14it/s]"
          ]
        },
        {
          "output_type": "stream",
          "name": "stdout",
          "text": [
            "URL inválida para el índice 1533: https://a0.muscache.com/pictures/prohost-api/Hosting-50563099/original/6a3bcfe3-357e-49f1-8e5e-61c95e5fe335.jpeg\n"
          ]
        },
        {
          "output_type": "stream",
          "name": "stderr",
          "text": [
            "\r 43%|████▎     | 1535/3600 [06:16<08:23,  4.10it/s]"
          ]
        },
        {
          "output_type": "stream",
          "name": "stdout",
          "text": [
            "URL inválida para el índice 1534: https://a0.muscache.com/pictures/prohost-api/Hosting-50563127/original/07348b62-4fb4-4a0e-a588-ebb46bcf2195.jpeg\n"
          ]
        },
        {
          "output_type": "stream",
          "name": "stderr",
          "text": [
            "\r 43%|████▎     | 1537/3600 [06:16<07:04,  4.86it/s]"
          ]
        },
        {
          "output_type": "stream",
          "name": "stdout",
          "text": [
            "URL inválida para el índice 1536: https://a0.muscache.com/pictures/prohost-api/Hosting-50608389/original/ccda248e-99a6-4960-9344-085550adf82c.jpeg\n"
          ]
        },
        {
          "output_type": "stream",
          "name": "stderr",
          "text": [
            "\r 43%|████▎     | 1538/3600 [06:16<07:21,  4.67it/s]"
          ]
        },
        {
          "output_type": "stream",
          "name": "stdout",
          "text": [
            "URL inválida para el índice 1537: https://a0.muscache.com/pictures/prohost-api/Hosting-50608396/original/9d78b34a-cbb6-449a-b4d8-240dcb9d05b0.jpeg\n"
          ]
        },
        {
          "output_type": "stream",
          "name": "stderr",
          "text": [
            " 44%|████▎     | 1569/3600 [06:24<07:35,  4.46it/s]"
          ]
        },
        {
          "output_type": "stream",
          "name": "stdout",
          "text": [
            "URL inválida para el índice 1567: https://a0.muscache.com/pictures/prohost-api/Hosting-51274775/original/599d0e88-2319-4fd1-a2c8-f57589e00ce8.jpeg\n",
            "URL inválida para el índice 1568: https://a0.muscache.com/pictures/prohost-api/Hosting-51274818/original/b362c342-f952-4104-ae93-178c82eec2b0.jpeg\n"
          ]
        },
        {
          "output_type": "stream",
          "name": "stderr",
          "text": [
            " 44%|████▎     | 1573/3600 [06:25<08:15,  4.09it/s]"
          ]
        },
        {
          "output_type": "stream",
          "name": "stdout",
          "text": [
            "URL inválida para el índice 1571: https://a0.muscache.com/pictures/prohost-api/Hosting-51300156/original/5c19dc35-5cc9-46c2-a33c-0b468a5f204f.jpeg\n"
          ]
        },
        {
          "output_type": "stream",
          "name": "stderr",
          "text": [
            " 44%|████▍     | 1582/3600 [06:26<06:20,  5.31it/s]"
          ]
        },
        {
          "output_type": "stream",
          "name": "stdout",
          "text": [
            "URL inválida para el índice 1581: https://a0.muscache.com/pictures/miso/Hosting-51402086/original/8a9e0597-ef2f-4450-b29b-a60871ca0aa3.jpeg\n"
          ]
        },
        {
          "output_type": "stream",
          "name": "stderr",
          "text": [
            " 44%|████▍     | 1591/3600 [06:28<06:52,  4.87it/s]"
          ]
        },
        {
          "output_type": "stream",
          "name": "stdout",
          "text": [
            "URL inválida para el índice 1590: https://a0.muscache.com/pictures/prohost-api/Hosting-51572681/original/f07bf279-db7c-4160-8d84-88fe466096b9.jpeg\n"
          ]
        },
        {
          "output_type": "stream",
          "name": "stderr",
          "text": [
            "\r 44%|████▍     | 1592/3600 [06:29<06:55,  4.84it/s]"
          ]
        },
        {
          "output_type": "stream",
          "name": "stdout",
          "text": [
            "URL inválida para el índice 1591: https://a0.muscache.com/pictures/prohost-api/Hosting-51572775/original/eeb5b893-08c2-4f88-8153-308efa95c258.jpeg\n"
          ]
        },
        {
          "output_type": "stream",
          "name": "stderr",
          "text": [
            "\r 44%|████▍     | 1593/3600 [06:29<07:34,  4.42it/s]"
          ]
        },
        {
          "output_type": "stream",
          "name": "stdout",
          "text": [
            "URL inválida para el índice 1592: https://a0.muscache.com/pictures/prohost-api/Hosting-51572785/original/15ccce9c-36b1-47d4-bb41-7bd1445943d5.jpeg\n"
          ]
        },
        {
          "output_type": "stream",
          "name": "stderr",
          "text": [
            " 44%|████▍     | 1595/3600 [06:29<07:38,  4.37it/s]"
          ]
        },
        {
          "output_type": "stream",
          "name": "stdout",
          "text": [
            "URL inválida para el índice 1593: https://a0.muscache.com/pictures/prohost-api/Hosting-51572791/original/69db5550-a4db-4ce5-96b6-f9350277a516.jpeg\n",
            "URL inválida para el índice 1594: https://a0.muscache.com/pictures/prohost-api/Hosting-51573185/original/1f184ccb-4077-4f7f-b74c-76a49a60860d.jpeg\n"
          ]
        },
        {
          "output_type": "stream",
          "name": "stderr",
          "text": [
            " 44%|████▍     | 1598/3600 [06:30<07:40,  4.34it/s]"
          ]
        },
        {
          "output_type": "stream",
          "name": "stdout",
          "text": [
            "URL inválida para el índice 1597: https://a0.muscache.com/pictures/miso/Hosting-51626666/original/0a3d7139-082e-4c22-a21c-519cefbdd9f2.jpeg\n"
          ]
        },
        {
          "output_type": "stream",
          "name": "stderr",
          "text": [
            "\r 44%|████▍     | 1599/3600 [06:30<07:48,  4.27it/s]"
          ]
        },
        {
          "output_type": "stream",
          "name": "stdout",
          "text": [
            "URL inválida para el índice 1598: https://a0.muscache.com/pictures/miso/Hosting-51639653/original/7b511a90-694e-44d5-a188-9566a3ceb375.jpeg\n"
          ]
        },
        {
          "output_type": "stream",
          "name": "stderr",
          "text": [
            " 45%|████▍     | 1606/3600 [06:33<12:41,  2.62it/s]"
          ]
        },
        {
          "output_type": "stream",
          "name": "stdout",
          "text": [
            "URL inválida para el índice 1604: https://a0.muscache.com/pictures/miso/Hosting-51711675/original/2d3a66cc-81df-43ca-a855-275991c8fa05.jpeg\n",
            "URL inválida para el índice 1605: https://a0.muscache.com/pictures/prohost-api/Hosting-51721946/original/94235a1f-8224-4aca-abaa-ae80e5976ae1.jpeg\n"
          ]
        },
        {
          "output_type": "stream",
          "name": "stderr",
          "text": [
            "\r 45%|████▍     | 1607/3600 [06:33<10:42,  3.10it/s]"
          ]
        },
        {
          "output_type": "stream",
          "name": "stdout",
          "text": [
            "URL inválida para el índice 1606: https://a0.muscache.com/pictures/prohost-api/Hosting-51722040/original/50fdf6b2-723f-4073-b395-41dc78e17cef.jpeg\n"
          ]
        },
        {
          "output_type": "stream",
          "name": "stderr",
          "text": [
            " 45%|████▍     | 1615/3600 [06:35<07:39,  4.32it/s]"
          ]
        },
        {
          "output_type": "stream",
          "name": "stdout",
          "text": [
            "URL inválida para el índice 1613: https://a0.muscache.com/pictures/prohost-api/Hosting-51810948/original/75535867-2424-4b40-b65f-4f77111bd3c1.jpeg\n",
            "URL inválida para el índice 1614: https://a0.muscache.com/pictures/prohost-api/Hosting-51812329/original/483ba6af-a53f-489f-aab1-2a665512ec03.jpeg\n"
          ]
        },
        {
          "output_type": "stream",
          "name": "stderr",
          "text": [
            " 45%|████▌     | 1621/3600 [06:36<05:33,  5.94it/s]"
          ]
        },
        {
          "output_type": "stream",
          "name": "stdout",
          "text": [
            "URL inválida para el índice 1618: https://a0.muscache.com/pictures/prohost-api/Hosting-51838132/original/ed885fd6-cf96-406a-8ec9-ba48e511ec91.jpeg\n"
          ]
        },
        {
          "output_type": "stream",
          "name": "stderr",
          "text": [
            "\r 45%|████▌     | 1622/3600 [06:36<05:31,  5.96it/s]"
          ]
        },
        {
          "output_type": "stream",
          "name": "stdout",
          "text": [
            "URL inválida para el índice 1621: https://a0.muscache.com/pictures/prohost-api/Hosting-51872976/original/f4d017b0-bed3-4eca-a4b4-f5bb74938378.jpeg\n"
          ]
        },
        {
          "output_type": "stream",
          "name": "stderr",
          "text": [
            " 45%|████▌     | 1627/3600 [06:38<11:11,  2.94it/s]"
          ]
        },
        {
          "output_type": "stream",
          "name": "stdout",
          "text": [
            "URL inválida para el índice 1625: https://a0.muscache.com/pictures/prohost-api/Hosting-52046024/original/bd9db217-1a37-473c-9d04-c22554b514fe.jpeg\n"
          ]
        },
        {
          "output_type": "stream",
          "name": "stderr",
          "text": [
            " 45%|████▌     | 1636/3600 [06:41<09:37,  3.40it/s]"
          ]
        },
        {
          "output_type": "stream",
          "name": "stdout",
          "text": [
            "URL inválida para el índice 1634: https://a0.muscache.com/pictures/prohost-api/Hosting-52124041/original/6807a140-6ca6-463a-8329-94c9c0d44551.jpeg\n"
          ]
        },
        {
          "output_type": "stream",
          "name": "stderr",
          "text": [
            " 46%|████▌     | 1638/3600 [06:42<11:26,  2.86it/s]"
          ]
        },
        {
          "output_type": "stream",
          "name": "stdout",
          "text": [
            "URL inválida para el índice 1637: https://a0.muscache.com/pictures/prohost-api/Hosting-52249525/original/3a448371-fca1-436c-9cc9-f81c833761c7.jpeg\n"
          ]
        },
        {
          "output_type": "stream",
          "name": "stderr",
          "text": [
            " 46%|████▌     | 1641/3600 [06:42<07:44,  4.22it/s]"
          ]
        },
        {
          "output_type": "stream",
          "name": "stdout",
          "text": [
            "URL inválida para el índice 1640: https://a0.muscache.com/pictures/prohost-api/Hosting-52312207/original/d0d8cfa3-d106-4980-9715-3569462eb2ab.jpeg\n"
          ]
        },
        {
          "output_type": "stream",
          "name": "stderr",
          "text": [
            " 46%|████▌     | 1643/3600 [06:43<07:01,  4.64it/s]"
          ]
        },
        {
          "output_type": "stream",
          "name": "stdout",
          "text": [
            "URL inválida para el índice 1641: https://a0.muscache.com/pictures/prohost-api/Hosting-52358493/original/7bce9df4-aacf-497e-af49-13106d0e6432.jpeg\n",
            "URL inválida para el índice 1642: https://a0.muscache.com/pictures/prohost-api/Hosting-52358553/original/f9592681-544c-419b-8dbf-305c284f5d18.jpeg\n"
          ]
        },
        {
          "output_type": "stream",
          "name": "stderr",
          "text": [
            "\r 46%|████▌     | 1644/3600 [06:43<06:54,  4.72it/s]"
          ]
        },
        {
          "output_type": "stream",
          "name": "stdout",
          "text": [
            "URL inválida para el índice 1643: https://a0.muscache.com/pictures/prohost-api/Hosting-52360274/original/511853f7-19d1-462b-998b-e25771b2b21c.jpeg\n"
          ]
        },
        {
          "output_type": "stream",
          "name": "stderr",
          "text": [
            " 46%|████▌     | 1648/3600 [06:44<06:17,  5.18it/s]"
          ]
        },
        {
          "output_type": "stream",
          "name": "stdout",
          "text": [
            "URL inválida para el índice 1646: https://a0.muscache.com/pictures/prohost-api/Hosting-52376819/original/880d41b6-c749-44d7-a169-87ccd55b50eb.jpeg\n"
          ]
        },
        {
          "output_type": "stream",
          "name": "stderr",
          "text": [
            " 46%|████▋     | 1667/3600 [06:51<08:04,  3.99it/s]"
          ]
        },
        {
          "output_type": "stream",
          "name": "stdout",
          "text": [
            "URL inválida para el índice 1665: https://a0.muscache.com/pictures/prohost-api/Hosting-52630071/original/18d18a46-3286-4197-be11-60ac7b5baba4.jpeg\n"
          ]
        },
        {
          "output_type": "stream",
          "name": "stderr",
          "text": [
            " 46%|████▋     | 1671/3600 [06:51<07:10,  4.48it/s]"
          ]
        },
        {
          "output_type": "stream",
          "name": "stdout",
          "text": [
            "URL inválida para el índice 1669: https://a0.muscache.com/pictures/miso/Hosting-52637370/original/c527cd51-bb86-46de-b9a8-580359028a55.jpeg\n"
          ]
        },
        {
          "output_type": "stream",
          "name": "stderr",
          "text": [
            " 47%|████▋     | 1675/3600 [06:52<06:13,  5.15it/s]"
          ]
        },
        {
          "output_type": "stream",
          "name": "stdout",
          "text": [
            "URL inválida para el índice 1673: https://a0.muscache.com/pictures/prohost-api/Hosting-52680602/original/1d79caaf-8a57-48b2-8d3e-dabbd5b1d75d.jpeg\n",
            "URL inválida para el índice 1674: https://a0.muscache.com/pictures/prohost-api/Hosting-52680751/original/6348b0ed-c12a-4c0f-bdbe-fa44b8f9897d.jpeg\n"
          ]
        },
        {
          "output_type": "stream",
          "name": "stderr",
          "text": [
            "\r 47%|████▋     | 1677/3600 [06:52<04:57,  6.47it/s]"
          ]
        },
        {
          "output_type": "stream",
          "name": "stdout",
          "text": [
            "URL inválida para el índice 1676: https://a0.muscache.com/pictures/prohost-api/Hosting-52681618/original/321ebf00-4c2c-4471-8a59-6c11e001d6a9.jpeg\n"
          ]
        },
        {
          "output_type": "stream",
          "name": "stderr",
          "text": [
            "\r 47%|████▋     | 1678/3600 [06:53<05:41,  5.63it/s]"
          ]
        },
        {
          "output_type": "stream",
          "name": "stdout",
          "text": [
            "URL inválida para el índice 1677: https://a0.muscache.com/pictures/prohost-api/Hosting-52682307/original/da6a3fe1-6dd1-4e9e-9e3f-2a1a0ee88b12.jpeg\n"
          ]
        },
        {
          "output_type": "stream",
          "name": "stderr",
          "text": [
            " 47%|████▋     | 1681/3600 [06:53<05:19,  6.00it/s]"
          ]
        },
        {
          "output_type": "stream",
          "name": "stdout",
          "text": [
            "URL inválida para el índice 1679: https://a0.muscache.com/pictures/prohost-api/Hosting-52747167/original/981d3c46-4544-4edf-80c3-01e17abb0942.jpeg\n"
          ]
        },
        {
          "output_type": "stream",
          "name": "stderr",
          "text": [
            " 47%|████▋     | 1688/3600 [06:55<07:09,  4.45it/s]"
          ]
        },
        {
          "output_type": "stream",
          "name": "stdout",
          "text": [
            "URL inválida para el índice 1687: https://a0.muscache.com/pictures/prohost-api/Hosting-52891675/original/d3f6e9e8-421f-4589-b06e-f6be60c8fc10.jpeg\n"
          ]
        },
        {
          "output_type": "stream",
          "name": "stderr",
          "text": [
            "\r 47%|████▋     | 1689/3600 [06:55<08:32,  3.73it/s]"
          ]
        },
        {
          "output_type": "stream",
          "name": "stdout",
          "text": [
            "URL inválida para el índice 1688: https://a0.muscache.com/pictures/prohost-api/Hosting-52891687/original/48fee597-262d-410c-b972-58665f70f713.jpeg\n"
          ]
        },
        {
          "output_type": "stream",
          "name": "stderr",
          "text": [
            " 47%|████▋     | 1693/3600 [06:56<06:52,  4.62it/s]"
          ]
        },
        {
          "output_type": "stream",
          "name": "stdout",
          "text": [
            "URL inválida para el índice 1692: https://a0.muscache.com/pictures/prohost-api/Hosting-52922842/original/8d76fa38-ee2d-4b41-a9f1-16d45c88fb98.jpeg\n"
          ]
        },
        {
          "output_type": "stream",
          "name": "stderr",
          "text": [
            "\r 47%|████▋     | 1694/3600 [06:56<06:48,  4.66it/s]"
          ]
        },
        {
          "output_type": "stream",
          "name": "stdout",
          "text": [
            "URL inválida para el índice 1693: https://a0.muscache.com/pictures/prohost-api/Hosting-52928607/original/8a9071c4-1c9e-4d78-8ebc-cee19cb71212.jpeg\n"
          ]
        },
        {
          "output_type": "stream",
          "name": "stderr",
          "text": [
            " 47%|████▋     | 1698/3600 [06:57<07:18,  4.34it/s]"
          ]
        },
        {
          "output_type": "stream",
          "name": "stdout",
          "text": [
            "URL inválida para el índice 1696: https://a0.muscache.com/pictures/prohost-api/Hosting-53026499/original/fe966eed-eb34-46eb-925c-56eac2b6583d.jpeg\n",
            "URL inválida para el índice 1697: https://a0.muscache.com/pictures/prohost-api/Hosting-53026691/original/3a060fb9-690a-4753-b88d-dd813b359c65.jpeg\n"
          ]
        },
        {
          "output_type": "stream",
          "name": "stderr",
          "text": [
            "\r 47%|████▋     | 1699/3600 [06:57<06:57,  4.55it/s]"
          ]
        },
        {
          "output_type": "stream",
          "name": "stdout",
          "text": [
            "URL inválida para el índice 1698: https://a0.muscache.com/pictures/prohost-api/Hosting-53026920/original/2da62353-bc6b-470e-8a9a-66e90a75acaf.jpeg\n"
          ]
        },
        {
          "output_type": "stream",
          "name": "stderr",
          "text": [
            "\r 47%|████▋     | 1700/3600 [06:58<06:56,  4.57it/s]"
          ]
        },
        {
          "output_type": "stream",
          "name": "stdout",
          "text": [
            "URL inválida para el índice 1699: https://a0.muscache.com/pictures/prohost-api/Hosting-53027109/original/d5272567-0970-4654-9850-67dcf4ceb4e7.jpeg\n"
          ]
        },
        {
          "output_type": "stream",
          "name": "stderr",
          "text": [
            "\r 47%|████▋     | 1701/3600 [06:58<07:21,  4.30it/s]"
          ]
        },
        {
          "output_type": "stream",
          "name": "stdout",
          "text": [
            "URL inválida para el índice 1700: https://a0.muscache.com/pictures/prohost-api/Hosting-53027280/original/978d5cf7-184a-4cc3-8825-c8ad4808f916.jpeg\n"
          ]
        },
        {
          "output_type": "stream",
          "name": "stderr",
          "text": [
            " 47%|████▋     | 1703/3600 [06:59<09:36,  3.29it/s]"
          ]
        },
        {
          "output_type": "stream",
          "name": "stdout",
          "text": [
            "URL inválida para el índice 1701: https://a0.muscache.com/pictures/prohost-api/Hosting-53027387/original/175d1bfa-b960-4dc0-897c-da50c7e87af8.jpeg\n",
            "URL inválida para el índice 1702: https://a0.muscache.com/pictures/prohost-api/Hosting-53030044/original/bc548525-e3d7-4ec3-9d25-2a856b21d70c.jpeg\n"
          ]
        },
        {
          "output_type": "stream",
          "name": "stderr",
          "text": [
            " 47%|████▋     | 1706/3600 [06:59<06:04,  5.20it/s]"
          ]
        },
        {
          "output_type": "stream",
          "name": "stdout",
          "text": [
            "URL inválida para el índice 1703: https://a0.muscache.com/pictures/prohost-api/Hosting-53056956/original/cac4b366-899a-4716-82ce-7d7f5f44a48e.jpeg\n"
          ]
        },
        {
          "output_type": "stream",
          "name": "stderr",
          "text": [
            " 48%|████▊     | 1718/3600 [07:03<08:46,  3.57it/s]"
          ]
        },
        {
          "output_type": "stream",
          "name": "stdout",
          "text": [
            "URL inválida para el índice 1717: https://a0.muscache.com/pictures/prohost-api/Hosting-53179806/original/29613086-755a-4778-9467-67d8cb915c89.jpeg\n"
          ]
        },
        {
          "output_type": "stream",
          "name": "stderr",
          "text": [
            " 48%|████▊     | 1721/3600 [07:04<09:54,  3.16it/s]"
          ]
        },
        {
          "output_type": "stream",
          "name": "stdout",
          "text": [
            "URL inválida para el índice 1719: https://a0.muscache.com/pictures/9fb3b90f-d3e3-447f-96d6-a73d1cc6503b.jpg\n"
          ]
        },
        {
          "output_type": "stream",
          "name": "stderr",
          "text": [
            " 48%|████▊     | 1732/3600 [07:07<09:11,  3.39it/s]"
          ]
        },
        {
          "output_type": "stream",
          "name": "stdout",
          "text": [
            "URL inválida para el índice 1731: https://a0.muscache.com/pictures/prohost-api/Hosting-53307896/original/bdfcb0d8-ae48-425d-84de-f68417c99b15.jpeg\n"
          ]
        },
        {
          "output_type": "stream",
          "name": "stderr",
          "text": [
            "\r 48%|████▊     | 1733/3600 [07:07<08:54,  3.49it/s]"
          ]
        },
        {
          "output_type": "stream",
          "name": "stdout",
          "text": [
            "URL inválida para el índice 1732: https://a0.muscache.com/pictures/prohost-api/Hosting-53307955/original/3d10cd62-2f28-4aa2-81aa-f9d19696a03d.jpeg\n"
          ]
        },
        {
          "output_type": "stream",
          "name": "stderr",
          "text": [
            "\r 48%|████▊     | 1734/3600 [07:08<09:01,  3.45it/s]"
          ]
        },
        {
          "output_type": "stream",
          "name": "stdout",
          "text": [
            "URL inválida para el índice 1733: https://a0.muscache.com/pictures/cc9e1538-7ac2-47c5-8322-32db49b813d4.jpg\n"
          ]
        },
        {
          "output_type": "stream",
          "name": "stderr",
          "text": [
            " 48%|████▊     | 1739/3600 [07:09<06:49,  4.54it/s]"
          ]
        },
        {
          "output_type": "stream",
          "name": "stdout",
          "text": [
            "URL inválida para el índice 1738: https://a0.muscache.com/pictures/9b24444b-a3f2-4be7-a13c-07df8d94a5f4.jpg\n"
          ]
        },
        {
          "output_type": "stream",
          "name": "stderr",
          "text": [
            " 48%|████▊     | 1741/3600 [07:09<08:08,  3.81it/s]"
          ]
        },
        {
          "output_type": "stream",
          "name": "stdout",
          "text": [
            "URL inválida para el índice 1740: https://a0.muscache.com/pictures/prohost-api/Hosting-53428804/original/be2eaed8-9b31-480d-98f8-101ab09463ab.jpeg\n"
          ]
        },
        {
          "output_type": "stream",
          "name": "stderr",
          "text": [
            "\r 48%|████▊     | 1742/3600 [07:10<08:01,  3.86it/s]"
          ]
        },
        {
          "output_type": "stream",
          "name": "stdout",
          "text": [
            "URL inválida para el índice 1741: https://a0.muscache.com/pictures/prohost-api/Hosting-53462366/original/a68d8ef5-de1b-4d65-ab7e-d75ab3e67424.png\n"
          ]
        },
        {
          "output_type": "stream",
          "name": "stderr",
          "text": [
            " 48%|████▊     | 1744/3600 [07:10<07:05,  4.36it/s]"
          ]
        },
        {
          "output_type": "stream",
          "name": "stdout",
          "text": [
            "URL inválida para el índice 1743: https://a0.muscache.com/pictures/prohost-api/Hosting-53471426/original/8750208e-5400-4932-884d-2eb7dfa8f9c6.jpeg\n"
          ]
        },
        {
          "output_type": "stream",
          "name": "stderr",
          "text": [
            " 49%|████▊     | 1751/3600 [07:12<08:16,  3.72it/s]"
          ]
        },
        {
          "output_type": "stream",
          "name": "stdout",
          "text": [
            "URL inválida para el índice 1750: https://a0.muscache.com/pictures/prohost-api/Hosting-53541620/original/c6b2db9a-1876-4696-a6cf-c7834a870d8c.jpeg\n"
          ]
        },
        {
          "output_type": "stream",
          "name": "stderr",
          "text": [
            " 49%|████▉     | 1758/3600 [07:14<08:08,  3.77it/s]"
          ]
        },
        {
          "output_type": "stream",
          "name": "stdout",
          "text": [
            "URL inválida para el índice 1757: https://a0.muscache.com/pictures/miso/Hosting-53631121/original/4fe32bfc-0048-442e-8823-3bf637738101.jpeg\n"
          ]
        },
        {
          "output_type": "stream",
          "name": "stderr",
          "text": [
            " 49%|████▉     | 1760/3600 [07:15<09:44,  3.15it/s]"
          ]
        },
        {
          "output_type": "stream",
          "name": "stdout",
          "text": [
            "URL inválida para el índice 1758: https://a0.muscache.com/pictures/miso/Hosting-53631431/original/a72b033f-5b23-42fd-9e39-ead73c0642e4.jpeg\n",
            "URL inválida para el índice 1759: https://a0.muscache.com/pictures/miso/Hosting-53631585/original/2638283e-f499-4ae1-8d95-07951e1e693a.jpeg\n"
          ]
        },
        {
          "output_type": "stream",
          "name": "stderr",
          "text": [
            " 49%|████▉     | 1763/3600 [07:16<07:19,  4.18it/s]"
          ]
        },
        {
          "output_type": "stream",
          "name": "stdout",
          "text": [
            "URL inválida para el índice 1762: https://a0.muscache.com/pictures/prohost-api/Hosting-53699018/original/076e7f99-177e-493c-ae50-a794a4982e11.jpeg\n"
          ]
        },
        {
          "output_type": "stream",
          "name": "stderr",
          "text": [
            " 49%|████▉     | 1766/3600 [07:16<07:11,  4.25it/s]"
          ]
        },
        {
          "output_type": "stream",
          "name": "stdout",
          "text": [
            "URL inválida para el índice 1764: https://a0.muscache.com/pictures/prohost-api/Hosting-53733454/original/53c3e939-e6e9-4de7-914d-beeda824a1fb.jpeg\n",
            "URL inválida para el índice 1765: https://a0.muscache.com/pictures/prohost-api/Hosting-53733834/original/9d1d0196-1355-4f35-83b7-199ff53c0ad5.jpeg\n"
          ]
        },
        {
          "output_type": "stream",
          "name": "stderr",
          "text": [
            " 49%|████▉     | 1778/3600 [07:19<05:27,  5.57it/s]"
          ]
        },
        {
          "output_type": "stream",
          "name": "stdout",
          "text": [
            "URL inválida para el índice 1777: https://a0.muscache.com/pictures/prohost-api/Hosting-53873611/original/998d36d4-f555-4788-9462-2192ace76dd0.jpeg\n"
          ]
        },
        {
          "output_type": "stream",
          "name": "stderr",
          "text": [
            " 50%|████▉     | 1782/3600 [07:20<09:25,  3.22it/s]"
          ]
        },
        {
          "output_type": "stream",
          "name": "stdout",
          "text": [
            "URL inválida para el índice 1781: https://a0.muscache.com/pictures/prohost-api/Hosting-53914758/original/af469d69-e8a1-4057-965f-a4d116169619.jpeg\n"
          ]
        },
        {
          "output_type": "stream",
          "name": "stderr",
          "text": [
            "\r 50%|████▉     | 1783/3600 [07:21<09:01,  3.36it/s]"
          ]
        },
        {
          "output_type": "stream",
          "name": "stdout",
          "text": [
            "URL inválida para el índice 1782: https://a0.muscache.com/pictures/prohost-api/Hosting-53932819/original/a7cca99b-89c4-4878-93a4-1f5c99a3d05e.jpeg\n"
          ]
        },
        {
          "output_type": "stream",
          "name": "stderr",
          "text": [
            " 50%|████▉     | 1785/3600 [07:21<07:24,  4.08it/s]"
          ]
        },
        {
          "output_type": "stream",
          "name": "stdout",
          "text": [
            "URL inválida para el índice 1783: https://a0.muscache.com/pictures/prohost-api/Hosting-53964554/original/751cf211-2da2-4cc2-9716-1527e6da595f.jpeg\n"
          ]
        },
        {
          "output_type": "stream",
          "name": "stderr",
          "text": [
            "\r 50%|████▉     | 1786/3600 [07:21<07:16,  4.16it/s]"
          ]
        },
        {
          "output_type": "stream",
          "name": "stdout",
          "text": [
            "URL inválida para el índice 1785: https://a0.muscache.com/pictures/miso/Hosting-53992722/original/91988b70-62b7-4c95-8c83-6c144d6a6d48.jpeg\n"
          ]
        },
        {
          "output_type": "stream",
          "name": "stderr",
          "text": [
            " 50%|████▉     | 1789/3600 [07:22<06:06,  4.94it/s]"
          ]
        },
        {
          "output_type": "stream",
          "name": "stdout",
          "text": [
            "URL inválida para el índice 1787: https://a0.muscache.com/pictures/prohost-api/Hosting-54047272/original/f4eb3cfa-21c1-4a69-ab4e-4d2d4d592621.jpeg\n"
          ]
        },
        {
          "output_type": "stream",
          "name": "stderr",
          "text": [
            " 50%|████▉     | 1792/3600 [07:22<05:39,  5.33it/s]"
          ]
        },
        {
          "output_type": "stream",
          "name": "stdout",
          "text": [
            "URL inválida para el índice 1790: https://a0.muscache.com/pictures/prohost-api/Hosting-54159081/original/921d1884-5d26-422d-b5ad-175589408d8d.jpeg\n",
            "URL inválida para el índice 1791: https://a0.muscache.com/pictures/prohost-api/Hosting-54159310/original/779d8c2e-401f-4316-9921-215e22c36edc.jpeg\n"
          ]
        },
        {
          "output_type": "stream",
          "name": "stderr",
          "text": [
            " 50%|█████     | 1806/3600 [07:25<06:31,  4.58it/s]"
          ]
        },
        {
          "output_type": "stream",
          "name": "stdout",
          "text": [
            "URL inválida para el índice 1805: https://a0.muscache.com/pictures/miso/Hosting-54384571/original/a14887f0-6ec8-4aeb-b095-cdbbf814df8c.jpeg\n"
          ]
        },
        {
          "output_type": "stream",
          "name": "stderr",
          "text": [
            " 50%|█████     | 1808/3600 [07:26<06:05,  4.90it/s]"
          ]
        },
        {
          "output_type": "stream",
          "name": "stdout",
          "text": [
            "URL inválida para el índice 1807: https://a0.muscache.com/pictures/prohost-api/Hosting-54399424/original/417a2fd3-e7c4-441a-af3a-644c12a813cb.jpeg\n"
          ]
        },
        {
          "output_type": "stream",
          "name": "stderr",
          "text": [
            " 50%|█████     | 1815/3600 [07:27<05:14,  5.67it/s]"
          ]
        },
        {
          "output_type": "stream",
          "name": "stdout",
          "text": [
            "URL inválida para el índice 1813: https://a0.muscache.com/pictures/prohost-api/Hosting-542466980559114057/original/f63c7a91-1d1b-4785-80dc-73df231518d9.jpeg\n"
          ]
        },
        {
          "output_type": "stream",
          "name": "stderr",
          "text": [
            " 50%|█████     | 1817/3600 [07:28<05:48,  5.12it/s]"
          ]
        },
        {
          "output_type": "stream",
          "name": "stdout",
          "text": [
            "URL inválida para el índice 1815: https://a0.muscache.com/pictures/prohost-api/Hosting-543436362799833668/original/73dc4fed-1ceb-4076-97a7-a38fa0b5b98f.jpeg\n",
            "URL inválida para el índice 1816: https://a0.muscache.com/pictures/prohost-api/Hosting-544684082770820787/original/ade61381-22d6-49d3-b706-e142ba879680.jpeg\n"
          ]
        },
        {
          "output_type": "stream",
          "name": "stderr",
          "text": [
            " 51%|█████     | 1820/3600 [07:28<04:45,  6.24it/s]"
          ]
        },
        {
          "output_type": "stream",
          "name": "stdout",
          "text": [
            "URL inválida para el índice 1817: https://a0.muscache.com/pictures/prohost-api/Hosting-544686606795535057/original/3a436f2a-4093-4dee-8b13-a6ed9ea64e1a.jpeg\n"
          ]
        },
        {
          "output_type": "stream",
          "name": "stderr",
          "text": [
            " 51%|█████     | 1824/3600 [07:29<05:14,  5.65it/s]"
          ]
        },
        {
          "output_type": "stream",
          "name": "stdout",
          "text": [
            "URL inválida para el índice 1823: https://a0.muscache.com/pictures/miso/Hosting-548393136882554658/original/92f40793-ed9a-4a7e-906b-8c6a7f34664e.jpeg\n"
          ]
        },
        {
          "output_type": "stream",
          "name": "stderr",
          "text": [
            "\r 51%|█████     | 1825/3600 [07:29<07:10,  4.12it/s]"
          ]
        },
        {
          "output_type": "stream",
          "name": "stdout",
          "text": [
            "URL inválida para el índice 1824: https://a0.muscache.com/pictures/miso/Hosting-548409183091048221/original/d01945ae-728a-4781-9a3d-37b94327d2ab.jpeg\n",
            "URL inválida para el índice 1825: https://a0.muscache.com/pictures/miso/Hosting-548424627632198069/original/06686dc0-470f-4a33-a0c2-f61ca9e80c91.jpeg\n"
          ]
        },
        {
          "output_type": "stream",
          "name": "stderr",
          "text": [
            " 51%|█████     | 1827/3600 [07:30<06:51,  4.31it/s]"
          ]
        },
        {
          "output_type": "stream",
          "name": "stdout",
          "text": [
            "URL inválida para el índice 1826: https://a0.muscache.com/pictures/miso/Hosting-548433540428028477/original/6a34ad68-7a45-47e4-9144-2da30363a5f5.jpeg\n"
          ]
        },
        {
          "output_type": "stream",
          "name": "stderr",
          "text": [
            "\r 51%|█████     | 1828/3600 [07:30<07:04,  4.17it/s]"
          ]
        },
        {
          "output_type": "stream",
          "name": "stdout",
          "text": [
            "URL inválida para el índice 1827: https://a0.muscache.com/pictures/prohost-api/Hosting-549048342007595380/original/236ff7f9-c853-47ad-93ba-4fc9b2c4994b.jpeg\n"
          ]
        },
        {
          "output_type": "stream",
          "name": "stderr",
          "text": [
            "\r 51%|█████     | 1829/3600 [07:30<07:01,  4.20it/s]"
          ]
        },
        {
          "output_type": "stream",
          "name": "stdout",
          "text": [
            "URL inválida para el índice 1828: https://a0.muscache.com/pictures/prohost-api/Hosting-549055903062655337/original/0f70b22e-4a22-4e2a-a7b7-e7d478866f40.jpeg\n"
          ]
        },
        {
          "output_type": "stream",
          "name": "stderr",
          "text": [
            " 51%|█████     | 1832/3600 [07:31<05:17,  5.57it/s]"
          ]
        },
        {
          "output_type": "stream",
          "name": "stdout",
          "text": [
            "URL inválida para el índice 1829: https://a0.muscache.com/pictures/prohost-api/Hosting-549058407111290129/original/5179f9aa-f925-41b9-8397-4b35ae9c6ca3.jpeg\n"
          ]
        },
        {
          "output_type": "stream",
          "name": "stderr",
          "text": [
            " 51%|█████     | 1836/3600 [07:32<07:04,  4.16it/s]"
          ]
        },
        {
          "output_type": "stream",
          "name": "stdout",
          "text": [
            "URL inválida para el índice 1834: https://a0.muscache.com/pictures/prohost-api/Hosting-553449835647049763/original/be8b6826-9ebe-4a1e-8414-3258e830ce73.jpeg\n",
            "URL inválida para el índice 1835: https://a0.muscache.com/pictures/prohost-api/Hosting-553450125818531583/original/4b84b104-856c-4180-9344-1df6afc63ee6.jpeg\n"
          ]
        },
        {
          "output_type": "stream",
          "name": "stderr",
          "text": [
            " 51%|█████▏    | 1849/3600 [07:35<08:46,  3.33it/s]"
          ]
        },
        {
          "output_type": "stream",
          "name": "stdout",
          "text": [
            "URL inválida para el índice 1848: https://a0.muscache.com/pictures/prohost-api/Hosting-557094168867486125/original/b3d82f92-608f-4da1-b06b-dc6949852f8f.jpeg\n"
          ]
        },
        {
          "output_type": "stream",
          "name": "stderr",
          "text": [
            "\r 51%|█████▏    | 1850/3600 [07:35<08:17,  3.52it/s]"
          ]
        },
        {
          "output_type": "stream",
          "name": "stdout",
          "text": [
            "URL inválida para el índice 1849: https://a0.muscache.com/pictures/prohost-api/Hosting-557094454595424536/original/295861bf-5054-4abd-b752-ad6949ac387b.jpeg\n"
          ]
        },
        {
          "output_type": "stream",
          "name": "stderr",
          "text": [
            " 51%|█████▏    | 1852/3600 [07:36<07:18,  3.99it/s]"
          ]
        },
        {
          "output_type": "stream",
          "name": "stdout",
          "text": [
            "URL inválida para el índice 1850: https://a0.muscache.com/pictures/prohost-api/Hosting-557861915611213552/original/49369359-68c9-42fd-8ee8-c69b2920c2d1.jpeg\n",
            "URL inválida para el índice 1851: https://a0.muscache.com/pictures/prohost-api/Hosting-557862346669301479/original/b489cbb8-4ade-4edd-9b52-a5a6f5d27344.jpeg\n"
          ]
        },
        {
          "output_type": "stream",
          "name": "stderr",
          "text": [
            " 52%|█████▏    | 1857/3600 [07:37<07:38,  3.80it/s]"
          ]
        },
        {
          "output_type": "stream",
          "name": "stdout",
          "text": [
            "URL inválida para el índice 1856: https://a0.muscache.com/pictures/miso/Hosting-558737352827141257/original/79baa66c-e138-4cf3-a179-e809ed53f868.jpeg\n"
          ]
        },
        {
          "output_type": "stream",
          "name": "stderr",
          "text": [
            " 52%|█████▏    | 1861/3600 [07:38<09:31,  3.04it/s]"
          ]
        },
        {
          "output_type": "stream",
          "name": "stdout",
          "text": [
            "URL inválida para el índice 1859: https://a0.muscache.com/pictures/prohost-api/Hosting-562909674759088729/original/1bc9d504-3972-4b52-9ae7-5363a05b6d13.jpeg\n"
          ]
        },
        {
          "output_type": "stream",
          "name": "stderr",
          "text": [
            " 52%|█████▏    | 1865/3600 [07:39<06:16,  4.61it/s]"
          ]
        },
        {
          "output_type": "stream",
          "name": "stdout",
          "text": [
            "URL inválida para el índice 1864: https://a0.muscache.com/pictures/57c74e3b-4199-48e7-be0e-fa8b25672c2a.jpg\n"
          ]
        },
        {
          "output_type": "stream",
          "name": "stderr",
          "text": [
            " 52%|█████▏    | 1867/3600 [07:40<06:14,  4.62it/s]"
          ]
        },
        {
          "output_type": "stream",
          "name": "stdout",
          "text": [
            "URL inválida para el índice 1865: https://a0.muscache.com/pictures/prohost-api/Hosting-567263377944351900/original/84e7bbe3-615f-474b-a4e4-33a68b0346c1.jpeg\n",
            "URL inválida para el índice 1866: https://a0.muscache.com/pictures/prohost-api/Hosting-568692279938660404/original/14e8826d-5df9-4084-ae4c-5e1db70706aa.jpeg\n"
          ]
        },
        {
          "output_type": "stream",
          "name": "stderr",
          "text": [
            "\r 52%|█████▏    | 1868/3600 [07:40<06:44,  4.28it/s]"
          ]
        },
        {
          "output_type": "stream",
          "name": "stdout",
          "text": [
            "URL inválida para el índice 1867: https://a0.muscache.com/pictures/prohost-api/Hosting-568694788908431933/original/a82a3209-09fa-462a-ad8c-b9d984e82ac3.jpeg\n"
          ]
        },
        {
          "output_type": "stream",
          "name": "stderr",
          "text": [
            " 52%|█████▏    | 1870/3600 [07:41<10:07,  2.85it/s]"
          ]
        },
        {
          "output_type": "stream",
          "name": "stdout",
          "text": [
            "URL inválida para el índice 1869: https://a0.muscache.com/pictures/prohost-api/Hosting-569407505309687319/original/233707bb-ef6a-4ea7-a44a-deace00a3418.jpeg\n"
          ]
        },
        {
          "output_type": "stream",
          "name": "stderr",
          "text": [
            " 52%|█████▏    | 1877/3600 [07:43<06:05,  4.71it/s]"
          ]
        },
        {
          "output_type": "stream",
          "name": "stdout",
          "text": [
            "URL inválida para el índice 1875: https://a0.muscache.com/pictures/prohost-api/Hosting-573072034648033150/original/27e6a227-5af6-40ed-ba4d-f24fadf97f0f.jpeg\n"
          ]
        },
        {
          "output_type": "stream",
          "name": "stderr",
          "text": [
            " 52%|█████▏    | 1879/3600 [07:43<07:17,  3.93it/s]"
          ]
        },
        {
          "output_type": "stream",
          "name": "stdout",
          "text": [
            "URL inválida para el índice 1878: https://a0.muscache.com/pictures/miso/Hosting-574763198852585805/original/af75010b-d8ec-4072-9353-9f06cfcc3921.jpeg\n"
          ]
        },
        {
          "output_type": "stream",
          "name": "stderr",
          "text": [
            " 53%|█████▎    | 1892/3600 [07:47<05:55,  4.80it/s]"
          ]
        },
        {
          "output_type": "stream",
          "name": "stdout",
          "text": [
            "URL inválida para el índice 1890: https://a0.muscache.com/pictures/prohost-api/Hosting-578114881460921853/original/8bf3248c-bff6-452a-93a5-52490d002909.jpeg\n",
            "URL inválida para el índice 1891: https://a0.muscache.com/pictures/prohost-api/Hosting-578117391619038483/original/e7cf9e88-f212-4cb5-b0b4-6773c8bd5c91.jpeg\n"
          ]
        },
        {
          "output_type": "stream",
          "name": "stderr",
          "text": [
            " 53%|█████▎    | 1895/3600 [07:48<11:11,  2.54it/s]"
          ]
        },
        {
          "output_type": "stream",
          "name": "stdout",
          "text": [
            "URL inválida para el índice 1894: https://a0.muscache.com/pictures/prohost-api/Hosting-578829581723459472/original/155e748b-66a5-43f2-a469-174a1e38b3ea.jpeg\n"
          ]
        },
        {
          "output_type": "stream",
          "name": "stderr",
          "text": [
            " 53%|█████▎    | 1905/3600 [07:51<07:06,  3.97it/s]"
          ]
        },
        {
          "output_type": "stream",
          "name": "stdout",
          "text": [
            "URL inválida para el índice 1903: https://a0.muscache.com/pictures/miso/Hosting-579562467128239369/original/63b6a232-7682-4846-91bf-93d1ea32843f.jpeg\n",
            "URL inválida para el índice 1904: https://a0.muscache.com/pictures/prohost-api/Hosting-580336513335041407/original/7f3d580f-714a-42aa-825c-acd981deb23d.jpeg\n"
          ]
        },
        {
          "output_type": "stream",
          "name": "stderr",
          "text": [
            "\r 53%|█████▎    | 1906/3600 [07:51<06:11,  4.56it/s]"
          ]
        },
        {
          "output_type": "stream",
          "name": "stdout",
          "text": [
            "URL inválida para el índice 1905: https://a0.muscache.com/pictures/prohost-api/Hosting-580339548657084895/original/ed78c4a6-4e31-4c8e-afcd-8b8182c50ff9.jpeg\n"
          ]
        },
        {
          "output_type": "stream",
          "name": "stderr",
          "text": [
            "\r 53%|█████▎    | 1907/3600 [07:52<06:04,  4.65it/s]"
          ]
        },
        {
          "output_type": "stream",
          "name": "stdout",
          "text": [
            "URL inválida para el índice 1906: https://a0.muscache.com/pictures/prohost-api/Hosting-580340188480812217/original/1197adce-808f-47f0-bb65-6da038ac04d5.jpeg\n"
          ]
        },
        {
          "output_type": "stream",
          "name": "stderr",
          "text": [
            "\r 53%|█████▎    | 1908/3600 [07:52<06:04,  4.64it/s]"
          ]
        },
        {
          "output_type": "stream",
          "name": "stdout",
          "text": [
            "URL inválida para el índice 1907: https://a0.muscache.com/pictures/prohost-api/Hosting-580342069798808551/original/0386eaae-0b67-4c96-b2cc-ebadd9e96fb8.jpeg\n"
          ]
        },
        {
          "output_type": "stream",
          "name": "stderr",
          "text": [
            "\r 53%|█████▎    | 1909/3600 [07:52<06:28,  4.35it/s]"
          ]
        },
        {
          "output_type": "stream",
          "name": "stdout",
          "text": [
            "URL inválida para el índice 1908: https://a0.muscache.com/pictures/prohost-api/Hosting-580442259470637184/original/642c2f0a-d10e-402b-95b1-0de7bf419fa8.png\n"
          ]
        },
        {
          "output_type": "stream",
          "name": "stderr",
          "text": [
            " 53%|█████▎    | 1911/3600 [07:53<07:01,  4.01it/s]"
          ]
        },
        {
          "output_type": "stream",
          "name": "stdout",
          "text": [
            "URL inválida para el índice 1909: https://a0.muscache.com/pictures/miso/Hosting-580524519215857438/original/6e6c5925-10dd-4ea2-9208-b36ab63af73d.jpeg\n"
          ]
        },
        {
          "output_type": "stream",
          "name": "stderr",
          "text": [
            " 53%|█████▎    | 1924/3600 [07:57<09:39,  2.89it/s]"
          ]
        },
        {
          "output_type": "stream",
          "name": "stdout",
          "text": [
            "URL inválida para el índice 1923: https://a0.muscache.com/pictures/miso/Hosting-584818002913089374/original/72c64e24-afb7-4e9b-a83f-bf62039debe4.jpeg\n"
          ]
        },
        {
          "output_type": "stream",
          "name": "stderr",
          "text": [
            " 54%|█████▎    | 1927/3600 [07:58<08:13,  3.39it/s]"
          ]
        },
        {
          "output_type": "stream",
          "name": "stdout",
          "text": [
            "URL inválida para el índice 1926: https://a0.muscache.com/pictures/prohost-api/Hosting-585228758807996843/original/09539fa6-9ab4-4732-bcd0-0c40e12d9d8a.jpeg\n"
          ]
        },
        {
          "output_type": "stream",
          "name": "stderr",
          "text": [
            " 54%|█████▎    | 1934/3600 [08:00<06:48,  4.07it/s]"
          ]
        },
        {
          "output_type": "stream",
          "name": "stdout",
          "text": [
            "URL inválida para el índice 1933: https://a0.muscache.com/pictures/prohost-api/Hosting-592635565577244428/original/579ac205-ac53-4470-b279-5a9008a77a5b.jpeg\n"
          ]
        },
        {
          "output_type": "stream",
          "name": "stderr",
          "text": [
            " 54%|█████▍    | 1937/3600 [08:01<06:52,  4.03it/s]"
          ]
        },
        {
          "output_type": "stream",
          "name": "stdout",
          "text": [
            "URL inválida para el índice 1935: https://a0.muscache.com/pictures/prohost-api/Hosting-594797282646385297/original/22cb397b-e85f-43b2-81e7-37a84578bf3e.jpeg\n"
          ]
        },
        {
          "output_type": "stream",
          "name": "stderr",
          "text": [
            " 54%|█████▍    | 1945/3600 [08:04<11:40,  2.36it/s]"
          ]
        },
        {
          "output_type": "stream",
          "name": "stdout",
          "text": [
            "URL inválida para el índice 1944: https://a0.muscache.com/pictures/prohost-api/Hosting-598404279154016952/original/34b62598-91cc-40d5-80ee-6bc805c9f2b5.jpeg\n"
          ]
        },
        {
          "output_type": "stream",
          "name": "stderr",
          "text": [
            " 54%|█████▍    | 1955/3600 [08:06<05:44,  4.77it/s]"
          ]
        },
        {
          "output_type": "stream",
          "name": "stdout",
          "text": [
            "URL inválida para el índice 1953: https://a0.muscache.com/pictures/prohost-api/Hosting-604223920210757772/original/b73033c1-cd42-4e00-b0ed-a09b5f498c14.jpeg\n",
            "URL inválida para el índice 1954: https://a0.muscache.com/pictures/prohost-api/Hosting-604231971121077035/original/8a842a04-da7b-4a52-8559-4c90a446bd1c.jpeg\n"
          ]
        },
        {
          "output_type": "stream",
          "name": "stderr",
          "text": [
            "\r 54%|█████▍    | 1956/3600 [08:06<06:53,  3.97it/s]"
          ]
        },
        {
          "output_type": "stream",
          "name": "stdout",
          "text": [
            "URL inválida para el índice 1955: https://a0.muscache.com/pictures/prohost-api/Hosting-604232269991905294/original/a22778dc-61b7-4e16-a3c8-9792503504ff.jpeg\n"
          ]
        },
        {
          "output_type": "stream",
          "name": "stderr",
          "text": [
            "\r 54%|█████▍    | 1958/3600 [08:07<05:54,  4.63it/s]"
          ]
        },
        {
          "output_type": "stream",
          "name": "stdout",
          "text": [
            "URL inválida para el índice 1957: https://a0.muscache.com/pictures/prohost-api/Hosting-604234472085817955/original/761a51e0-aba1-4fc4-a11a-d457b5375822.jpeg\n"
          ]
        },
        {
          "output_type": "stream",
          "name": "stderr",
          "text": [
            " 54%|█████▍    | 1961/3600 [08:07<05:17,  5.17it/s]"
          ]
        },
        {
          "output_type": "stream",
          "name": "stdout",
          "text": [
            "URL inválida para el índice 1959: https://a0.muscache.com/pictures/prohost-api/Hosting-604951714437257587/original/767f84ef-275a-4d26-a3d9-65ab3b258c27.jpeg\n"
          ]
        },
        {
          "output_type": "stream",
          "name": "stderr",
          "text": [
            "\r 55%|█████▍    | 1963/3600 [08:07<05:16,  5.18it/s]"
          ]
        },
        {
          "output_type": "stream",
          "name": "stdout",
          "text": [
            "URL inválida para el índice 1962: https://a0.muscache.com/pictures/prohost-api/Hosting-608359192793639653/original/c3e76481-b618-4948-af0b-4b71727b1201.jpeg\n"
          ]
        },
        {
          "output_type": "stream",
          "name": "stderr",
          "text": [
            "\r 55%|█████▍    | 1964/3600 [08:08<05:47,  4.71it/s]"
          ]
        },
        {
          "output_type": "stream",
          "name": "stdout",
          "text": [
            "URL inválida para el índice 1963: https://a0.muscache.com/pictures/prohost-api/Hosting-608359496810075683/original/eadf3fdf-0d24-4922-b7c3-3fa533b1a24a.jpeg\n"
          ]
        },
        {
          "output_type": "stream",
          "name": "stderr",
          "text": [
            "\r 55%|█████▍    | 1965/3600 [08:08<05:47,  4.70it/s]"
          ]
        },
        {
          "output_type": "stream",
          "name": "stdout",
          "text": [
            "URL inválida para el índice 1964: https://a0.muscache.com/pictures/miso/Hosting-608658771570500261/original/4f9287ef-9726-49bd-afd7-1261614c2e23.jpeg\n"
          ]
        },
        {
          "output_type": "stream",
          "name": "stderr",
          "text": [
            " 55%|█████▍    | 1976/3600 [08:11<06:51,  3.94it/s]"
          ]
        },
        {
          "output_type": "stream",
          "name": "stdout",
          "text": [
            "URL inválida para el índice 1975: https://a0.muscache.com/pictures/prohost-api/Hosting-612908141225302683/original/8e783dfe-af26-4041-aba6-343259802678.jpeg\n"
          ]
        },
        {
          "output_type": "stream",
          "name": "stderr",
          "text": [
            " 55%|█████▌    | 1995/3600 [08:17<06:34,  4.06it/s]"
          ]
        },
        {
          "output_type": "stream",
          "name": "stdout",
          "text": [
            "URL inválida para el índice 1994: https://a0.muscache.com/pictures/prohost-api/Hosting-619253446291935967/original/6c8e77a8-3db8-4644-a736-8d137bf3d00a.jpeg\n"
          ]
        },
        {
          "output_type": "stream",
          "name": "stderr",
          "text": [
            " 56%|█████▌    | 2001/3600 [08:20<09:10,  2.90it/s]"
          ]
        },
        {
          "output_type": "stream",
          "name": "stdout",
          "text": [
            "URL inválida para el índice 1999: https://a0.muscache.com/pictures/prohost-api/Hosting-620726386166322193/original/4ef78345-dfe4-4e20-bc50-f5f846db8dbe.jpeg\n"
          ]
        },
        {
          "output_type": "stream",
          "name": "stderr",
          "text": [
            " 56%|█████▌    | 2006/3600 [08:22<07:05,  3.75it/s]"
          ]
        },
        {
          "output_type": "stream",
          "name": "stdout",
          "text": [
            "URL inválida para el índice 2005: https://a0.muscache.com/pictures/miso/Hosting-622413306658128240/original/0a864c78-21a8-412e-b679-c11b68b3eda6.jpeg\n"
          ]
        },
        {
          "output_type": "stream",
          "name": "stderr",
          "text": [
            " 56%|█████▌    | 2010/3600 [08:22<05:42,  4.64it/s]"
          ]
        },
        {
          "output_type": "stream",
          "name": "stdout",
          "text": [
            "URL inválida para el índice 2008: https://a0.muscache.com/pictures/prohost-api/Hosting-623029409486034434/original/c291ac87-a95e-4baa-9831-8b80607ea8fa.jpeg\n"
          ]
        },
        {
          "output_type": "stream",
          "name": "stderr",
          "text": [
            " 56%|█████▌    | 2013/3600 [08:23<06:44,  3.93it/s]"
          ]
        },
        {
          "output_type": "stream",
          "name": "stdout",
          "text": [
            "URL inválida para el índice 2011: https://a0.muscache.com/pictures/prohost-api/Hosting-623174295658849560/original/dc77fe0f-5d72-4075-887f-2ab98da928a7.jpeg\n",
            "URL inválida para el índice 2012: https://a0.muscache.com/pictures/prohost-api/Hosting-623619726219332946/original/14609c8d-a85d-4929-b395-b1f673d19062.jpeg\n"
          ]
        },
        {
          "output_type": "stream",
          "name": "stderr",
          "text": [
            " 56%|█████▋    | 2027/3600 [08:27<05:05,  5.15it/s]"
          ]
        },
        {
          "output_type": "stream",
          "name": "stdout",
          "text": [
            "URL inválida para el índice 2026: https://a0.muscache.com/pictures/prohost-api/Hosting-633058908634454665/original/d584f0b2-3d14-4263-b200-b4a159ee0bb4.jpeg\n"
          ]
        },
        {
          "output_type": "stream",
          "name": "stderr",
          "text": [
            "\r 56%|█████▋    | 2028/3600 [08:27<05:43,  4.58it/s]"
          ]
        },
        {
          "output_type": "stream",
          "name": "stdout",
          "text": [
            "URL inválida para el índice 2027: https://a0.muscache.com/pictures/84794d3e-d997-480c-b9c7-4fe8ab39f676.jpg\n"
          ]
        },
        {
          "output_type": "stream",
          "name": "stderr",
          "text": [
            " 56%|█████▋    | 2034/3600 [08:28<05:23,  4.83it/s]"
          ]
        },
        {
          "output_type": "stream",
          "name": "stdout",
          "text": [
            "URL inválida para el índice 2032: https://a0.muscache.com/pictures/prohost-api/Hosting-634543701606720546/original/6b2b925e-f7ec-400e-8ae5-f9d1696971af.jpeg\n"
          ]
        },
        {
          "output_type": "stream",
          "name": "stderr",
          "text": [
            " 57%|█████▋    | 2042/3600 [08:31<11:04,  2.34it/s]"
          ]
        },
        {
          "output_type": "stream",
          "name": "stdout",
          "text": [
            "URL inválida para el índice 2041: https://a0.muscache.com/pictures/miso/Hosting-636288932942854774/original/53176ca0-ac54-4306-80b9-440cf02b21a1.jpeg\n"
          ]
        },
        {
          "output_type": "stream",
          "name": "stderr",
          "text": [
            " 57%|█████▋    | 2045/3600 [08:32<06:08,  4.22it/s]"
          ]
        },
        {
          "output_type": "stream",
          "name": "stdout",
          "text": [
            "URL inválida para el índice 2042: https://a0.muscache.com/pictures/prohost-api/Hosting-638235027182813304/original/e8025544-cf54-4bd1-9f8a-ffb9e9869afe.jpeg\n"
          ]
        },
        {
          "output_type": "stream",
          "name": "stderr",
          "text": [
            " 58%|█████▊    | 2076/3600 [08:39<05:59,  4.23it/s]"
          ]
        },
        {
          "output_type": "stream",
          "name": "stdout",
          "text": [
            "URL inválida para el índice 2075: https://a0.muscache.com/pictures/b5f824b9-f2b3-4dae-9d35-5fec22d94a3a.jpg\n"
          ]
        },
        {
          "output_type": "stream",
          "name": "stderr",
          "text": [
            " 58%|█████▊    | 2082/3600 [08:40<05:52,  4.30it/s]"
          ]
        },
        {
          "output_type": "stream",
          "name": "stdout",
          "text": [
            "URL inválida para el índice 2081: https://a0.muscache.com/pictures/prohost-api/Hosting-655514870814006563/original/724771b1-5a01-4fdd-909c-e7d727a7bd81.jpeg\n"
          ]
        },
        {
          "output_type": "stream",
          "name": "stderr",
          "text": [
            "\r 58%|█████▊    | 2083/3600 [08:40<05:57,  4.24it/s]"
          ]
        },
        {
          "output_type": "stream",
          "name": "stdout",
          "text": [
            "URL inválida para el índice 2082: https://a0.muscache.com/pictures/prohost-api/Hosting-655515158683197472/original/4b649a39-4db9-4bb2-bff6-5a4bdc248087.jpeg\n"
          ]
        },
        {
          "output_type": "stream",
          "name": "stderr",
          "text": [
            "\r 58%|█████▊    | 2084/3600 [08:41<06:08,  4.11it/s]"
          ]
        },
        {
          "output_type": "stream",
          "name": "stdout",
          "text": [
            "URL inválida para el índice 2083: https://a0.muscache.com/pictures/prohost-api/Hosting-655515533603303924/original/81017bdd-993a-47c5-9221-58cd085f4a6c.jpeg\n"
          ]
        },
        {
          "output_type": "stream",
          "name": "stderr",
          "text": [
            " 58%|█████▊    | 2090/3600 [08:42<04:43,  5.34it/s]"
          ]
        },
        {
          "output_type": "stream",
          "name": "stdout",
          "text": [
            "URL inválida para el índice 2088: https://a0.muscache.com/pictures/prohost-api/Hosting-658616819945465934/original/23ab522e-1c82-401f-b979-95f7f667f284.jpeg\n",
            "URL inválida para el índice 2089: https://a0.muscache.com/pictures/miso/Hosting-658713146354442625/original/43d951e7-f273-4e91-970d-d02965c399e3.jpeg\n"
          ]
        },
        {
          "output_type": "stream",
          "name": "stderr",
          "text": [
            " 58%|█████▊    | 2092/3600 [08:42<06:23,  3.93it/s]"
          ]
        },
        {
          "output_type": "stream",
          "name": "stdout",
          "text": [
            "URL inválida para el índice 2091: https://a0.muscache.com/pictures/miso/Hosting-658765857439531363/original/616fe3ad-23bb-49cc-bf8b-66453e0dd7ff.jpeg\n"
          ]
        },
        {
          "output_type": "stream",
          "name": "stderr",
          "text": [
            " 58%|█████▊    | 2095/3600 [08:43<05:11,  4.83it/s]"
          ]
        },
        {
          "output_type": "stream",
          "name": "stdout",
          "text": [
            "URL inválida para el índice 2093: https://a0.muscache.com/pictures/prohost-api/Hosting-659156386290642679/original/a5625cb5-579d-496f-9ccb-25b8f722b917.jpeg\n"
          ]
        },
        {
          "output_type": "stream",
          "name": "stderr",
          "text": [
            "\r 58%|█████▊    | 2096/3600 [08:43<05:40,  4.42it/s]"
          ]
        },
        {
          "output_type": "stream",
          "name": "stdout",
          "text": [
            "URL inválida para el índice 2095: https://a0.muscache.com/pictures/miso/Hosting-659511501225097577/original/3bee1537-70e2-421a-9886-7da374880177.jpeg\n"
          ]
        },
        {
          "output_type": "stream",
          "name": "stderr",
          "text": [
            " 59%|█████▊    | 2110/3600 [08:48<07:02,  3.53it/s]"
          ]
        },
        {
          "output_type": "stream",
          "name": "stdout",
          "text": [
            "URL inválida para el índice 2109: https://a0.muscache.com/pictures/prohost-api/Hosting-666383993088270320/original/143267b2-34a1-4129-91e7-cfbf5ffd99f2.jpeg\n"
          ]
        },
        {
          "output_type": "stream",
          "name": "stderr",
          "text": [
            " 59%|█████▉    | 2116/3600 [08:49<05:37,  4.39it/s]"
          ]
        },
        {
          "output_type": "stream",
          "name": "stdout",
          "text": [
            "URL inválida para el índice 2114: https://a0.muscache.com/pictures/miso/Hosting-668818916257742515/original/d356e43b-10f2-4007-af4c-5984cddf69d2.png\n"
          ]
        },
        {
          "output_type": "stream",
          "name": "stderr",
          "text": [
            " 59%|█████▉    | 2122/3600 [08:50<03:38,  6.77it/s]"
          ]
        },
        {
          "output_type": "stream",
          "name": "stdout",
          "text": [
            "URL inválida para el índice 2119: https://a0.muscache.com/pictures/prohost-api/Hosting-670105594005404482/original/c1ffef6e-0359-4048-bbe6-229ca2fb8cd4.jpeg\n"
          ]
        },
        {
          "output_type": "stream",
          "name": "stderr",
          "text": [
            " 59%|█████▉    | 2136/3600 [08:54<08:53,  2.74it/s]"
          ]
        },
        {
          "output_type": "stream",
          "name": "stdout",
          "text": [
            "URL inválida para el índice 2135: https://a0.muscache.com/pictures/prohost-api/Hosting-674344475189896557/original/0f94223f-171b-4a36-a250-df3e83b79b73.jpeg\n"
          ]
        },
        {
          "output_type": "stream",
          "name": "stderr",
          "text": [
            " 59%|█████▉    | 2141/3600 [08:55<06:52,  3.53it/s]"
          ]
        },
        {
          "output_type": "stream",
          "name": "stdout",
          "text": [
            "URL inválida para el índice 2140: https://a0.muscache.com/pictures/prohost-api/Hosting-676483872976026157/original/95466906-23db-48dc-9947-d752a219a166.jpeg\n"
          ]
        },
        {
          "output_type": "stream",
          "name": "stderr",
          "text": [
            " 60%|█████▉    | 2145/3600 [08:56<06:10,  3.92it/s]"
          ]
        },
        {
          "output_type": "stream",
          "name": "stdout",
          "text": [
            "URL inválida para el índice 2144: https://a0.muscache.com/pictures/miso/Hosting-676898605599494749/original/b1d7b7be-c4e1-44a8-8c57-3d1d3060f4d1.jpeg\n"
          ]
        },
        {
          "output_type": "stream",
          "name": "stderr",
          "text": [
            " 60%|█████▉    | 2157/3600 [08:59<06:00,  4.00it/s]"
          ]
        },
        {
          "output_type": "stream",
          "name": "stdout",
          "text": [
            "URL inválida para el índice 2155: https://a0.muscache.com/pictures/prohost-api/Hosting-683768558849092912/original/ecfe8989-8d18-4c1b-8c30-cb601c156236.jpeg\n"
          ]
        },
        {
          "output_type": "stream",
          "name": "stderr",
          "text": [
            " 60%|██████    | 2163/3600 [09:00<04:43,  5.06it/s]"
          ]
        },
        {
          "output_type": "stream",
          "name": "stdout",
          "text": [
            "URL inválida para el índice 2160: https://a0.muscache.com/pictures/miso/Hosting-684685835346260348/original/78cbf802-27a4-4152-b2f6-82720971e554.jpeg\n"
          ]
        },
        {
          "output_type": "stream",
          "name": "stderr",
          "text": [
            " 60%|██████    | 2169/3600 [09:01<05:24,  4.41it/s]"
          ]
        },
        {
          "output_type": "stream",
          "name": "stdout",
          "text": [
            "URL inválida para el índice 2168: https://a0.muscache.com/pictures/prohost-api/Hosting-686659102449877793/original/3480e3f2-af15-463e-a8ed-403fe2efbbf1.jpeg\n"
          ]
        },
        {
          "output_type": "stream",
          "name": "stderr",
          "text": [
            " 60%|██████    | 2177/3600 [09:03<05:07,  4.63it/s]"
          ]
        },
        {
          "output_type": "stream",
          "name": "stdout",
          "text": [
            "URL inválida para el índice 2176: https://a0.muscache.com/pictures/prohost-api/Hosting-688910480628831655/original/7eb3e919-d4d4-4fea-85c6-299d855bb99c.jpeg\n"
          ]
        },
        {
          "output_type": "stream",
          "name": "stderr",
          "text": [
            " 61%|██████    | 2180/3600 [09:04<05:41,  4.15it/s]"
          ]
        },
        {
          "output_type": "stream",
          "name": "stdout",
          "text": [
            "URL inválida para el índice 2178: https://a0.muscache.com/pictures/prohost-api/Hosting-689607534898158572/original/860e07b2-0022-4a83-a3cb-c651897ae6fd.jpeg\n"
          ]
        },
        {
          "output_type": "stream",
          "name": "stderr",
          "text": [
            " 61%|██████    | 2187/3600 [09:05<04:16,  5.51it/s]"
          ]
        },
        {
          "output_type": "stream",
          "name": "stdout",
          "text": [
            "URL inválida para el índice 2185: https://a0.muscache.com/pictures/prohost-api/Hosting-690400586934454556/original/eca7926b-53b1-47b7-9e3e-d9f75a03f565.jpeg\n",
            "URL inválida para el índice 2186: https://a0.muscache.com/pictures/prohost-api/Hosting-690400874919227004/original/3604456d-ecc0-429a-84f4-d200db16a3a2.jpeg\n"
          ]
        },
        {
          "output_type": "stream",
          "name": "stderr",
          "text": [
            " 61%|██████    | 2200/3600 [09:07<03:32,  6.58it/s]"
          ]
        },
        {
          "output_type": "stream",
          "name": "stdout",
          "text": [
            "URL inválida para el índice 2198: https://a0.muscache.com/pictures/60f99764-d820-4727-9a0f-5a374cf33550.jpg\n"
          ]
        },
        {
          "output_type": "stream",
          "name": "stderr",
          "text": [
            " 61%|██████    | 2203/3600 [09:08<03:26,  6.78it/s]"
          ]
        },
        {
          "output_type": "stream",
          "name": "stdout",
          "text": [
            "URL inválida para el índice 2201: https://a0.muscache.com/pictures/miso/Hosting-695868903061431283/original/82ee9450-7b8b-4446-953a-c4d6ba9a5a39.jpeg\n"
          ]
        },
        {
          "output_type": "stream",
          "name": "stderr",
          "text": [
            " 62%|██████▏   | 2216/3600 [09:10<04:05,  5.63it/s]"
          ]
        },
        {
          "output_type": "stream",
          "name": "stdout",
          "text": [
            "URL inválida para el índice 2214: https://a0.muscache.com/pictures/prohost-api/Hosting-700542874333492403/original/462f7165-0c4f-4625-a4fb-70285cf183ce.jpeg\n"
          ]
        },
        {
          "output_type": "stream",
          "name": "stderr",
          "text": [
            "\r 62%|██████▏   | 2218/3600 [09:11<03:41,  6.25it/s]"
          ]
        },
        {
          "output_type": "stream",
          "name": "stdout",
          "text": [
            "URL inválida para el índice 2217: https://a0.muscache.com/pictures/prohost-api/Hosting-701903542880060170/original/72a22598-6367-4d7a-adb4-e65276b03521.jpeg\n"
          ]
        },
        {
          "output_type": "stream",
          "name": "stderr",
          "text": [
            "\r 62%|██████▏   | 2219/3600 [09:11<04:07,  5.58it/s]"
          ]
        },
        {
          "output_type": "stream",
          "name": "stdout",
          "text": [
            "URL inválida para el índice 2218: https://a0.muscache.com/pictures/prohost-api/Hosting-701903839431825131/original/c7900b9a-b922-4727-9ae4-97b7efadb52b.jpeg\n"
          ]
        },
        {
          "output_type": "stream",
          "name": "stderr",
          "text": [
            " 62%|██████▏   | 2221/3600 [09:11<04:14,  5.43it/s]"
          ]
        },
        {
          "output_type": "stream",
          "name": "stdout",
          "text": [
            "URL inválida para el índice 2219: https://a0.muscache.com/pictures/miso/Hosting-702072857749096679/original/3abdc597-8b18-42d9-bba0-5279e2d0afb4.jpeg\n"
          ]
        },
        {
          "output_type": "stream",
          "name": "stderr",
          "text": [
            " 62%|██████▏   | 2224/3600 [09:12<05:34,  4.11it/s]"
          ]
        },
        {
          "output_type": "stream",
          "name": "stdout",
          "text": [
            "URL inválida para el índice 2223: https://a0.muscache.com/pictures/prohost-api/Hosting-702196791016760152/original/d0974756-6243-4cc3-a3a6-c4fd2ae11096.jpeg\n"
          ]
        },
        {
          "output_type": "stream",
          "name": "stderr",
          "text": [
            " 62%|██████▏   | 2228/3600 [09:13<05:02,  4.54it/s]"
          ]
        },
        {
          "output_type": "stream",
          "name": "stdout",
          "text": [
            "URL inválida para el índice 2227: https://a0.muscache.com/pictures/prohost-api/Hosting-704785038887176281/original/8944038f-882a-4838-8fb2-8eb90483b2f7.jpeg\n"
          ]
        },
        {
          "output_type": "stream",
          "name": "stderr",
          "text": [
            " 62%|██████▏   | 2236/3600 [09:16<05:57,  3.82it/s]"
          ]
        },
        {
          "output_type": "stream",
          "name": "stdout",
          "text": [
            "URL inválida para el índice 2234: https://a0.muscache.com/pictures/miso/Hosting-706391605702679581/original/beb334ca-0ad1-485b-8624-d8520c609a93.jpeg\n"
          ]
        },
        {
          "output_type": "stream",
          "name": "stderr",
          "text": [
            " 63%|██████▎   | 2264/3600 [09:23<04:27,  5.00it/s]"
          ]
        },
        {
          "output_type": "stream",
          "name": "stdout",
          "text": [
            "URL inválida para el índice 2262: https://a0.muscache.com/pictures/miso/Hosting-713140450013616661/original/28881ace-22f5-41c9-9fe8-066782997460.jpeg\n"
          ]
        },
        {
          "output_type": "stream",
          "name": "stderr",
          "text": [
            " 63%|██████▎   | 2267/3600 [09:24<07:22,  3.01it/s]"
          ]
        },
        {
          "output_type": "stream",
          "name": "stdout",
          "text": [
            "URL inválida para el índice 2266: https://a0.muscache.com/pictures/prohost-api/Hosting-714656100145703498/original/06ce250c-d54d-400f-9758-181d559981c1.jpeg\n"
          ]
        },
        {
          "output_type": "stream",
          "name": "stderr",
          "text": [
            " 63%|██████▎   | 2270/3600 [09:25<06:48,  3.25it/s]"
          ]
        },
        {
          "output_type": "stream",
          "name": "stdout",
          "text": [
            "URL inválida para el índice 2269: https://a0.muscache.com/pictures/prohost-api/Hosting-715658190467254169/original/499eb09f-69a0-454d-9c04-45201932224d.jpeg\n"
          ]
        },
        {
          "output_type": "stream",
          "name": "stderr",
          "text": [
            " 63%|██████▎   | 2281/3600 [09:28<06:45,  3.25it/s]"
          ]
        },
        {
          "output_type": "stream",
          "name": "stdout",
          "text": [
            "URL inválida para el índice 2279: https://a0.muscache.com/pictures/miso/Hosting-719467171987235663/original/cbee6a61-c29c-4b42-a699-4d3f631a68e4.jpeg\n"
          ]
        },
        {
          "output_type": "stream",
          "name": "stderr",
          "text": [
            " 63%|██████▎   | 2284/3600 [09:30<08:25,  2.60it/s]"
          ]
        },
        {
          "output_type": "stream",
          "name": "stdout",
          "text": [
            "URL inválida para el índice 2283: https://a0.muscache.com/pictures/prohost-api/Hosting-719990238559489665/original/f7f84f22-7cb1-4c16-bb2e-2f9512d4a457.jpeg\n"
          ]
        },
        {
          "output_type": "stream",
          "name": "stderr",
          "text": [
            " 64%|██████▍   | 2295/3600 [09:33<04:12,  5.17it/s]"
          ]
        },
        {
          "output_type": "stream",
          "name": "stdout",
          "text": [
            "URL inválida para el índice 2294: https://a0.muscache.com/pictures/prohost-api/Hosting-726396583833243890/original/0a2f3fc3-ed29-4b75-8512-542f230e5e38.jpeg\n"
          ]
        },
        {
          "output_type": "stream",
          "name": "stderr",
          "text": [
            " 64%|██████▍   | 2297/3600 [09:33<04:04,  5.33it/s]"
          ]
        },
        {
          "output_type": "stream",
          "name": "stdout",
          "text": [
            "URL inválida para el índice 2295: https://a0.muscache.com/pictures/prohost-api/Hosting-727368563191104397/original/190319a4-3aa3-4c7e-835e-8178968d8c05.jpeg\n"
          ]
        },
        {
          "output_type": "stream",
          "name": "stderr",
          "text": [
            " 64%|██████▍   | 2307/3600 [09:36<06:17,  3.43it/s]"
          ]
        },
        {
          "output_type": "stream",
          "name": "stdout",
          "text": [
            "URL inválida para el índice 2306: https://a0.muscache.com/pictures/prohost-api/Hosting-731581616930727750/original/1a164d45-a9a7-41b0-a8e1-207901dc987a.jpeg\n"
          ]
        },
        {
          "output_type": "stream",
          "name": "stderr",
          "text": [
            " 65%|██████▍   | 2323/3600 [09:41<06:00,  3.54it/s]"
          ]
        },
        {
          "output_type": "stream",
          "name": "stdout",
          "text": [
            "URL inválida para el índice 2322: https://a0.muscache.com/pictures/6679d540-9cda-484e-abbf-35d067470774.jpg\n"
          ]
        },
        {
          "output_type": "stream",
          "name": "stderr",
          "text": [
            " 65%|██████▍   | 2326/3600 [09:41<04:15,  5.00it/s]"
          ]
        },
        {
          "output_type": "stream",
          "name": "stdout",
          "text": [
            "URL inválida para el índice 2324: https://a0.muscache.com/pictures/prohost-api/Hosting-741745368954817653/original/0114337a-c460-4155-8091-f2eae2a7de2a.jpeg\n"
          ]
        },
        {
          "output_type": "stream",
          "name": "stderr",
          "text": [
            " 65%|██████▌   | 2340/3600 [09:47<14:38,  1.43it/s]"
          ]
        },
        {
          "output_type": "stream",
          "name": "stdout",
          "text": [
            "URL inválida para el índice 2339: https://a0.muscache.com/pictures/prohost-api/Hosting-751255733039018358/original/da152004-1dcb-4b85-8dc6-650a3e722ab2.jpeg\n"
          ]
        },
        {
          "output_type": "stream",
          "name": "stderr",
          "text": [
            "\r 65%|██████▌   | 2341/3600 [09:47<12:49,  1.64it/s]"
          ]
        },
        {
          "output_type": "stream",
          "name": "stdout",
          "text": [
            "URL inválida para el índice 2340: https://a0.muscache.com/pictures/prohost-api/Hosting-751256340541168925/original/6c5be02b-7131-43a8-93cb-54dd9f014882.jpeg\n"
          ]
        },
        {
          "output_type": "stream",
          "name": "stderr",
          "text": [
            " 66%|██████▌   | 2358/3600 [09:53<03:24,  6.07it/s]"
          ]
        },
        {
          "output_type": "stream",
          "name": "stdout",
          "text": [
            "URL inválida para el índice 2357: https://a0.muscache.com/pictures/prohost-api/Hosting-754921465460632358/original/70bf2190-e417-4dd4-bb6e-67e50c6f6731.jpeg\n"
          ]
        },
        {
          "output_type": "stream",
          "name": "stderr",
          "text": [
            " 66%|██████▌   | 2361/3600 [09:54<04:08,  4.99it/s]"
          ]
        },
        {
          "output_type": "stream",
          "name": "stdout",
          "text": [
            "URL inválida para el índice 2359: https://a0.muscache.com/pictures/miso/Hosting-755533469713682355/original/3b07598d-63c7-4649-bdf6-ad7b81f28ba8.png\n",
            "URL inválida para el índice 2360: https://a0.muscache.com/pictures/prohost-api/Hosting-755549554190811005/original/b4e9be91-0d2f-4600-8b05-c8aab038524c.jpeg\n"
          ]
        },
        {
          "output_type": "stream",
          "name": "stderr",
          "text": [
            "\r 66%|██████▌   | 2362/3600 [09:54<04:25,  4.67it/s]"
          ]
        },
        {
          "output_type": "stream",
          "name": "stdout",
          "text": [
            "URL inválida para el índice 2361: https://a0.muscache.com/pictures/prohost-api/Hosting-755550110633481973/original/56a84cb4-52f3-45f9-b369-510f7b97304d.jpeg\n"
          ]
        },
        {
          "output_type": "stream",
          "name": "stderr",
          "text": [
            " 66%|██████▌   | 2367/3600 [09:55<03:41,  5.58it/s]"
          ]
        },
        {
          "output_type": "stream",
          "name": "stdout",
          "text": [
            "URL inválida para el índice 2365: https://a0.muscache.com/pictures/prohost-api/Hosting-757021735358934310/original/0e052465-e5d6-43e6-b365-aebd543bb1d6.jpeg\n",
            "URL inválida para el índice 2366: https://a0.muscache.com/pictures/prohost-api/Hosting-757022023725678837/original/2dd6f3d9-d2f8-4675-89d1-04dfc65e7ee5.jpeg\n"
          ]
        },
        {
          "output_type": "stream",
          "name": "stderr",
          "text": [
            " 66%|██████▌   | 2374/3600 [09:56<04:26,  4.60it/s]"
          ]
        },
        {
          "output_type": "stream",
          "name": "stdout",
          "text": [
            "URL inválida para el índice 2372: https://a0.muscache.com/pictures/prohost-api/Hosting-759892648386172163/original/00d7d2e1-4d70-45a0-b5b5-70aa5a97df41.jpeg\n",
            "URL inválida para el índice 2373: https://a0.muscache.com/pictures/prohost-api/Hosting-759893468198280917/original/99beda76-af94-433a-a44e-fc64ec42a1e7.jpeg\n"
          ]
        },
        {
          "output_type": "stream",
          "name": "stderr",
          "text": [
            " 66%|██████▌   | 2376/3600 [09:57<03:46,  5.41it/s]"
          ]
        },
        {
          "output_type": "stream",
          "name": "stdout",
          "text": [
            "URL inválida para el índice 2374: https://a0.muscache.com/pictures/prohost-api/Hosting-759894024434692037/original/e799d2ec-ac47-4c18-aac6-9f7365d68684.jpeg\n"
          ]
        },
        {
          "output_type": "stream",
          "name": "stderr",
          "text": [
            " 66%|██████▌   | 2379/3600 [09:57<03:16,  6.21it/s]"
          ]
        },
        {
          "output_type": "stream",
          "name": "stdout",
          "text": [
            "URL inválida para el índice 2377: https://a0.muscache.com/pictures/miso/Hosting-760402775627338023/original/502b0062-d227-4c70-b9ed-73b47489b8d6.jpeg\n"
          ]
        },
        {
          "output_type": "stream",
          "name": "stderr",
          "text": [
            "\r 66%|██████▌   | 2380/3600 [09:57<03:31,  5.76it/s]"
          ]
        },
        {
          "output_type": "stream",
          "name": "stdout",
          "text": [
            "URL inválida para el índice 2379: https://a0.muscache.com/pictures/prohost-api/Hosting-761353275730186662/original/9e415f37-14ad-4903-bea0-7b333bc54158.jpeg\n"
          ]
        },
        {
          "output_type": "stream",
          "name": "stderr",
          "text": [
            "\r 66%|██████▌   | 2382/3600 [09:58<04:49,  4.20it/s]"
          ]
        },
        {
          "output_type": "stream",
          "name": "stdout",
          "text": [
            "URL inválida para el índice 2381: https://a0.muscache.com/pictures/prohost-api/Hosting-762164629747217079/original/bf8c5cf6-82fa-47ca-aa41-fba594e4a465.jpeg\n"
          ]
        },
        {
          "output_type": "stream",
          "name": "stderr",
          "text": [
            " 66%|██████▋   | 2386/3600 [09:59<04:55,  4.11it/s]"
          ]
        },
        {
          "output_type": "stream",
          "name": "stdout",
          "text": [
            "URL inválida para el índice 2385: https://a0.muscache.com/pictures/prohost-api/Hosting-762779193061469131/original/b3aa3c1a-b4d7-48c2-b53a-85fc5246eea4.jpeg\n"
          ]
        },
        {
          "output_type": "stream",
          "name": "stderr",
          "text": [
            " 66%|██████▋   | 2389/3600 [10:00<04:10,  4.84it/s]"
          ]
        },
        {
          "output_type": "stream",
          "name": "stdout",
          "text": [
            "URL inválida para el índice 2387: https://a0.muscache.com/pictures/miso/Hosting-763110046866087334/original/9217ce0f-6cf4-4c1a-bdc8-9996344b0bd8.jpeg\n"
          ]
        },
        {
          "output_type": "stream",
          "name": "stderr",
          "text": [
            " 66%|██████▋   | 2391/3600 [10:00<05:05,  3.96it/s]"
          ]
        },
        {
          "output_type": "stream",
          "name": "stdout",
          "text": [
            "URL inválida para el índice 2390: https://a0.muscache.com/pictures/prohost-api/Hosting-765006355721890182/original/889b9b8d-3793-4303-ab6a-096318081547.jpeg\n"
          ]
        },
        {
          "output_type": "stream",
          "name": "stderr",
          "text": [
            " 66%|██████▋   | 2393/3600 [10:01<04:31,  4.44it/s]"
          ]
        },
        {
          "output_type": "stream",
          "name": "stdout",
          "text": [
            "URL inválida para el índice 2391: https://a0.muscache.com/pictures/prohost-api/Hosting-765006895101554698/original/2f892b1f-4c4e-47fc-87ae-d5ea90b0d644.jpeg\n"
          ]
        },
        {
          "output_type": "stream",
          "name": "stderr",
          "text": [
            " 67%|██████▋   | 2398/3600 [10:04<11:02,  1.81it/s]"
          ]
        },
        {
          "output_type": "stream",
          "name": "stdout",
          "text": [
            "URL inválida para el índice 2397: https://a0.muscache.com/pictures/prohost-api/Hosting-765841349139671626/original/8b60663a-fa99-40b9-bc36-fba58ddc9897.jpeg\n"
          ]
        },
        {
          "output_type": "stream",
          "name": "stderr",
          "text": [
            "\r 67%|██████▋   | 2399/3600 [10:04<08:59,  2.22it/s]"
          ]
        },
        {
          "output_type": "stream",
          "name": "stdout",
          "text": [
            "URL inválida para el índice 2398: https://a0.muscache.com/pictures/prohost-api/Hosting-765841775181131141/original/61b43651-164b-4a56-932c-19be2a5c6672.jpeg\n"
          ]
        },
        {
          "output_type": "stream",
          "name": "stderr",
          "text": [
            "\r 67%|██████▋   | 2400/3600 [10:05<08:33,  2.34it/s]"
          ]
        },
        {
          "output_type": "stream",
          "name": "stdout",
          "text": [
            "URL inválida para el índice 2399: https://a0.muscache.com/pictures/prohost-api/Hosting-765842269075124283/original/625f8935-88e7-4f22-b0c4-340d86354392.jpeg\n"
          ]
        },
        {
          "output_type": "stream",
          "name": "stderr",
          "text": [
            "\r 67%|██████▋   | 2401/3600 [10:05<07:15,  2.75it/s]"
          ]
        },
        {
          "output_type": "stream",
          "name": "stdout",
          "text": [
            "URL inválida para el índice 2400: https://a0.muscache.com/pictures/prohost-api/Hosting-766443317316185027/original/b19f62cc-1722-4eca-8471-4e0de00d811b.jpeg\n"
          ]
        },
        {
          "output_type": "stream",
          "name": "stderr",
          "text": [
            "\r 67%|██████▋   | 2402/3600 [10:05<06:23,  3.12it/s]"
          ]
        },
        {
          "output_type": "stream",
          "name": "stdout",
          "text": [
            "URL inválida para el índice 2401: https://a0.muscache.com/pictures/prohost-api/Hosting-767351808354008385/original/f10e3840-8f80-4971-966d-b0498c8edb38.jpeg\n"
          ]
        },
        {
          "output_type": "stream",
          "name": "stderr",
          "text": [
            " 67%|██████▋   | 2404/3600 [10:06<05:11,  3.83it/s]"
          ]
        },
        {
          "output_type": "stream",
          "name": "stdout",
          "text": [
            "URL inválida para el índice 2402: https://a0.muscache.com/pictures/prohost-api/Hosting-767352123386196599/original/58d45c8b-b091-4b48-b9f7-beae0ffbf300.jpeg\n"
          ]
        },
        {
          "output_type": "stream",
          "name": "stderr",
          "text": [
            " 67%|██████▋   | 2412/3600 [10:08<05:39,  3.50it/s]"
          ]
        },
        {
          "output_type": "stream",
          "name": "stdout",
          "text": [
            "URL inválida para el índice 2411: https://a0.muscache.com/pictures/prohost-api/Hosting-771690696993014228/original/d415bb47-034b-4fdd-b47b-0241c4d7fbcc.jpeg\n"
          ]
        },
        {
          "output_type": "stream",
          "name": "stderr",
          "text": [
            " 67%|██████▋   | 2424/3600 [10:11<04:10,  4.70it/s]"
          ]
        },
        {
          "output_type": "stream",
          "name": "stdout",
          "text": [
            "URL inválida para el índice 2423: https://a0.muscache.com/pictures/prohost-api/Hosting-775261963711450110/original/9411b324-9455-4f85-8522-3d4722f49e8a.jpeg\n"
          ]
        },
        {
          "output_type": "stream",
          "name": "stderr",
          "text": [
            " 68%|██████▊   | 2430/3600 [10:13<05:39,  3.45it/s]"
          ]
        },
        {
          "output_type": "stream",
          "name": "stdout",
          "text": [
            "URL inválida para el índice 2429: https://a0.muscache.com/pictures/prohost-api/Hosting-776610853880546976/original/d160751f-bf07-4189-9744-2549b6434e0f.jpeg\n"
          ]
        },
        {
          "output_type": "stream",
          "name": "stderr",
          "text": [
            " 68%|██████▊   | 2447/3600 [10:17<03:05,  6.22it/s]"
          ]
        },
        {
          "output_type": "stream",
          "name": "stdout",
          "text": [
            "URL inválida para el índice 2446: https://a0.muscache.com/pictures/prohost-api/Hosting-781001738751122967/original/9762344a-bfb9-49d6-89bc-37581a6eb986.jpeg\n"
          ]
        },
        {
          "output_type": "stream",
          "name": "stderr",
          "text": [
            " 68%|██████▊   | 2452/3600 [10:19<05:33,  3.45it/s]"
          ]
        },
        {
          "output_type": "stream",
          "name": "stdout",
          "text": [
            "URL inválida para el índice 2451: https://a0.muscache.com/pictures/prohost-api/Hosting-786807008620011176/original/111baacf-cf4f-480a-b934-b0dd982356df.jpeg\n"
          ]
        },
        {
          "output_type": "stream",
          "name": "stderr",
          "text": [
            "\r 68%|██████▊   | 2453/3600 [10:19<05:42,  3.35it/s]"
          ]
        },
        {
          "output_type": "stream",
          "name": "stdout",
          "text": [
            "URL inválida para el índice 2452: https://a0.muscache.com/pictures/prohost-api/Hosting-787547697386254974/original/c2a3c7b3-2ebd-422b-a8b1-651935ef7714.jpeg\n"
          ]
        },
        {
          "output_type": "stream",
          "name": "stderr",
          "text": [
            " 68%|██████▊   | 2466/3600 [10:24<04:44,  3.99it/s]"
          ]
        },
        {
          "output_type": "stream",
          "name": "stdout",
          "text": [
            "URL inválida para el índice 2465: https://a0.muscache.com/pictures/prohost-api/Hosting-796990908736037328/original/703a2531-bebf-44e2-92ea-bb4e4914c8a3.jpeg\n"
          ]
        },
        {
          "output_type": "stream",
          "name": "stderr",
          "text": [
            "\r 69%|██████▊   | 2467/3600 [10:24<04:48,  3.93it/s]"
          ]
        },
        {
          "output_type": "stream",
          "name": "stdout",
          "text": [
            "URL inválida para el índice 2466: https://a0.muscache.com/pictures/prohost-api/Hosting-797634392623375373/original/f3795ac6-2cab-4776-9e1b-8bd62eb563b0.jpeg\n"
          ]
        },
        {
          "output_type": "stream",
          "name": "stderr",
          "text": [
            " 69%|██████▊   | 2469/3600 [10:25<04:41,  4.02it/s]"
          ]
        },
        {
          "output_type": "stream",
          "name": "stdout",
          "text": [
            "URL inválida para el índice 2467: https://a0.muscache.com/pictures/prohost-api/Hosting-797634833378646656/original/8424416c-c551-48fd-ab2d-89d3307f9e8e.jpeg\n",
            "URL inválida para el índice 2468: https://a0.muscache.com/pictures/prohost-api/Hosting-797635200084843258/original/5a215a5f-70d6-47e7-84d2-5631f2c1e11f.jpeg\n"
          ]
        },
        {
          "output_type": "stream",
          "name": "stderr",
          "text": [
            " 69%|██████▉   | 2475/3600 [10:30<08:16,  2.27it/s]"
          ]
        },
        {
          "output_type": "stream",
          "name": "stdout",
          "text": [
            "URL inválida para el índice 2473: https://a0.muscache.com/pictures/miso/Hosting-798524113485453463/original/d3b5e0a2-bc8e-4d2a-b6d7-8b3e16cb716e.jpeg\n"
          ]
        },
        {
          "output_type": "stream",
          "name": "stderr",
          "text": [
            " 69%|██████▉   | 2478/3600 [10:30<04:42,  3.97it/s]"
          ]
        },
        {
          "output_type": "stream",
          "name": "stdout",
          "text": [
            "URL inválida para el índice 2476: https://a0.muscache.com/pictures/prohost-api/Hosting-801228312332129657/original/7eb80afa-4e49-41bd-ac94-d40f5e58dd4c.jpeg\n"
          ]
        },
        {
          "output_type": "stream",
          "name": "stderr",
          "text": [
            " 69%|██████▉   | 2491/3600 [10:32<02:58,  6.21it/s]"
          ]
        },
        {
          "output_type": "stream",
          "name": "stdout",
          "text": [
            "URL inválida para el índice 2489: https://a0.muscache.com/pictures/prohost-api/Hosting-802781307558619461/original/48e185c7-1d49-4119-bd27-d84aa825db6f.jpeg\n"
          ]
        },
        {
          "output_type": "stream",
          "name": "stderr",
          "text": [
            " 70%|██████▉   | 2518/3600 [10:45<05:47,  3.11it/s]"
          ]
        },
        {
          "output_type": "stream",
          "name": "stdout",
          "text": [
            "URL inválida para el índice 2516: https://a0.muscache.com/pictures/prohost-api/Hosting-810755335955230893/original/9a8f92c7-9910-4faa-9de3-d982d41082cf.jpeg\n"
          ]
        },
        {
          "output_type": "stream",
          "name": "stderr",
          "text": [
            " 71%|███████   | 2557/3600 [10:57<03:31,  4.93it/s]"
          ]
        },
        {
          "output_type": "stream",
          "name": "stdout",
          "text": [
            "URL inválida para el índice 2556: https://a0.muscache.com/pictures/prohost-api/Hosting-821501113985650809/original/8681efda-5f4c-4b0c-8f7c-e97bd9cee294.jpeg\n"
          ]
        },
        {
          "output_type": "stream",
          "name": "stderr",
          "text": [
            " 71%|███████▏  | 2570/3600 [11:03<07:53,  2.17it/s]"
          ]
        },
        {
          "output_type": "stream",
          "name": "stdout",
          "text": [
            "URL inválida para el índice 2569: https://a0.muscache.com/pictures/prohost-api/Hosting-825847770808405248/original/92be7552-7d96-4790-8103-c26894761c7c.jpeg\n"
          ]
        },
        {
          "output_type": "stream",
          "name": "stderr",
          "text": [
            " 71%|███████▏  | 2573/3600 [11:04<05:34,  3.07it/s]"
          ]
        },
        {
          "output_type": "stream",
          "name": "stdout",
          "text": [
            "URL inválida para el índice 2572: https://a0.muscache.com/pictures/prohost-api/Hosting-826562966046818110/original/a15df900-7671-4279-bed9-141dfa83a04c.jpeg\n"
          ]
        },
        {
          "output_type": "stream",
          "name": "stderr",
          "text": [
            " 72%|███████▏  | 2583/3600 [11:08<05:08,  3.29it/s]"
          ]
        },
        {
          "output_type": "stream",
          "name": "stdout",
          "text": [
            "URL inválida para el índice 2582: https://a0.muscache.com/pictures/prohost-api/Hosting-828014040320230036/original/154db478-c931-40ad-863e-a2e0bb214580.jpeg\n"
          ]
        },
        {
          "output_type": "stream",
          "name": "stderr",
          "text": [
            "\r 72%|███████▏  | 2584/3600 [11:08<05:18,  3.19it/s]"
          ]
        },
        {
          "output_type": "stream",
          "name": "stdout",
          "text": [
            "URL inválida para el índice 2583: https://a0.muscache.com/pictures/prohost-api/Hosting-828194448965037333/original/3075b2e5-4c56-4b5a-83f5-c15c8c9a9af3.jpeg\n"
          ]
        },
        {
          "output_type": "stream",
          "name": "stderr",
          "text": [
            " 72%|███████▏  | 2600/3600 [11:14<07:12,  2.31it/s]"
          ]
        },
        {
          "output_type": "stream",
          "name": "stdout",
          "text": [
            "URL inválida para el índice 2599: https://a0.muscache.com/pictures/prohost-api/Hosting-831735030713466807/original/2089092b-7f4d-48c4-b58d-85c364518d9d.jpeg\n"
          ]
        },
        {
          "output_type": "stream",
          "name": "stderr",
          "text": [
            " 72%|███████▏  | 2605/3600 [11:18<10:38,  1.56it/s]"
          ]
        },
        {
          "output_type": "stream",
          "name": "stdout",
          "text": [
            "URL inválida para el índice 2604: https://a0.muscache.com/pictures/miso/Hosting-831961056951139768/original/b733330c-1d81-44bd-8abc-7625d0b593e0.jpeg\n"
          ]
        },
        {
          "output_type": "stream",
          "name": "stderr",
          "text": [
            " 73%|███████▎  | 2628/3600 [11:25<04:17,  3.77it/s]"
          ]
        },
        {
          "output_type": "stream",
          "name": "stdout",
          "text": [
            "URL inválida para el índice 2627: https://a0.muscache.com/pictures/prohost-api/Hosting-837439628788914345/original/98df5bc2-f2b9-4e45-8889-0840694e2a65.jpeg\n"
          ]
        },
        {
          "output_type": "stream",
          "name": "stderr",
          "text": [
            "\r 73%|███████▎  | 2629/3600 [11:26<04:03,  3.99it/s]"
          ]
        },
        {
          "output_type": "stream",
          "name": "stdout",
          "text": [
            "URL inválida para el índice 2628: https://a0.muscache.com/pictures/prohost-api/Hosting-837439944560637250/original/a2ab5dd1-b06b-4bef-9450-059f7fb348dd.jpeg\n"
          ]
        },
        {
          "output_type": "stream",
          "name": "stderr",
          "text": [
            " 73%|███████▎  | 2631/3600 [11:26<04:16,  3.78it/s]"
          ]
        },
        {
          "output_type": "stream",
          "name": "stdout",
          "text": [
            "URL inválida para el índice 2629: https://a0.muscache.com/pictures/prohost-api/Hosting-837538755134178518/original/f43f192b-ec84-4ba8-ac5a-e6e2ea086a22.jpeg\n"
          ]
        },
        {
          "output_type": "stream",
          "name": "stderr",
          "text": [
            " 74%|███████▎  | 2651/3600 [11:31<03:35,  4.41it/s]"
          ]
        },
        {
          "output_type": "stream",
          "name": "stdout",
          "text": [
            "URL inválida para el índice 2650: https://a0.muscache.com/pictures/93e612ae-9c1e-4f14-9b1c-4fc1d10a29ac.jpg\n"
          ]
        },
        {
          "output_type": "stream",
          "name": "stderr",
          "text": [
            " 74%|███████▍  | 2663/3600 [11:34<03:25,  4.55it/s]"
          ]
        },
        {
          "output_type": "stream",
          "name": "stdout",
          "text": [
            "URL inválida para el índice 2662: https://a0.muscache.com/pictures/prohost-api/Hosting-846872271807146973/original/37a65bbf-bcbf-4962-a9d9-77ec4d18f89b.jpeg\n"
          ]
        },
        {
          "output_type": "stream",
          "name": "stderr",
          "text": [
            " 74%|███████▍  | 2665/3600 [11:34<02:59,  5.22it/s]"
          ]
        },
        {
          "output_type": "stream",
          "name": "stdout",
          "text": [
            "URL inválida para el índice 2663: https://a0.muscache.com/pictures/prohost-api/Hosting-846872983266331248/original/91cd35d5-7731-4c46-af04-b74b2402b6b9.jpeg\n"
          ]
        },
        {
          "output_type": "stream",
          "name": "stderr",
          "text": [
            " 74%|███████▍  | 2678/3600 [11:37<03:24,  4.51it/s]"
          ]
        },
        {
          "output_type": "stream",
          "name": "stdout",
          "text": [
            "URL inválida para el índice 2677: https://a0.muscache.com/pictures/miso/Hosting-852166516716286801/original/ec756235-fbc3-43a6-b18f-0c82eb62dcb0.jpeg\n"
          ]
        },
        {
          "output_type": "stream",
          "name": "stderr",
          "text": [
            " 75%|███████▍  | 2690/3600 [11:39<02:21,  6.44it/s]"
          ]
        },
        {
          "output_type": "stream",
          "name": "stdout",
          "text": [
            "URL inválida para el índice 2689: https://a0.muscache.com/pictures/prohost-api/Hosting-853391813264548119/original/f64e818d-e441-4018-a7bf-1e650c91770d.jpeg\n"
          ]
        },
        {
          "output_type": "stream",
          "name": "stderr",
          "text": [
            " 75%|███████▌  | 2706/3600 [11:42<02:39,  5.60it/s]"
          ]
        },
        {
          "output_type": "stream",
          "name": "stdout",
          "text": [
            "URL inválida para el índice 2705: https://a0.muscache.com/pictures/prohost-api/Hosting-861331609777147421/original/8c2cf983-4dab-4ee6-9664-6f3b8c106aac.jpeg\n"
          ]
        },
        {
          "output_type": "stream",
          "name": "stderr",
          "text": [
            " 75%|███████▌  | 2713/3600 [11:44<03:27,  4.28it/s]"
          ]
        },
        {
          "output_type": "stream",
          "name": "stdout",
          "text": [
            "URL inválida para el índice 2711: https://a0.muscache.com/pictures/miso/Hosting-863764018590884065/original/290081c3-1745-4140-b111-f250e4c95d7a.jpeg\n",
            "URL inválida para el índice 2712: https://a0.muscache.com/pictures/miso/Hosting-863764173555125254/original/3948a636-ceb9-44a1-951d-d05e58a64dcd.jpeg\n"
          ]
        },
        {
          "output_type": "stream",
          "name": "stderr",
          "text": [
            "\r 75%|███████▌  | 2714/3600 [11:44<03:26,  4.29it/s]"
          ]
        },
        {
          "output_type": "stream",
          "name": "stdout",
          "text": [
            "URL inválida para el índice 2713: https://a0.muscache.com/pictures/miso/Hosting-863764278641845127/original/67420547-505e-4f64-a3d0-d2196a948460.jpeg\n"
          ]
        },
        {
          "output_type": "stream",
          "name": "stderr",
          "text": [
            " 76%|███████▌  | 2722/3600 [11:46<02:45,  5.32it/s]"
          ]
        },
        {
          "output_type": "stream",
          "name": "stdout",
          "text": [
            "URL inválida para el índice 2721: https://a0.muscache.com/pictures/miso/Hosting-865491574396499608/original/1c6e5ec0-13f3-4682-9b38-5d0c89cdc565.jpeg\n"
          ]
        },
        {
          "output_type": "stream",
          "name": "stderr",
          "text": [
            " 76%|███████▌  | 2743/3600 [11:53<03:33,  4.01it/s]"
          ]
        },
        {
          "output_type": "stream",
          "name": "stdout",
          "text": [
            "URL inválida para el índice 2741: https://a0.muscache.com/pictures/miso/Hosting-873108519560457453/original/2ffd99f1-3884-4512-a6f6-3630050e06ba.jpeg\n"
          ]
        },
        {
          "output_type": "stream",
          "name": "stderr",
          "text": [
            " 76%|███████▋  | 2745/3600 [11:53<03:27,  4.13it/s]"
          ]
        },
        {
          "output_type": "stream",
          "name": "stdout",
          "text": [
            "URL inválida para el índice 2744: https://a0.muscache.com/pictures/prohost-api/Hosting-873655282217473344/original/2ac2684b-614b-4870-8ce5-b89121a28a6e.jpeg\n"
          ]
        },
        {
          "output_type": "stream",
          "name": "stderr",
          "text": [
            "\r 76%|███████▋  | 2746/3600 [11:54<03:42,  3.84it/s]"
          ]
        },
        {
          "output_type": "stream",
          "name": "stdout",
          "text": [
            "URL inválida para el índice 2745: https://a0.muscache.com/pictures/prohost-api/Hosting-873658297449445896/original/2bb66c10-888b-437d-b47d-fa78d2b04dc2.jpeg\n"
          ]
        },
        {
          "output_type": "stream",
          "name": "stderr",
          "text": [
            " 77%|███████▋  | 2767/3600 [11:59<02:33,  5.42it/s]"
          ]
        },
        {
          "output_type": "stream",
          "name": "stdout",
          "text": [
            "URL inválida para el índice 2766: https://a0.muscache.com/pictures/miso/Hosting-882571653898142753/original/c47817bf-fdc3-4818-954b-0942f032faeb.jpeg\n"
          ]
        },
        {
          "output_type": "stream",
          "name": "stderr",
          "text": [
            " 77%|███████▋  | 2774/3600 [12:02<04:12,  3.27it/s]"
          ]
        },
        {
          "output_type": "stream",
          "name": "stdout",
          "text": [
            "URL inválida para el índice 2773: https://a0.muscache.com/pictures/ba781070-0a6c-49f1-9a57-bed6e5ec04c1.jpg\n"
          ]
        },
        {
          "output_type": "stream",
          "name": "stderr",
          "text": [
            " 77%|███████▋  | 2783/3600 [12:03<02:41,  5.06it/s]"
          ]
        },
        {
          "output_type": "stream",
          "name": "stdout",
          "text": [
            "URL inválida para el índice 2781: https://a0.muscache.com/pictures/prohost-api/Hosting-886762078865571429/original/1648a07a-d7d6-47e7-862b-72a2f0b88bad.jpeg\n"
          ]
        },
        {
          "output_type": "stream",
          "name": "stderr",
          "text": [
            " 78%|███████▊  | 2790/3600 [12:05<02:26,  5.54it/s]"
          ]
        },
        {
          "output_type": "stream",
          "name": "stdout",
          "text": [
            "URL inválida para el índice 2788: https://a0.muscache.com/pictures/miso/Hosting-889981292721825976/original/ac1af51e-e157-4338-b221-74c5e68f40eb.jpeg\n"
          ]
        },
        {
          "output_type": "stream",
          "name": "stderr",
          "text": [
            " 78%|███████▊  | 2819/3600 [12:12<02:52,  4.52it/s]"
          ]
        },
        {
          "output_type": "stream",
          "name": "stdout",
          "text": [
            "URL inválida para el índice 2818: https://a0.muscache.com/pictures/prohost-api/Hosting-899769339425439911/original/9f930af1-d3ab-4110-b350-614c42a5a572.jpeg\n"
          ]
        },
        {
          "output_type": "stream",
          "name": "stderr",
          "text": [
            " 79%|███████▊  | 2831/3600 [12:16<04:20,  2.95it/s]"
          ]
        },
        {
          "output_type": "stream",
          "name": "stdout",
          "text": [
            "URL inválida para el índice 2830: https://a0.muscache.com/pictures/prohost-api/Hosting-904194014030747377/original/ef61d82e-f20a-446a-9938-d04c678ac447.jpeg\n"
          ]
        },
        {
          "output_type": "stream",
          "name": "stderr",
          "text": [
            " 79%|███████▉  | 2839/3600 [12:18<03:18,  3.83it/s]"
          ]
        },
        {
          "output_type": "stream",
          "name": "stdout",
          "text": [
            "URL inválida para el índice 2837: https://a0.muscache.com/pictures/miso/Hosting-907906545606121142/original/404e1bcd-e262-4ed0-805d-4ad4724b4344.jpeg\n"
          ]
        },
        {
          "output_type": "stream",
          "name": "stderr",
          "text": [
            " 79%|███████▉  | 2852/3600 [12:22<04:32,  2.74it/s]"
          ]
        },
        {
          "output_type": "stream",
          "name": "stdout",
          "text": [
            "URL inválida para el índice 2851: https://a0.muscache.com/pictures/miso/Hosting-913916379699820077/original/449a92eb-8199-4c01-a3ed-a70d7a8e0119.jpeg\n"
          ]
        },
        {
          "output_type": "stream",
          "name": "stderr",
          "text": [
            " 79%|███████▉  | 2854/3600 [12:22<03:26,  3.61it/s]"
          ]
        },
        {
          "output_type": "stream",
          "name": "stdout",
          "text": [
            "URL inválida para el índice 2852: https://a0.muscache.com/pictures/miso/Hosting-913916382033140518/original/a56651c0-71fe-445c-b9ff-0771f0c38032.jpeg\n"
          ]
        },
        {
          "output_type": "stream",
          "name": "stderr",
          "text": [
            " 79%|███████▉  | 2858/3600 [12:23<02:30,  4.94it/s]"
          ]
        },
        {
          "output_type": "stream",
          "name": "stdout",
          "text": [
            "URL inválida para el índice 2857: https://a0.muscache.com/pictures/prohost-api/Hosting-914937299546374137/original/e0b571a8-fce7-4b3f-920f-11f9c6a0eeb0.jpeg\n"
          ]
        },
        {
          "output_type": "stream",
          "name": "stderr",
          "text": [
            "\r 79%|███████▉  | 2859/3600 [12:23<02:35,  4.75it/s]"
          ]
        },
        {
          "output_type": "stream",
          "name": "stdout",
          "text": [
            "URL inválida para el índice 2858: https://a0.muscache.com/pictures/prohost-api/Hosting-914937604671048989/original/4b19638e-7744-4eea-94ac-713b96b968e9.jpeg\n"
          ]
        },
        {
          "output_type": "stream",
          "name": "stderr",
          "text": [
            " 80%|███████▉  | 2879/3600 [12:27<01:56,  6.19it/s]"
          ]
        },
        {
          "output_type": "stream",
          "name": "stdout",
          "text": [
            "URL inválida para el índice 2878: https://a0.muscache.com/pictures/miso/Hosting-920192802910045769/original/b9091ffb-4f71-4605-928f-414bd6d08c05.jpeg\n"
          ]
        },
        {
          "output_type": "stream",
          "name": "stderr",
          "text": [
            " 80%|████████  | 2885/3600 [12:29<02:47,  4.27it/s]"
          ]
        },
        {
          "output_type": "stream",
          "name": "stdout",
          "text": [
            "URL inválida para el índice 2884: https://a0.muscache.com/pictures/prohost-api/Hosting-920595366557120290/original/ccf0e4cf-4ea8-489e-a91e-c452548f599e.jpeg\n"
          ]
        },
        {
          "output_type": "stream",
          "name": "stderr",
          "text": [
            " 81%|████████  | 2899/3600 [12:32<02:32,  4.58it/s]"
          ]
        },
        {
          "output_type": "stream",
          "name": "stdout",
          "text": [
            "URL inválida para el índice 2898: https://a0.muscache.com/pictures/prohost-api/Hosting-926909705378933833/original/c16207c3-527e-4796-b06a-afe376a0b714.jpeg\n"
          ]
        },
        {
          "output_type": "stream",
          "name": "stderr",
          "text": [
            " 81%|████████  | 2908/3600 [12:34<03:24,  3.38it/s]"
          ]
        },
        {
          "output_type": "stream",
          "name": "stdout",
          "text": [
            "URL inválida para el índice 2907: https://a0.muscache.com/pictures/miso/Hosting-929285770816969080/original/4e7e66b1-d451-4bbe-aba0-e1604a605c4f.jpeg\n"
          ]
        },
        {
          "output_type": "stream",
          "name": "stderr",
          "text": [
            " 81%|████████  | 2921/3600 [12:38<02:29,  4.54it/s]"
          ]
        },
        {
          "output_type": "stream",
          "name": "stdout",
          "text": [
            "URL inválida para el índice 2919: https://a0.muscache.com/pictures/prohost-api/Hosting-929770452264597730/original/7ce83896-a27d-4db0-8384-368d509695cc.jpeg\n"
          ]
        },
        {
          "output_type": "stream",
          "name": "stderr",
          "text": [
            "\r 81%|████████  | 2922/3600 [12:38<03:16,  3.45it/s]"
          ]
        },
        {
          "output_type": "stream",
          "name": "stdout",
          "text": [
            "URL inválida para el índice 2921: https://a0.muscache.com/pictures/miso/Hosting-929784691737307760/original/4af27405-eda7-440b-9708-208461793aea.jpeg\n"
          ]
        },
        {
          "output_type": "stream",
          "name": "stderr",
          "text": [
            " 81%|████████▏ | 2925/3600 [12:39<02:23,  4.70it/s]"
          ]
        },
        {
          "output_type": "stream",
          "name": "stdout",
          "text": [
            "URL inválida para el índice 2923: https://a0.muscache.com/pictures/43cfe8ce-6c16-4db4-ad1e-02fd04b3eaa8.jpg\n"
          ]
        },
        {
          "output_type": "stream",
          "name": "stderr",
          "text": [
            "\r 81%|████████▏ | 2926/3600 [12:39<02:16,  4.94it/s]"
          ]
        },
        {
          "output_type": "stream",
          "name": "stdout",
          "text": [
            "URL inválida para el índice 2925: https://a0.muscache.com/pictures/prohost-api/Hosting-933238026788932430/original/e5389ab7-ba26-44ef-969a-2fe8a1892eb8.jpeg\n"
          ]
        },
        {
          "output_type": "stream",
          "name": "stderr",
          "text": [
            " 81%|████████▏ | 2928/3600 [12:39<02:02,  5.46it/s]"
          ]
        },
        {
          "output_type": "stream",
          "name": "stdout",
          "text": [
            "URL inválida para el índice 2926: https://a0.muscache.com/pictures/miso/Hosting-933341527778815745/original/540b9069-5430-43b8-8f33-d79c1dc2a6ac.jpeg\n"
          ]
        },
        {
          "output_type": "stream",
          "name": "stderr",
          "text": [
            " 82%|████████▏ | 2948/3600 [12:44<02:42,  4.00it/s]"
          ]
        },
        {
          "output_type": "stream",
          "name": "stdout",
          "text": [
            "URL inválida para el índice 2946: https://a0.muscache.com/pictures/prohost-api/Hosting-934549104804900845/original/1a3beb56-aebc-4f4b-bb81-c23fbf17d5bf.jpeg\n"
          ]
        },
        {
          "output_type": "stream",
          "name": "stderr",
          "text": [
            " 82%|████████▏ | 2952/3600 [12:44<02:15,  4.78it/s]"
          ]
        },
        {
          "output_type": "stream",
          "name": "stdout",
          "text": [
            "URL inválida para el índice 2950: https://a0.muscache.com/pictures/miso/Hosting-934846903887237232/original/56045c56-d57a-4abc-ad08-750db085be2e.jpeg\n"
          ]
        },
        {
          "output_type": "stream",
          "name": "stderr",
          "text": [
            " 83%|████████▎ | 2974/3600 [12:49<02:31,  4.13it/s]"
          ]
        },
        {
          "output_type": "stream",
          "name": "stdout",
          "text": [
            "URL inválida para el índice 2973: https://a0.muscache.com/pictures/prohost-api/Hosting-940287599154412651/original/c587ad66-a8f5-41e6-831b-e3704dbeca4a.jpeg\n"
          ]
        },
        {
          "output_type": "stream",
          "name": "stderr",
          "text": [
            " 83%|████████▎ | 2994/3600 [12:56<02:10,  4.66it/s]"
          ]
        },
        {
          "output_type": "stream",
          "name": "stdout",
          "text": [
            "URL inválida para el índice 2992: https://a0.muscache.com/pictures/miso/Hosting-945916288884011126/original/2df8e4c9-eb81-47e8-8889-7b38e53abae9.jpeg\n"
          ]
        },
        {
          "output_type": "stream",
          "name": "stderr",
          "text": [
            "\r 83%|████████▎ | 2995/3600 [12:56<02:13,  4.52it/s]"
          ]
        },
        {
          "output_type": "stream",
          "name": "stdout",
          "text": [
            "URL inválida para el índice 2994: https://a0.muscache.com/pictures/miso/Hosting-946041881162753201/original/8302b8b8-162b-44f4-afcb-bc45d5c4ffc4.jpeg\n"
          ]
        },
        {
          "output_type": "stream",
          "name": "stderr",
          "text": [
            " 83%|████████▎ | 3003/3600 [12:58<02:12,  4.49it/s]"
          ]
        },
        {
          "output_type": "stream",
          "name": "stdout",
          "text": [
            "URL inválida para el índice 3001: https://a0.muscache.com/pictures/miso/Hosting-947768183186382957/original/06fd11ed-797c-4915-917b-3d401b8bd7bc.jpeg\n",
            "URL inválida para el índice 3002: https://a0.muscache.com/pictures/miso/Hosting-947785851072519783/original/a4c8faea-b069-4f30-809d-5f3ae7d2c30e.jpeg\n"
          ]
        },
        {
          "output_type": "stream",
          "name": "stderr",
          "text": [
            "\r 83%|████████▎ | 3004/3600 [12:58<02:14,  4.43it/s]"
          ]
        },
        {
          "output_type": "stream",
          "name": "stdout",
          "text": [
            "URL inválida para el índice 3003: https://a0.muscache.com/pictures/miso/Hosting-947814132068385867/original/3bff85af-0f89-447a-a61c-43cf4fcd3619.jpeg\n"
          ]
        },
        {
          "output_type": "stream",
          "name": "stderr",
          "text": [
            " 84%|████████▎ | 3008/3600 [13:00<02:27,  4.01it/s]"
          ]
        },
        {
          "output_type": "stream",
          "name": "stdout",
          "text": [
            "URL inválida para el índice 3006: https://a0.muscache.com/pictures/miso/Hosting-947846318188738138/original/7cffaef3-6c98-4d8a-87d4-2e78e8ca524c.jpeg\n",
            "URL inválida para el índice 3007: https://a0.muscache.com/pictures/miso/Hosting-947863403518702980/original/5b95a086-f155-4b0c-a5a6-2fe65e86a3d2.jpeg\n"
          ]
        },
        {
          "output_type": "stream",
          "name": "stderr",
          "text": [
            "\r 84%|████████▎ | 3009/3600 [13:00<02:25,  4.05it/s]"
          ]
        },
        {
          "output_type": "stream",
          "name": "stdout",
          "text": [
            "URL inválida para el índice 3008: https://a0.muscache.com/pictures/miso/Hosting-947884085061009785/original/71b3cac6-42ff-4db8-804f-834c865634db.jpeg\n"
          ]
        },
        {
          "output_type": "stream",
          "name": "stderr",
          "text": [
            " 84%|████████▎ | 3014/3600 [13:01<02:12,  4.44it/s]"
          ]
        },
        {
          "output_type": "stream",
          "name": "stdout",
          "text": [
            "URL inválida para el índice 3012: https://a0.muscache.com/pictures/miso/Hosting-949154671772958720/original/2b7f0abc-ba7b-4a43-a7be-5a6243c24413.jpeg\n"
          ]
        },
        {
          "output_type": "stream",
          "name": "stderr",
          "text": [
            " 84%|████████▍ | 3021/3600 [13:02<01:38,  5.86it/s]"
          ]
        },
        {
          "output_type": "stream",
          "name": "stdout",
          "text": [
            "URL inválida para el índice 3019: https://a0.muscache.com/pictures/miso/Hosting-950268256943159901/original/e4f0fc64-8e95-404f-a288-5070043ed117.jpeg\n"
          ]
        },
        {
          "output_type": "stream",
          "name": "stderr",
          "text": [
            " 84%|████████▍ | 3031/3600 [13:05<02:26,  3.88it/s]"
          ]
        },
        {
          "output_type": "stream",
          "name": "stdout",
          "text": [
            "URL inválida para el índice 3029: https://a0.muscache.com/pictures/f14adfde-4e40-463e-8afd-fac762f7cea4.jpg\n"
          ]
        },
        {
          "output_type": "stream",
          "name": "stderr",
          "text": [
            " 84%|████████▍ | 3039/3600 [13:07<01:26,  6.46it/s]"
          ]
        },
        {
          "output_type": "stream",
          "name": "stdout",
          "text": [
            "URL inválida para el índice 3036: https://a0.muscache.com/pictures/miso/Hosting-953750560515431624/original/5a96c11d-5be2-4801-a52d-c08ced9692e2.jpeg\n"
          ]
        },
        {
          "output_type": "stream",
          "name": "stderr",
          "text": [
            " 85%|████████▌ | 3062/3600 [13:12<02:09,  4.15it/s]"
          ]
        },
        {
          "output_type": "stream",
          "name": "stdout",
          "text": [
            "URL inválida para el índice 3060: https://a0.muscache.com/pictures/miso/Hosting-958648577659799676/original/9ad5cdd6-9295-4d90-81a6-98a88206be2b.jpeg\n"
          ]
        },
        {
          "output_type": "stream",
          "name": "stderr",
          "text": [
            "\r 85%|████████▌ | 3063/3600 [13:12<02:21,  3.79it/s]"
          ]
        },
        {
          "output_type": "stream",
          "name": "stdout",
          "text": [
            "URL inválida para el índice 3062: https://a0.muscache.com/pictures/prohost-api/Hosting-959888489456599762/original/c72ecb2b-4c2b-4653-aeef-8c28bdb8e5d3.jpeg\n"
          ]
        },
        {
          "output_type": "stream",
          "name": "stderr",
          "text": [
            " 85%|████████▌ | 3067/3600 [13:13<01:50,  4.84it/s]"
          ]
        },
        {
          "output_type": "stream",
          "name": "stdout",
          "text": [
            "URL inválida para el índice 3066: https://a0.muscache.com/pictures/miso/Hosting-960441596149014714/original/82e47454-ef57-48f4-8940-9b0c463c6772.jpeg\n"
          ]
        },
        {
          "output_type": "stream",
          "name": "stderr",
          "text": [
            " 86%|████████▌ | 3101/3600 [13:21<02:47,  2.98it/s]"
          ]
        },
        {
          "output_type": "stream",
          "name": "stdout",
          "text": [
            "URL inválida para el índice 3100: https://a0.muscache.com/pictures/prohost-api/Hosting-968593353964170175/original/893ed19f-8ee2-41c6-a9fa-89883ef33054.jpeg\n"
          ]
        },
        {
          "output_type": "stream",
          "name": "stderr",
          "text": [
            " 87%|████████▋ | 3139/3600 [13:29<02:17,  3.36it/s]"
          ]
        },
        {
          "output_type": "stream",
          "name": "stdout",
          "text": [
            "URL inválida para el índice 3138: https://a0.muscache.com/pictures/miso/Hosting-958648577659799676/original/9ad5cdd6-9295-4d90-81a6-98a88206be2b.jpeg\n"
          ]
        },
        {
          "output_type": "stream",
          "name": "stderr",
          "text": [
            " 87%|████████▋ | 3141/3600 [13:30<01:50,  4.17it/s]"
          ]
        },
        {
          "output_type": "stream",
          "name": "stdout",
          "text": [
            "URL inválida para el índice 3140: https://a0.muscache.com/pictures/miso/Hosting-972382373389698405/original/e6c48367-1649-48e1-a5fa-5d8b540fe35a.jpeg\n"
          ]
        },
        {
          "output_type": "stream",
          "name": "stderr",
          "text": [
            " 87%|████████▋ | 3145/3600 [13:31<01:35,  4.74it/s]"
          ]
        },
        {
          "output_type": "stream",
          "name": "stdout",
          "text": [
            "URL inválida para el índice 3144: https://a0.muscache.com/pictures/hosting/Hosting-973150249750755722/original/dae14b46-39fc-4d79-b15c-3dbb48d6b11d.jpeg\n"
          ]
        },
        {
          "output_type": "stream",
          "name": "stderr",
          "text": [
            " 89%|████████▉ | 3206/3600 [13:46<02:19,  2.82it/s]"
          ]
        },
        {
          "output_type": "stream",
          "name": "stdout",
          "text": [
            "URL inválida para el índice 3205: https://a0.muscache.com/pictures/miso/Hosting-989119014716244187/original/2dd60b81-2c0c-47d1-bdd6-184162af7014.png\n"
          ]
        },
        {
          "output_type": "stream",
          "name": "stderr",
          "text": [
            " 89%|████████▉ | 3217/3600 [13:49<01:31,  4.19it/s]"
          ]
        },
        {
          "output_type": "stream",
          "name": "stdout",
          "text": [
            "URL inválida para el índice 3215: https://a0.muscache.com/pictures/prohost-api/Hosting-992271751387641106/original/de2d3ae0-5fdc-4cfd-b914-5c5b47955d09.jpeg\n"
          ]
        },
        {
          "output_type": "stream",
          "name": "stderr",
          "text": [
            " 90%|████████▉ | 3238/3600 [13:55<01:19,  4.53it/s]"
          ]
        },
        {
          "output_type": "stream",
          "name": "stdout",
          "text": [
            "URL inválida para el índice 3236: https://a0.muscache.com/pictures/hosting/Hosting-998650346567438464/original/20048ffe-5c61-4602-b37a-2d9fb09e1f0a.jpeg\n"
          ]
        },
        {
          "output_type": "stream",
          "name": "stderr",
          "text": [
            " 92%|█████████▏| 3296/3600 [14:13<02:02,  2.49it/s]"
          ]
        },
        {
          "output_type": "stream",
          "name": "stdout",
          "text": [
            "URL inválida para el índice 3295: https://a0.muscache.com/pictures/miso/Hosting-947111916947155717/original/0cecdba9-f417-4263-82c1-6b44b8bca764.jpeg\n"
          ]
        },
        {
          "output_type": "stream",
          "name": "stderr",
          "text": [
            " 92%|█████████▏| 3320/3600 [14:21<01:09,  4.03it/s]"
          ]
        },
        {
          "output_type": "stream",
          "name": "stdout",
          "text": [
            "URL inválida para el índice 3318: https://a0.muscache.com/pictures/miso/Hosting-1022632138884104441/original/106e8264-b80e-4ebc-b7d2-edd873622e64.jpeg\n"
          ]
        },
        {
          "output_type": "stream",
          "name": "stderr",
          "text": [
            " 92%|█████████▏| 3326/3600 [14:23<01:22,  3.30it/s]"
          ]
        },
        {
          "output_type": "stream",
          "name": "stdout",
          "text": [
            "URL inválida para el índice 3325: https://a0.muscache.com/pictures/miso/Hosting-1023171573296711810/original/5e165f50-5d55-4066-a9e1-2869afad55d9.png\n"
          ]
        },
        {
          "output_type": "stream",
          "name": "stderr",
          "text": [
            " 93%|█████████▎| 3334/3600 [14:25<00:59,  4.50it/s]"
          ]
        },
        {
          "output_type": "stream",
          "name": "stdout",
          "text": [
            "URL inválida para el índice 3332: https://a0.muscache.com/pictures/miso/Hosting-1023250667892620550/original/98caa91b-37aa-49ba-8b68-2e5aecdb394a.png\n"
          ]
        },
        {
          "output_type": "stream",
          "name": "stderr",
          "text": [
            " 93%|█████████▎| 3362/3600 [14:33<01:04,  3.71it/s]"
          ]
        },
        {
          "output_type": "stream",
          "name": "stdout",
          "text": [
            "URL inválida para el índice 3360: https://a0.muscache.com/pictures/miso/Hosting-1024001223963546696/original/1d5139e3-0fdd-4f22-bc56-94c8bf765d3a.jpeg\n"
          ]
        },
        {
          "output_type": "stream",
          "name": "stderr",
          "text": [
            " 93%|█████████▎| 3364/3600 [14:33<00:52,  4.53it/s]"
          ]
        },
        {
          "output_type": "stream",
          "name": "stdout",
          "text": [
            "URL inválida para el índice 3363: https://a0.muscache.com/pictures/miso/Hosting-1024012837777489958/original/ba9b4b51-10bd-4718-9549-ca7c1a22299f.jpeg\n"
          ]
        },
        {
          "output_type": "stream",
          "name": "stderr",
          "text": [
            " 94%|█████████▎| 3368/3600 [14:35<01:11,  3.27it/s]"
          ]
        },
        {
          "output_type": "stream",
          "name": "stdout",
          "text": [
            "URL inválida para el índice 3366: https://a0.muscache.com/pictures/miso/Hosting-1024023972093973958/original/bf52704d-ae50-4f2f-b6f3-7041eb3bdff9.jpeg\n"
          ]
        },
        {
          "output_type": "stream",
          "name": "stderr",
          "text": [
            " 94%|█████████▍| 3392/3600 [14:42<00:50,  4.14it/s]"
          ]
        },
        {
          "output_type": "stream",
          "name": "stdout",
          "text": [
            "URL inválida para el índice 3391: https://a0.muscache.com/pictures/miso/Hosting-1024642924142042035/original/8315a95d-62be-47bb-bbc5-9cc8e8ae21a8.jpeg\n"
          ]
        },
        {
          "output_type": "stream",
          "name": "stderr",
          "text": [
            " 95%|█████████▍| 3408/3600 [14:47<00:53,  3.61it/s]"
          ]
        },
        {
          "output_type": "stream",
          "name": "stdout",
          "text": [
            "URL inválida para el índice 3407: https://a0.muscache.com/pictures/miso/Hosting-1024766639203763026/original/b34f6b04-fae8-4850-8886-d113d81d8c2d.jpeg\n"
          ]
        },
        {
          "output_type": "stream",
          "name": "stderr",
          "text": [
            " 95%|█████████▍| 3416/3600 [14:49<00:38,  4.83it/s]"
          ]
        },
        {
          "output_type": "stream",
          "name": "stdout",
          "text": [
            "URL inválida para el índice 3415: https://a0.muscache.com/pictures/miso/Hosting-1024913449187984636/original/d7e4a424-4020-438c-b002-90e8260f31d4.jpeg\n"
          ]
        },
        {
          "output_type": "stream",
          "name": "stderr",
          "text": [
            " 95%|█████████▌| 3431/3600 [14:52<00:50,  3.36it/s]"
          ]
        },
        {
          "output_type": "stream",
          "name": "stdout",
          "text": [
            "URL inválida para el índice 3430: https://a0.muscache.com/pictures/miso/Hosting-1025387432542746150/original/eb58eafc-0060-4cec-9b88-802cdf15bd13.jpeg\n"
          ]
        },
        {
          "output_type": "stream",
          "name": "stderr",
          "text": [
            " 96%|█████████▌| 3440/3600 [14:55<00:33,  4.81it/s]"
          ]
        },
        {
          "output_type": "stream",
          "name": "stdout",
          "text": [
            "URL inválida para el índice 3438: https://a0.muscache.com/pictures/miso/Hosting-1025423935350953497/original/431d7db3-12ba-4b51-b913-9588f91079a7.jpeg\n"
          ]
        },
        {
          "output_type": "stream",
          "name": "stderr",
          "text": [
            " 96%|█████████▌| 3447/3600 [14:56<00:39,  3.83it/s]"
          ]
        },
        {
          "output_type": "stream",
          "name": "stdout",
          "text": [
            "URL inválida para el índice 3446: https://a0.muscache.com/pictures/miso/Hosting-1025469496917369707/original/739e77ca-b59d-46ef-bbdb-e94c9c862112.jpeg\n"
          ]
        },
        {
          "output_type": "stream",
          "name": "stderr",
          "text": [
            " 97%|█████████▋| 3498/3600 [15:04<00:14,  7.24it/s]"
          ]
        },
        {
          "output_type": "stream",
          "name": "stdout",
          "text": [
            "URL inválida para el índice 3496: https://a0.muscache.com/pictures/miso/Hosting-1029167143567713293/original/8d43b2c0-ec8a-4c1f-9816-36c57525b24c.jpeg\n",
            "URL inválida para el índice 3497: https://a0.muscache.com/pictures/miso/Hosting-1029205665203211474/original/0d0e4b16-57b7-4bad-a9af-930af25672cc.jpeg\n"
          ]
        },
        {
          "output_type": "stream",
          "name": "stderr",
          "text": [
            " 99%|█████████▉| 3574/3600 [15:25<00:06,  4.07it/s]"
          ]
        },
        {
          "output_type": "stream",
          "name": "stdout",
          "text": [
            "URL inválida para el índice 3572: https://a0.muscache.com/pictures/miso/Hosting-1043585223983157783/original/7a07c496-de3b-42f0-869e-2dd753ef2a3c.jpeg\n"
          ]
        },
        {
          "output_type": "stream",
          "name": "stderr",
          "text": [
            "100%|██████████| 3600/3600 [15:34<00:00,  3.85it/s]\n"
          ]
        },
        {
          "output_type": "display_data",
          "data": {
            "text/plain": [
              "<IPython.core.display.Javascript object>"
            ],
            "application/javascript": [
              "\n",
              "    async function download(id, filename, size) {\n",
              "      if (!google.colab.kernel.accessAllowed) {\n",
              "        return;\n",
              "      }\n",
              "      const div = document.createElement('div');\n",
              "      const label = document.createElement('label');\n",
              "      label.textContent = `Downloading \"${filename}\": `;\n",
              "      div.appendChild(label);\n",
              "      const progress = document.createElement('progress');\n",
              "      progress.max = size;\n",
              "      div.appendChild(progress);\n",
              "      document.body.appendChild(div);\n",
              "\n",
              "      const buffers = [];\n",
              "      let downloaded = 0;\n",
              "\n",
              "      const channel = await google.colab.kernel.comms.open(id);\n",
              "      // Send a message to notify the kernel that we're ready.\n",
              "      channel.send({})\n",
              "\n",
              "      for await (const message of channel.messages) {\n",
              "        // Send a message to notify the kernel that we're ready.\n",
              "        channel.send({})\n",
              "        if (message.buffers) {\n",
              "          for (const buffer of message.buffers) {\n",
              "            buffers.push(buffer);\n",
              "            downloaded += buffer.byteLength;\n",
              "            progress.value = downloaded;\n",
              "          }\n",
              "        }\n",
              "      }\n",
              "      const blob = new Blob(buffers, {type: 'application/binary'});\n",
              "      const a = document.createElement('a');\n",
              "      a.href = window.URL.createObjectURL(blob);\n",
              "      a.download = filename;\n",
              "      div.appendChild(a);\n",
              "      a.click();\n",
              "      div.remove();\n",
              "    }\n",
              "  "
            ]
          },
          "metadata": {}
        },
        {
          "output_type": "display_data",
          "data": {
            "text/plain": [
              "<IPython.core.display.Javascript object>"
            ],
            "application/javascript": [
              "download(\"download_a5afca15-712c-475a-8bf8-d66795891386\", \"filtered_dataset.csv\", 3531886)"
            ]
          },
          "metadata": {}
        },
        {
          "output_type": "stream",
          "name": "stdout",
          "text": [
            "Se han descargado 3129 imágenes.\n"
          ]
        }
      ],
      "source": [
        "from google.colab import files\n",
        "import pandas as pd\n",
        "import os\n",
        "import requests\n",
        "from tqdm import tqdm\n",
        "import pandas as pd\n",
        "\n",
        "\n",
        "# Subir el archivo CSV\n",
        "uploaded = files.upload()\n",
        "\n",
        "# Cargar el dataset\n",
        "df = pd.read_csv('dataset.csv', delimiter=';')\n",
        "\n",
        "# Eliminar filas duplicadas basadas en todas las columnas\n",
        "df = df.drop_duplicates()\n",
        "\n",
        "# (Opcional) Si deseas eliminar duplicados solo en la columna `picture_url`\n",
        "# df = df.drop_duplicates(subset=['picture_url'])\n",
        "\n",
        "print(f\"Dataset después de eliminar duplicados: {df.shape[0]} filas.\")\n",
        "\n",
        "# Crear una carpeta para guardar las imágenes\n",
        "os.makedirs('images', exist_ok=True)\n",
        "\n",
        "# Lista para las filas que tienen imágenes válidas\n",
        "valid_rows = []\n",
        "\n",
        "# Descargar imágenes\n",
        "for idx, row in tqdm(df.iterrows(), total=len(df)):\n",
        "    image_url = row['picture_url']  # Cambia 'picture_url' por el nombre real de la columna con las URLs\n",
        "\n",
        "    # Verificar que la URL no esté vacía\n",
        "    if pd.isna(image_url) or not isinstance(image_url, str):\n",
        "        continue  # Ignorar si la URL está vacía o no es válida\n",
        "\n",
        "    try:\n",
        "        # Descargar la imagen\n",
        "        response = requests.get(image_url, timeout=10)\n",
        "        if response.status_code == 200:\n",
        "            # Guardar la imagen\n",
        "            file_path = f'images/image_{idx}.jpg'\n",
        "            with open(file_path, 'wb') as file:\n",
        "                file.write(response.content)\n",
        "\n",
        "            # Si la descarga es exitosa, agregar la fila a la lista de válidas\n",
        "            valid_rows.append(row)\n",
        "        else:\n",
        "            print(f\"URL inválida para el índice {idx}: {image_url}\")\n",
        "    except Exception as e:\n",
        "        print(f\"Error al descargar la imagen del índice {idx}: {e}\")\n",
        "\n",
        "# Crear un nuevo DataFrame solo con las filas válidas\n",
        "valid_df = pd.DataFrame(valid_rows)\n",
        "\n",
        "# Guardar el DataFrame limpio en un nuevo archivo CSV\n",
        "valid_df.to_csv('filtered_dataset.csv', index=False)\n",
        "\n",
        "# Descargar el nuevo archivo CSV\n",
        "from google.colab import files\n",
        "files.download('filtered_dataset.csv')\n",
        "\n",
        "# Contar imágenes descargadas\n",
        "num_images = len(os.listdir('images'))\n",
        "print(f\"Se han descargado {num_images} imágenes.\")\n"
      ]
    },
    {
      "cell_type": "code",
      "source": [
        "import pandas as pd\n",
        "# Cargar el dataset\n",
        "valid_df = pd.read_csv('filtered_dataset.csv')"
      ],
      "metadata": {
        "id": "bo4YbAo_HrUA",
        "colab": {
          "base_uri": "https://localhost:8080/",
          "height": 329
        },
        "outputId": "34d46d81-9d90-4ced-969a-478816121f2c"
      },
      "execution_count": 6,
      "outputs": [
        {
          "output_type": "error",
          "ename": "FileNotFoundError",
          "evalue": "[Errno 2] No such file or directory: 'filtered_dataset.csv'",
          "traceback": [
            "\u001b[0;31m---------------------------------------------------------------------------\u001b[0m",
            "\u001b[0;31mFileNotFoundError\u001b[0m                         Traceback (most recent call last)",
            "\u001b[0;32m<ipython-input-6-2c6af652853a>\u001b[0m in \u001b[0;36m<cell line: 3>\u001b[0;34m()\u001b[0m\n\u001b[1;32m      1\u001b[0m \u001b[0;32mimport\u001b[0m \u001b[0mpandas\u001b[0m \u001b[0;32mas\u001b[0m \u001b[0mpd\u001b[0m\u001b[0;34m\u001b[0m\u001b[0;34m\u001b[0m\u001b[0m\n\u001b[1;32m      2\u001b[0m \u001b[0;31m# Cargar el dataset\u001b[0m\u001b[0;34m\u001b[0m\u001b[0;34m\u001b[0m\u001b[0m\n\u001b[0;32m----> 3\u001b[0;31m \u001b[0mvalid_df\u001b[0m \u001b[0;34m=\u001b[0m \u001b[0mpd\u001b[0m\u001b[0;34m.\u001b[0m\u001b[0mread_csv\u001b[0m\u001b[0;34m(\u001b[0m\u001b[0;34m'filtered_dataset.csv'\u001b[0m\u001b[0;34m)\u001b[0m\u001b[0;34m\u001b[0m\u001b[0;34m\u001b[0m\u001b[0m\n\u001b[0m",
            "\u001b[0;32m/usr/local/lib/python3.10/dist-packages/pandas/io/parsers/readers.py\u001b[0m in \u001b[0;36mread_csv\u001b[0;34m(filepath_or_buffer, sep, delimiter, header, names, index_col, usecols, dtype, engine, converters, true_values, false_values, skipinitialspace, skiprows, skipfooter, nrows, na_values, keep_default_na, na_filter, verbose, skip_blank_lines, parse_dates, infer_datetime_format, keep_date_col, date_parser, date_format, dayfirst, cache_dates, iterator, chunksize, compression, thousands, decimal, lineterminator, quotechar, quoting, doublequote, escapechar, comment, encoding, encoding_errors, dialect, on_bad_lines, delim_whitespace, low_memory, memory_map, float_precision, storage_options, dtype_backend)\u001b[0m\n\u001b[1;32m   1024\u001b[0m     \u001b[0mkwds\u001b[0m\u001b[0;34m.\u001b[0m\u001b[0mupdate\u001b[0m\u001b[0;34m(\u001b[0m\u001b[0mkwds_defaults\u001b[0m\u001b[0;34m)\u001b[0m\u001b[0;34m\u001b[0m\u001b[0;34m\u001b[0m\u001b[0m\n\u001b[1;32m   1025\u001b[0m \u001b[0;34m\u001b[0m\u001b[0m\n\u001b[0;32m-> 1026\u001b[0;31m     \u001b[0;32mreturn\u001b[0m \u001b[0m_read\u001b[0m\u001b[0;34m(\u001b[0m\u001b[0mfilepath_or_buffer\u001b[0m\u001b[0;34m,\u001b[0m \u001b[0mkwds\u001b[0m\u001b[0;34m)\u001b[0m\u001b[0;34m\u001b[0m\u001b[0;34m\u001b[0m\u001b[0m\n\u001b[0m\u001b[1;32m   1027\u001b[0m \u001b[0;34m\u001b[0m\u001b[0m\n\u001b[1;32m   1028\u001b[0m \u001b[0;34m\u001b[0m\u001b[0m\n",
            "\u001b[0;32m/usr/local/lib/python3.10/dist-packages/pandas/io/parsers/readers.py\u001b[0m in \u001b[0;36m_read\u001b[0;34m(filepath_or_buffer, kwds)\u001b[0m\n\u001b[1;32m    618\u001b[0m \u001b[0;34m\u001b[0m\u001b[0m\n\u001b[1;32m    619\u001b[0m     \u001b[0;31m# Create the parser.\u001b[0m\u001b[0;34m\u001b[0m\u001b[0;34m\u001b[0m\u001b[0m\n\u001b[0;32m--> 620\u001b[0;31m     \u001b[0mparser\u001b[0m \u001b[0;34m=\u001b[0m \u001b[0mTextFileReader\u001b[0m\u001b[0;34m(\u001b[0m\u001b[0mfilepath_or_buffer\u001b[0m\u001b[0;34m,\u001b[0m \u001b[0;34m**\u001b[0m\u001b[0mkwds\u001b[0m\u001b[0;34m)\u001b[0m\u001b[0;34m\u001b[0m\u001b[0;34m\u001b[0m\u001b[0m\n\u001b[0m\u001b[1;32m    621\u001b[0m \u001b[0;34m\u001b[0m\u001b[0m\n\u001b[1;32m    622\u001b[0m     \u001b[0;32mif\u001b[0m \u001b[0mchunksize\u001b[0m \u001b[0;32mor\u001b[0m \u001b[0miterator\u001b[0m\u001b[0;34m:\u001b[0m\u001b[0;34m\u001b[0m\u001b[0;34m\u001b[0m\u001b[0m\n",
            "\u001b[0;32m/usr/local/lib/python3.10/dist-packages/pandas/io/parsers/readers.py\u001b[0m in \u001b[0;36m__init__\u001b[0;34m(self, f, engine, **kwds)\u001b[0m\n\u001b[1;32m   1618\u001b[0m \u001b[0;34m\u001b[0m\u001b[0m\n\u001b[1;32m   1619\u001b[0m         \u001b[0mself\u001b[0m\u001b[0;34m.\u001b[0m\u001b[0mhandles\u001b[0m\u001b[0;34m:\u001b[0m \u001b[0mIOHandles\u001b[0m \u001b[0;34m|\u001b[0m \u001b[0;32mNone\u001b[0m \u001b[0;34m=\u001b[0m \u001b[0;32mNone\u001b[0m\u001b[0;34m\u001b[0m\u001b[0;34m\u001b[0m\u001b[0m\n\u001b[0;32m-> 1620\u001b[0;31m         \u001b[0mself\u001b[0m\u001b[0;34m.\u001b[0m\u001b[0m_engine\u001b[0m \u001b[0;34m=\u001b[0m \u001b[0mself\u001b[0m\u001b[0;34m.\u001b[0m\u001b[0m_make_engine\u001b[0m\u001b[0;34m(\u001b[0m\u001b[0mf\u001b[0m\u001b[0;34m,\u001b[0m \u001b[0mself\u001b[0m\u001b[0;34m.\u001b[0m\u001b[0mengine\u001b[0m\u001b[0;34m)\u001b[0m\u001b[0;34m\u001b[0m\u001b[0;34m\u001b[0m\u001b[0m\n\u001b[0m\u001b[1;32m   1621\u001b[0m \u001b[0;34m\u001b[0m\u001b[0m\n\u001b[1;32m   1622\u001b[0m     \u001b[0;32mdef\u001b[0m \u001b[0mclose\u001b[0m\u001b[0;34m(\u001b[0m\u001b[0mself\u001b[0m\u001b[0;34m)\u001b[0m \u001b[0;34m->\u001b[0m \u001b[0;32mNone\u001b[0m\u001b[0;34m:\u001b[0m\u001b[0;34m\u001b[0m\u001b[0;34m\u001b[0m\u001b[0m\n",
            "\u001b[0;32m/usr/local/lib/python3.10/dist-packages/pandas/io/parsers/readers.py\u001b[0m in \u001b[0;36m_make_engine\u001b[0;34m(self, f, engine)\u001b[0m\n\u001b[1;32m   1878\u001b[0m                 \u001b[0;32mif\u001b[0m \u001b[0;34m\"b\"\u001b[0m \u001b[0;32mnot\u001b[0m \u001b[0;32min\u001b[0m \u001b[0mmode\u001b[0m\u001b[0;34m:\u001b[0m\u001b[0;34m\u001b[0m\u001b[0;34m\u001b[0m\u001b[0m\n\u001b[1;32m   1879\u001b[0m                     \u001b[0mmode\u001b[0m \u001b[0;34m+=\u001b[0m \u001b[0;34m\"b\"\u001b[0m\u001b[0;34m\u001b[0m\u001b[0;34m\u001b[0m\u001b[0m\n\u001b[0;32m-> 1880\u001b[0;31m             self.handles = get_handle(\n\u001b[0m\u001b[1;32m   1881\u001b[0m                 \u001b[0mf\u001b[0m\u001b[0;34m,\u001b[0m\u001b[0;34m\u001b[0m\u001b[0;34m\u001b[0m\u001b[0m\n\u001b[1;32m   1882\u001b[0m                 \u001b[0mmode\u001b[0m\u001b[0;34m,\u001b[0m\u001b[0;34m\u001b[0m\u001b[0;34m\u001b[0m\u001b[0m\n",
            "\u001b[0;32m/usr/local/lib/python3.10/dist-packages/pandas/io/common.py\u001b[0m in \u001b[0;36mget_handle\u001b[0;34m(path_or_buf, mode, encoding, compression, memory_map, is_text, errors, storage_options)\u001b[0m\n\u001b[1;32m    871\u001b[0m         \u001b[0;32mif\u001b[0m \u001b[0mioargs\u001b[0m\u001b[0;34m.\u001b[0m\u001b[0mencoding\u001b[0m \u001b[0;32mand\u001b[0m \u001b[0;34m\"b\"\u001b[0m \u001b[0;32mnot\u001b[0m \u001b[0;32min\u001b[0m \u001b[0mioargs\u001b[0m\u001b[0;34m.\u001b[0m\u001b[0mmode\u001b[0m\u001b[0;34m:\u001b[0m\u001b[0;34m\u001b[0m\u001b[0;34m\u001b[0m\u001b[0m\n\u001b[1;32m    872\u001b[0m             \u001b[0;31m# Encoding\u001b[0m\u001b[0;34m\u001b[0m\u001b[0;34m\u001b[0m\u001b[0m\n\u001b[0;32m--> 873\u001b[0;31m             handle = open(\n\u001b[0m\u001b[1;32m    874\u001b[0m                 \u001b[0mhandle\u001b[0m\u001b[0;34m,\u001b[0m\u001b[0;34m\u001b[0m\u001b[0;34m\u001b[0m\u001b[0m\n\u001b[1;32m    875\u001b[0m                 \u001b[0mioargs\u001b[0m\u001b[0;34m.\u001b[0m\u001b[0mmode\u001b[0m\u001b[0;34m,\u001b[0m\u001b[0;34m\u001b[0m\u001b[0;34m\u001b[0m\u001b[0m\n",
            "\u001b[0;31mFileNotFoundError\u001b[0m: [Errno 2] No such file or directory: 'filtered_dataset.csv'"
          ]
        }
      ]
    },
    {
      "cell_type": "code",
      "source": [
        "valid_df.shape"
      ],
      "metadata": {
        "colab": {
          "base_uri": "https://localhost:8080/"
        },
        "id": "1qp3oY9Na-LJ",
        "outputId": "c17ed9a2-fcc7-41b1-9fe1-2b03b8098128"
      },
      "execution_count": 3,
      "outputs": [
        {
          "output_type": "execute_result",
          "data": {
            "text/plain": [
              "(3129, 72)"
            ]
          },
          "metadata": {},
          "execution_count": 3
        }
      ]
    },
    {
      "cell_type": "code",
      "source": [
        "valid_df.head(10).T"
      ],
      "metadata": {
        "colab": {
          "base_uri": "https://localhost:8080/",
          "height": 479
        },
        "id": "7YboKaSbYShf",
        "outputId": "1c29b2a9-e688-4fa1-f61c-48687316790e"
      },
      "execution_count": 4,
      "outputs": [
        {
          "output_type": "execute_result",
          "data": {
            "text/plain": [
              "                                                                              0  \\\n",
              "id                                                                         3781   \n",
              "listing_url                                   https://www.airbnb.com/rooms/3781   \n",
              "scrape_id                                                        20231218233145   \n",
              "last_scraped                                                         2023-12-19   \n",
              "source                                                              city scrape   \n",
              "...                                                                         ...   \n",
              "calculated_host_listings_count                                                1   \n",
              "calculated_host_listings_count_entire_homes                                   1   \n",
              "calculated_host_listings_count_private_rooms                                  0   \n",
              "calculated_host_listings_count_shared_rooms                                   0   \n",
              "reviews_per_month                                                          0.23   \n",
              "\n",
              "                                                                              1  \\\n",
              "id                                                                         5506   \n",
              "listing_url                                   https://www.airbnb.com/rooms/5506   \n",
              "scrape_id                                                        20231218233145   \n",
              "last_scraped                                                         2023-12-19   \n",
              "source                                                              city scrape   \n",
              "...                                                                         ...   \n",
              "calculated_host_listings_count                                               10   \n",
              "calculated_host_listings_count_entire_homes                                  10   \n",
              "calculated_host_listings_count_private_rooms                                  0   \n",
              "calculated_host_listings_count_shared_rooms                                   0   \n",
              "reviews_per_month                                                          0.68   \n",
              "\n",
              "                                                                              2  \\\n",
              "id                                                                         6695   \n",
              "listing_url                                   https://www.airbnb.com/rooms/6695   \n",
              "scrape_id                                                        20231218233145   \n",
              "last_scraped                                                         2023-12-19   \n",
              "source                                                              city scrape   \n",
              "...                                                                         ...   \n",
              "calculated_host_listings_count                                               10   \n",
              "calculated_host_listings_count_entire_homes                                  10   \n",
              "calculated_host_listings_count_private_rooms                                  0   \n",
              "calculated_host_listings_count_shared_rooms                                   0   \n",
              "reviews_per_month                                                          0.73   \n",
              "\n",
              "                                                                              3  \\\n",
              "id                                                                         8789   \n",
              "listing_url                                   https://www.airbnb.com/rooms/8789   \n",
              "scrape_id                                                        20231218233145   \n",
              "last_scraped                                                         2023-12-19   \n",
              "source                                                              city scrape   \n",
              "...                                                                         ...   \n",
              "calculated_host_listings_count                                                9   \n",
              "calculated_host_listings_count_entire_homes                                   9   \n",
              "calculated_host_listings_count_private_rooms                                  0   \n",
              "calculated_host_listings_count_shared_rooms                                   0   \n",
              "reviews_per_month                                                          0.24   \n",
              "\n",
              "                                                                               4  \\\n",
              "id                                                                         10813   \n",
              "listing_url                                   https://www.airbnb.com/rooms/10813   \n",
              "scrape_id                                                         20231218233145   \n",
              "last_scraped                                                          2023-12-19   \n",
              "source                                                               city scrape   \n",
              "...                                                                          ...   \n",
              "calculated_host_listings_count                                                11   \n",
              "calculated_host_listings_count_entire_homes                                   11   \n",
              "calculated_host_listings_count_private_rooms                                   0   \n",
              "calculated_host_listings_count_shared_rooms                                    0   \n",
              "reviews_per_month                                                           0.09   \n",
              "\n",
              "                                                                               5  \\\n",
              "id                                                                         10986   \n",
              "listing_url                                   https://www.airbnb.com/rooms/10986   \n",
              "scrape_id                                                         20231218233145   \n",
              "last_scraped                                                          2023-12-19   \n",
              "source                                                               city scrape   \n",
              "...                                                                          ...   \n",
              "calculated_host_listings_count                                                11   \n",
              "calculated_host_listings_count_entire_homes                                   11   \n",
              "calculated_host_listings_count_private_rooms                                   0   \n",
              "calculated_host_listings_count_shared_rooms                                    0   \n",
              "reviews_per_month                                                            NaN   \n",
              "\n",
              "                                                                               6  \\\n",
              "id                                                                         29765   \n",
              "listing_url                                   https://www.airbnb.com/rooms/29765   \n",
              "scrape_id                                                         20231218233145   \n",
              "last_scraped                                                          2023-12-19   \n",
              "source                                                               city scrape   \n",
              "...                                                                          ...   \n",
              "calculated_host_listings_count                                                 1   \n",
              "calculated_host_listings_count_entire_homes                                    1   \n",
              "calculated_host_listings_count_private_rooms                                   0   \n",
              "calculated_host_listings_count_shared_rooms                                    0   \n",
              "reviews_per_month                                                           0.61   \n",
              "\n",
              "                                                                               7  \\\n",
              "id                                                                         40601   \n",
              "listing_url                                   https://www.airbnb.com/rooms/40601   \n",
              "scrape_id                                                         20231218233145   \n",
              "last_scraped                                                          2023-12-19   \n",
              "source                                                               city scrape   \n",
              "...                                                                          ...   \n",
              "calculated_host_listings_count                                                 1   \n",
              "calculated_host_listings_count_entire_homes                                    0   \n",
              "calculated_host_listings_count_private_rooms                                   1   \n",
              "calculated_host_listings_count_shared_rooms                                    0   \n",
              "reviews_per_month                                                            0.6   \n",
              "\n",
              "                                                                               8  \\\n",
              "id                                                                         45987   \n",
              "listing_url                                   https://www.airbnb.com/rooms/45987   \n",
              "scrape_id                                                         20231218233145   \n",
              "last_scraped                                                          2023-12-19   \n",
              "source                                                               city scrape   \n",
              "...                                                                          ...   \n",
              "calculated_host_listings_count                                                 1   \n",
              "calculated_host_listings_count_entire_homes                                    1   \n",
              "calculated_host_listings_count_private_rooms                                   0   \n",
              "calculated_host_listings_count_shared_rooms                                    0   \n",
              "reviews_per_month                                                           0.84   \n",
              "\n",
              "                                                                               9  \n",
              "id                                                                         47521  \n",
              "listing_url                                   https://www.airbnb.com/rooms/47521  \n",
              "scrape_id                                                         20231218233145  \n",
              "last_scraped                                                          2023-12-19  \n",
              "source                                                               city scrape  \n",
              "...                                                                          ...  \n",
              "calculated_host_listings_count                                                 8  \n",
              "calculated_host_listings_count_entire_homes                                    2  \n",
              "calculated_host_listings_count_private_rooms                                   6  \n",
              "calculated_host_listings_count_shared_rooms                                    0  \n",
              "reviews_per_month                                                           2.06  \n",
              "\n",
              "[72 rows x 10 columns]"
            ],
            "text/html": [
              "\n",
              "  <div id=\"df-c5771641-271e-42ff-a7c1-83a497d0342f\" class=\"colab-df-container\">\n",
              "    <div>\n",
              "<style scoped>\n",
              "    .dataframe tbody tr th:only-of-type {\n",
              "        vertical-align: middle;\n",
              "    }\n",
              "\n",
              "    .dataframe tbody tr th {\n",
              "        vertical-align: top;\n",
              "    }\n",
              "\n",
              "    .dataframe thead th {\n",
              "        text-align: right;\n",
              "    }\n",
              "</style>\n",
              "<table border=\"1\" class=\"dataframe\">\n",
              "  <thead>\n",
              "    <tr style=\"text-align: right;\">\n",
              "      <th></th>\n",
              "      <th>0</th>\n",
              "      <th>1</th>\n",
              "      <th>2</th>\n",
              "      <th>3</th>\n",
              "      <th>4</th>\n",
              "      <th>5</th>\n",
              "      <th>6</th>\n",
              "      <th>7</th>\n",
              "      <th>8</th>\n",
              "      <th>9</th>\n",
              "    </tr>\n",
              "  </thead>\n",
              "  <tbody>\n",
              "    <tr>\n",
              "      <th>id</th>\n",
              "      <td>3781</td>\n",
              "      <td>5506</td>\n",
              "      <td>6695</td>\n",
              "      <td>8789</td>\n",
              "      <td>10813</td>\n",
              "      <td>10986</td>\n",
              "      <td>29765</td>\n",
              "      <td>40601</td>\n",
              "      <td>45987</td>\n",
              "      <td>47521</td>\n",
              "    </tr>\n",
              "    <tr>\n",
              "      <th>listing_url</th>\n",
              "      <td>https://www.airbnb.com/rooms/3781</td>\n",
              "      <td>https://www.airbnb.com/rooms/5506</td>\n",
              "      <td>https://www.airbnb.com/rooms/6695</td>\n",
              "      <td>https://www.airbnb.com/rooms/8789</td>\n",
              "      <td>https://www.airbnb.com/rooms/10813</td>\n",
              "      <td>https://www.airbnb.com/rooms/10986</td>\n",
              "      <td>https://www.airbnb.com/rooms/29765</td>\n",
              "      <td>https://www.airbnb.com/rooms/40601</td>\n",
              "      <td>https://www.airbnb.com/rooms/45987</td>\n",
              "      <td>https://www.airbnb.com/rooms/47521</td>\n",
              "    </tr>\n",
              "    <tr>\n",
              "      <th>scrape_id</th>\n",
              "      <td>20231218233145</td>\n",
              "      <td>20231218233145</td>\n",
              "      <td>20231218233145</td>\n",
              "      <td>20231218233145</td>\n",
              "      <td>20231218233145</td>\n",
              "      <td>20231218233145</td>\n",
              "      <td>20231218233145</td>\n",
              "      <td>20231218233145</td>\n",
              "      <td>20231218233145</td>\n",
              "      <td>20231218233145</td>\n",
              "    </tr>\n",
              "    <tr>\n",
              "      <th>last_scraped</th>\n",
              "      <td>2023-12-19</td>\n",
              "      <td>2023-12-19</td>\n",
              "      <td>2023-12-19</td>\n",
              "      <td>2023-12-19</td>\n",
              "      <td>2023-12-19</td>\n",
              "      <td>2023-12-19</td>\n",
              "      <td>2023-12-19</td>\n",
              "      <td>2023-12-19</td>\n",
              "      <td>2023-12-19</td>\n",
              "      <td>2023-12-19</td>\n",
              "    </tr>\n",
              "    <tr>\n",
              "      <th>source</th>\n",
              "      <td>city scrape</td>\n",
              "      <td>city scrape</td>\n",
              "      <td>city scrape</td>\n",
              "      <td>city scrape</td>\n",
              "      <td>city scrape</td>\n",
              "      <td>city scrape</td>\n",
              "      <td>city scrape</td>\n",
              "      <td>city scrape</td>\n",
              "      <td>city scrape</td>\n",
              "      <td>city scrape</td>\n",
              "    </tr>\n",
              "    <tr>\n",
              "      <th>...</th>\n",
              "      <td>...</td>\n",
              "      <td>...</td>\n",
              "      <td>...</td>\n",
              "      <td>...</td>\n",
              "      <td>...</td>\n",
              "      <td>...</td>\n",
              "      <td>...</td>\n",
              "      <td>...</td>\n",
              "      <td>...</td>\n",
              "      <td>...</td>\n",
              "    </tr>\n",
              "    <tr>\n",
              "      <th>calculated_host_listings_count</th>\n",
              "      <td>1</td>\n",
              "      <td>10</td>\n",
              "      <td>10</td>\n",
              "      <td>9</td>\n",
              "      <td>11</td>\n",
              "      <td>11</td>\n",
              "      <td>1</td>\n",
              "      <td>1</td>\n",
              "      <td>1</td>\n",
              "      <td>8</td>\n",
              "    </tr>\n",
              "    <tr>\n",
              "      <th>calculated_host_listings_count_entire_homes</th>\n",
              "      <td>1</td>\n",
              "      <td>10</td>\n",
              "      <td>10</td>\n",
              "      <td>9</td>\n",
              "      <td>11</td>\n",
              "      <td>11</td>\n",
              "      <td>1</td>\n",
              "      <td>0</td>\n",
              "      <td>1</td>\n",
              "      <td>2</td>\n",
              "    </tr>\n",
              "    <tr>\n",
              "      <th>calculated_host_listings_count_private_rooms</th>\n",
              "      <td>0</td>\n",
              "      <td>0</td>\n",
              "      <td>0</td>\n",
              "      <td>0</td>\n",
              "      <td>0</td>\n",
              "      <td>0</td>\n",
              "      <td>0</td>\n",
              "      <td>1</td>\n",
              "      <td>0</td>\n",
              "      <td>6</td>\n",
              "    </tr>\n",
              "    <tr>\n",
              "      <th>calculated_host_listings_count_shared_rooms</th>\n",
              "      <td>0</td>\n",
              "      <td>0</td>\n",
              "      <td>0</td>\n",
              "      <td>0</td>\n",
              "      <td>0</td>\n",
              "      <td>0</td>\n",
              "      <td>0</td>\n",
              "      <td>0</td>\n",
              "      <td>0</td>\n",
              "      <td>0</td>\n",
              "    </tr>\n",
              "    <tr>\n",
              "      <th>reviews_per_month</th>\n",
              "      <td>0.23</td>\n",
              "      <td>0.68</td>\n",
              "      <td>0.73</td>\n",
              "      <td>0.24</td>\n",
              "      <td>0.09</td>\n",
              "      <td>NaN</td>\n",
              "      <td>0.61</td>\n",
              "      <td>0.6</td>\n",
              "      <td>0.84</td>\n",
              "      <td>2.06</td>\n",
              "    </tr>\n",
              "  </tbody>\n",
              "</table>\n",
              "<p>72 rows × 10 columns</p>\n",
              "</div>\n",
              "    <div class=\"colab-df-buttons\">\n",
              "\n",
              "  <div class=\"colab-df-container\">\n",
              "    <button class=\"colab-df-convert\" onclick=\"convertToInteractive('df-c5771641-271e-42ff-a7c1-83a497d0342f')\"\n",
              "            title=\"Convert this dataframe to an interactive table.\"\n",
              "            style=\"display:none;\">\n",
              "\n",
              "  <svg xmlns=\"http://www.w3.org/2000/svg\" height=\"24px\" viewBox=\"0 -960 960 960\">\n",
              "    <path d=\"M120-120v-720h720v720H120Zm60-500h600v-160H180v160Zm220 220h160v-160H400v160Zm0 220h160v-160H400v160ZM180-400h160v-160H180v160Zm440 0h160v-160H620v160ZM180-180h160v-160H180v160Zm440 0h160v-160H620v160Z\"/>\n",
              "  </svg>\n",
              "    </button>\n",
              "\n",
              "  <style>\n",
              "    .colab-df-container {\n",
              "      display:flex;\n",
              "      gap: 12px;\n",
              "    }\n",
              "\n",
              "    .colab-df-convert {\n",
              "      background-color: #E8F0FE;\n",
              "      border: none;\n",
              "      border-radius: 50%;\n",
              "      cursor: pointer;\n",
              "      display: none;\n",
              "      fill: #1967D2;\n",
              "      height: 32px;\n",
              "      padding: 0 0 0 0;\n",
              "      width: 32px;\n",
              "    }\n",
              "\n",
              "    .colab-df-convert:hover {\n",
              "      background-color: #E2EBFA;\n",
              "      box-shadow: 0px 1px 2px rgba(60, 64, 67, 0.3), 0px 1px 3px 1px rgba(60, 64, 67, 0.15);\n",
              "      fill: #174EA6;\n",
              "    }\n",
              "\n",
              "    .colab-df-buttons div {\n",
              "      margin-bottom: 4px;\n",
              "    }\n",
              "\n",
              "    [theme=dark] .colab-df-convert {\n",
              "      background-color: #3B4455;\n",
              "      fill: #D2E3FC;\n",
              "    }\n",
              "\n",
              "    [theme=dark] .colab-df-convert:hover {\n",
              "      background-color: #434B5C;\n",
              "      box-shadow: 0px 1px 3px 1px rgba(0, 0, 0, 0.15);\n",
              "      filter: drop-shadow(0px 1px 2px rgba(0, 0, 0, 0.3));\n",
              "      fill: #FFFFFF;\n",
              "    }\n",
              "  </style>\n",
              "\n",
              "    <script>\n",
              "      const buttonEl =\n",
              "        document.querySelector('#df-c5771641-271e-42ff-a7c1-83a497d0342f button.colab-df-convert');\n",
              "      buttonEl.style.display =\n",
              "        google.colab.kernel.accessAllowed ? 'block' : 'none';\n",
              "\n",
              "      async function convertToInteractive(key) {\n",
              "        const element = document.querySelector('#df-c5771641-271e-42ff-a7c1-83a497d0342f');\n",
              "        const dataTable =\n",
              "          await google.colab.kernel.invokeFunction('convertToInteractive',\n",
              "                                                    [key], {});\n",
              "        if (!dataTable) return;\n",
              "\n",
              "        const docLinkHtml = 'Like what you see? Visit the ' +\n",
              "          '<a target=\"_blank\" href=https://colab.research.google.com/notebooks/data_table.ipynb>data table notebook</a>'\n",
              "          + ' to learn more about interactive tables.';\n",
              "        element.innerHTML = '';\n",
              "        dataTable['output_type'] = 'display_data';\n",
              "        await google.colab.output.renderOutput(dataTable, element);\n",
              "        const docLink = document.createElement('div');\n",
              "        docLink.innerHTML = docLinkHtml;\n",
              "        element.appendChild(docLink);\n",
              "      }\n",
              "    </script>\n",
              "  </div>\n",
              "\n",
              "\n",
              "<div id=\"df-3884b139-6d4e-4d02-a295-2ee550d762a9\">\n",
              "  <button class=\"colab-df-quickchart\" onclick=\"quickchart('df-3884b139-6d4e-4d02-a295-2ee550d762a9')\"\n",
              "            title=\"Suggest charts\"\n",
              "            style=\"display:none;\">\n",
              "\n",
              "<svg xmlns=\"http://www.w3.org/2000/svg\" height=\"24px\"viewBox=\"0 0 24 24\"\n",
              "     width=\"24px\">\n",
              "    <g>\n",
              "        <path d=\"M19 3H5c-1.1 0-2 .9-2 2v14c0 1.1.9 2 2 2h14c1.1 0 2-.9 2-2V5c0-1.1-.9-2-2-2zM9 17H7v-7h2v7zm4 0h-2V7h2v10zm4 0h-2v-4h2v4z\"/>\n",
              "    </g>\n",
              "</svg>\n",
              "  </button>\n",
              "\n",
              "<style>\n",
              "  .colab-df-quickchart {\n",
              "      --bg-color: #E8F0FE;\n",
              "      --fill-color: #1967D2;\n",
              "      --hover-bg-color: #E2EBFA;\n",
              "      --hover-fill-color: #174EA6;\n",
              "      --disabled-fill-color: #AAA;\n",
              "      --disabled-bg-color: #DDD;\n",
              "  }\n",
              "\n",
              "  [theme=dark] .colab-df-quickchart {\n",
              "      --bg-color: #3B4455;\n",
              "      --fill-color: #D2E3FC;\n",
              "      --hover-bg-color: #434B5C;\n",
              "      --hover-fill-color: #FFFFFF;\n",
              "      --disabled-bg-color: #3B4455;\n",
              "      --disabled-fill-color: #666;\n",
              "  }\n",
              "\n",
              "  .colab-df-quickchart {\n",
              "    background-color: var(--bg-color);\n",
              "    border: none;\n",
              "    border-radius: 50%;\n",
              "    cursor: pointer;\n",
              "    display: none;\n",
              "    fill: var(--fill-color);\n",
              "    height: 32px;\n",
              "    padding: 0;\n",
              "    width: 32px;\n",
              "  }\n",
              "\n",
              "  .colab-df-quickchart:hover {\n",
              "    background-color: var(--hover-bg-color);\n",
              "    box-shadow: 0 1px 2px rgba(60, 64, 67, 0.3), 0 1px 3px 1px rgba(60, 64, 67, 0.15);\n",
              "    fill: var(--button-hover-fill-color);\n",
              "  }\n",
              "\n",
              "  .colab-df-quickchart-complete:disabled,\n",
              "  .colab-df-quickchart-complete:disabled:hover {\n",
              "    background-color: var(--disabled-bg-color);\n",
              "    fill: var(--disabled-fill-color);\n",
              "    box-shadow: none;\n",
              "  }\n",
              "\n",
              "  .colab-df-spinner {\n",
              "    border: 2px solid var(--fill-color);\n",
              "    border-color: transparent;\n",
              "    border-bottom-color: var(--fill-color);\n",
              "    animation:\n",
              "      spin 1s steps(1) infinite;\n",
              "  }\n",
              "\n",
              "  @keyframes spin {\n",
              "    0% {\n",
              "      border-color: transparent;\n",
              "      border-bottom-color: var(--fill-color);\n",
              "      border-left-color: var(--fill-color);\n",
              "    }\n",
              "    20% {\n",
              "      border-color: transparent;\n",
              "      border-left-color: var(--fill-color);\n",
              "      border-top-color: var(--fill-color);\n",
              "    }\n",
              "    30% {\n",
              "      border-color: transparent;\n",
              "      border-left-color: var(--fill-color);\n",
              "      border-top-color: var(--fill-color);\n",
              "      border-right-color: var(--fill-color);\n",
              "    }\n",
              "    40% {\n",
              "      border-color: transparent;\n",
              "      border-right-color: var(--fill-color);\n",
              "      border-top-color: var(--fill-color);\n",
              "    }\n",
              "    60% {\n",
              "      border-color: transparent;\n",
              "      border-right-color: var(--fill-color);\n",
              "    }\n",
              "    80% {\n",
              "      border-color: transparent;\n",
              "      border-right-color: var(--fill-color);\n",
              "      border-bottom-color: var(--fill-color);\n",
              "    }\n",
              "    90% {\n",
              "      border-color: transparent;\n",
              "      border-bottom-color: var(--fill-color);\n",
              "    }\n",
              "  }\n",
              "</style>\n",
              "\n",
              "  <script>\n",
              "    async function quickchart(key) {\n",
              "      const quickchartButtonEl =\n",
              "        document.querySelector('#' + key + ' button');\n",
              "      quickchartButtonEl.disabled = true;  // To prevent multiple clicks.\n",
              "      quickchartButtonEl.classList.add('colab-df-spinner');\n",
              "      try {\n",
              "        const charts = await google.colab.kernel.invokeFunction(\n",
              "            'suggestCharts', [key], {});\n",
              "      } catch (error) {\n",
              "        console.error('Error during call to suggestCharts:', error);\n",
              "      }\n",
              "      quickchartButtonEl.classList.remove('colab-df-spinner');\n",
              "      quickchartButtonEl.classList.add('colab-df-quickchart-complete');\n",
              "    }\n",
              "    (() => {\n",
              "      let quickchartButtonEl =\n",
              "        document.querySelector('#df-3884b139-6d4e-4d02-a295-2ee550d762a9 button');\n",
              "      quickchartButtonEl.style.display =\n",
              "        google.colab.kernel.accessAllowed ? 'block' : 'none';\n",
              "    })();\n",
              "  </script>\n",
              "</div>\n",
              "\n",
              "    </div>\n",
              "  </div>\n"
            ],
            "application/vnd.google.colaboratory.intrinsic+json": {
              "type": "dataframe",
              "variable_name": "valid_df"
            }
          },
          "metadata": {},
          "execution_count": 4
        }
      ]
    },
    {
      "cell_type": "code",
      "source": [
        "valid_df.dtypes"
      ],
      "metadata": {
        "colab": {
          "base_uri": "https://localhost:8080/",
          "height": 459
        },
        "id": "1UGEd9WlZDTZ",
        "outputId": "36845704-6543-48de-8ef7-9482152fa16a"
      },
      "execution_count": 5,
      "outputs": [
        {
          "output_type": "execute_result",
          "data": {
            "text/plain": [
              "id                                                int64\n",
              "listing_url                                      object\n",
              "scrape_id                                         int64\n",
              "last_scraped                                     object\n",
              "source                                           object\n",
              "                                                 ...   \n",
              "calculated_host_listings_count                    int64\n",
              "calculated_host_listings_count_entire_homes       int64\n",
              "calculated_host_listings_count_private_rooms      int64\n",
              "calculated_host_listings_count_shared_rooms       int64\n",
              "reviews_per_month                               float64\n",
              "Length: 72, dtype: object"
            ],
            "text/html": [
              "<div>\n",
              "<style scoped>\n",
              "    .dataframe tbody tr th:only-of-type {\n",
              "        vertical-align: middle;\n",
              "    }\n",
              "\n",
              "    .dataframe tbody tr th {\n",
              "        vertical-align: top;\n",
              "    }\n",
              "\n",
              "    .dataframe thead th {\n",
              "        text-align: right;\n",
              "    }\n",
              "</style>\n",
              "<table border=\"1\" class=\"dataframe\">\n",
              "  <thead>\n",
              "    <tr style=\"text-align: right;\">\n",
              "      <th></th>\n",
              "      <th>0</th>\n",
              "    </tr>\n",
              "  </thead>\n",
              "  <tbody>\n",
              "    <tr>\n",
              "      <th>id</th>\n",
              "      <td>int64</td>\n",
              "    </tr>\n",
              "    <tr>\n",
              "      <th>listing_url</th>\n",
              "      <td>object</td>\n",
              "    </tr>\n",
              "    <tr>\n",
              "      <th>scrape_id</th>\n",
              "      <td>int64</td>\n",
              "    </tr>\n",
              "    <tr>\n",
              "      <th>last_scraped</th>\n",
              "      <td>object</td>\n",
              "    </tr>\n",
              "    <tr>\n",
              "      <th>source</th>\n",
              "      <td>object</td>\n",
              "    </tr>\n",
              "    <tr>\n",
              "      <th>...</th>\n",
              "      <td>...</td>\n",
              "    </tr>\n",
              "    <tr>\n",
              "      <th>calculated_host_listings_count</th>\n",
              "      <td>int64</td>\n",
              "    </tr>\n",
              "    <tr>\n",
              "      <th>calculated_host_listings_count_entire_homes</th>\n",
              "      <td>int64</td>\n",
              "    </tr>\n",
              "    <tr>\n",
              "      <th>calculated_host_listings_count_private_rooms</th>\n",
              "      <td>int64</td>\n",
              "    </tr>\n",
              "    <tr>\n",
              "      <th>calculated_host_listings_count_shared_rooms</th>\n",
              "      <td>int64</td>\n",
              "    </tr>\n",
              "    <tr>\n",
              "      <th>reviews_per_month</th>\n",
              "      <td>float64</td>\n",
              "    </tr>\n",
              "  </tbody>\n",
              "</table>\n",
              "<p>72 rows × 1 columns</p>\n",
              "</div><br><label><b>dtype:</b> object</label>"
            ]
          },
          "metadata": {},
          "execution_count": 5
        }
      ]
    },
    {
      "cell_type": "code",
      "source": [
        "valid_df"
      ],
      "metadata": {
        "colab": {
          "base_uri": "https://localhost:8080/",
          "height": 965
        },
        "id": "tr4rZ1AYgQKp",
        "outputId": "0dde55ec-a70e-4466-b280-66e58f8d741d"
      },
      "execution_count": 6,
      "outputs": [
        {
          "output_type": "execute_result",
          "data": {
            "text/plain": [
              "                       id                                       listing_url  \\\n",
              "0                    3781                 https://www.airbnb.com/rooms/3781   \n",
              "1                    5506                 https://www.airbnb.com/rooms/5506   \n",
              "2                    6695                 https://www.airbnb.com/rooms/6695   \n",
              "3                    8789                 https://www.airbnb.com/rooms/8789   \n",
              "4                   10813                https://www.airbnb.com/rooms/10813   \n",
              "...                   ...                                               ...   \n",
              "3124  1046563598019556549  https://www.airbnb.com/rooms/1046563598019556549   \n",
              "3125  1046568292864752336  https://www.airbnb.com/rooms/1046568292864752336   \n",
              "3126  1047166785349446101  https://www.airbnb.com/rooms/1047166785349446101   \n",
              "3127  1047226383263246733  https://www.airbnb.com/rooms/1047226383263246733   \n",
              "3128  1048051750111422883  https://www.airbnb.com/rooms/1048051750111422883   \n",
              "\n",
              "           scrape_id last_scraped       source  \\\n",
              "0     20231218233145   2023-12-19  city scrape   \n",
              "1     20231218233145   2023-12-19  city scrape   \n",
              "2     20231218233145   2023-12-19  city scrape   \n",
              "3     20231218233145   2023-12-19  city scrape   \n",
              "4     20231218233145   2023-12-19  city scrape   \n",
              "...              ...          ...          ...   \n",
              "3124  20231218233145   2023-12-19  city scrape   \n",
              "3125  20231218233145   2023-12-19  city scrape   \n",
              "3126  20231218233145   2023-12-19  city scrape   \n",
              "3127  20231218233145   2023-12-19  city scrape   \n",
              "3128  20231218233145   2023-12-19  city scrape   \n",
              "\n",
              "                                            picture_url    host_id  \\\n",
              "0     https://a0.muscache.com/pictures/24670/b2de044...       4804   \n",
              "1     https://a0.muscache.com/pictures/miso/Hosting-...       8229   \n",
              "2     https://a0.muscache.com/pictures/38ac4797-e7a4...       8229   \n",
              "3     https://a0.muscache.com/pictures/miso/Hosting-...      26988   \n",
              "4     https://a0.muscache.com/pictures/20b5b9c9-e1f4...      38997   \n",
              "...                                                 ...        ...   \n",
              "3124  https://a0.muscache.com/pictures/prohost-api/H...  212359760   \n",
              "3125  https://a0.muscache.com/pictures/prohost-api/H...  212359760   \n",
              "3126  https://a0.muscache.com/pictures/miso/Hosting-...  233908696   \n",
              "3127  https://a0.muscache.com/pictures/prohost-api/H...  212359760   \n",
              "3128  https://a0.muscache.com/pictures/e53f88a5-f860...  108724738   \n",
              "\n",
              "                                         host_url    host_name  host_since  \\\n",
              "0          https://www.airbnb.com/users/show/4804        Frank  2008-12-03   \n",
              "1          https://www.airbnb.com/users/show/8229        Terry  2009-02-19   \n",
              "2          https://www.airbnb.com/users/show/8229        Terry  2009-02-19   \n",
              "3         https://www.airbnb.com/users/show/26988         Anne  2009-07-22   \n",
              "4         https://www.airbnb.com/users/show/38997     Michelle  2009-09-16   \n",
              "...                                           ...          ...         ...   \n",
              "3124  https://www.airbnb.com/users/show/212359760      Evonify  2018-08-29   \n",
              "3125  https://www.airbnb.com/users/show/212359760      Evonify  2018-08-29   \n",
              "3126  https://www.airbnb.com/users/show/233908696  Together We  2019-01-02   \n",
              "3127  https://www.airbnb.com/users/show/212359760      Evonify  2018-08-29   \n",
              "3128  https://www.airbnb.com/users/show/108724738        Diogo  2016-12-27   \n",
              "\n",
              "      ... review_scores_communication review_scores_location  \\\n",
              "0     ...                        4.96                   4.88   \n",
              "1     ...                        4.89                   4.55   \n",
              "2     ...                        4.95                   4.51   \n",
              "3     ...                        4.96                   4.96   \n",
              "4     ...                        5.00                   5.00   \n",
              "...   ...                         ...                    ...   \n",
              "3124  ...                        5.00                   5.00   \n",
              "3125  ...                         NaN                    NaN   \n",
              "3126  ...                         NaN                    NaN   \n",
              "3127  ...                         NaN                    NaN   \n",
              "3128  ...                         NaN                    NaN   \n",
              "\n",
              "     review_scores_value                                            license  \\\n",
              "0                   4.92                                                NaN   \n",
              "1                   4.75                                         STR-490093   \n",
              "2                   4.71                                         STR-491702   \n",
              "3                   4.56                                                NaN   \n",
              "4                   4.80                                                NaN   \n",
              "...                  ...                                                ...   \n",
              "3124                5.00  Exempt: This listing is a unit that has contra...   \n",
              "3125                 NaN  Exempt: This listing is a unit that has contra...   \n",
              "3126                 NaN                                         STR-531165   \n",
              "3127                 NaN  Exempt: This listing is a unit that has contra...   \n",
              "3128                 NaN                                         STR-546808   \n",
              "\n",
              "     instant_bookable calculated_host_listings_count  \\\n",
              "0                   f                              1   \n",
              "1                   f                             10   \n",
              "2                   f                             10   \n",
              "3                   f                              9   \n",
              "4                   f                             11   \n",
              "...               ...                            ...   \n",
              "3124                f                             77   \n",
              "3125                f                             77   \n",
              "3126                t                              2   \n",
              "3127                f                             77   \n",
              "3128                f                              6   \n",
              "\n",
              "     calculated_host_listings_count_entire_homes  \\\n",
              "0                                              1   \n",
              "1                                             10   \n",
              "2                                             10   \n",
              "3                                              9   \n",
              "4                                             11   \n",
              "...                                          ...   \n",
              "3124                                          77   \n",
              "3125                                          77   \n",
              "3126                                           2   \n",
              "3127                                          77   \n",
              "3128                                           6   \n",
              "\n",
              "     calculated_host_listings_count_private_rooms  \\\n",
              "0                                               0   \n",
              "1                                               0   \n",
              "2                                               0   \n",
              "3                                               0   \n",
              "4                                               0   \n",
              "...                                           ...   \n",
              "3124                                            0   \n",
              "3125                                            0   \n",
              "3126                                            0   \n",
              "3127                                            0   \n",
              "3128                                            0   \n",
              "\n",
              "     calculated_host_listings_count_shared_rooms  reviews_per_month  \n",
              "0                                              0               0.23  \n",
              "1                                              0               0.68  \n",
              "2                                              0               0.73  \n",
              "3                                              0               0.24  \n",
              "4                                              0               0.09  \n",
              "...                                          ...                ...  \n",
              "3124                                           0               1.00  \n",
              "3125                                           0                NaN  \n",
              "3126                                           0                NaN  \n",
              "3127                                           0                NaN  \n",
              "3128                                           0                NaN  \n",
              "\n",
              "[3129 rows x 72 columns]"
            ],
            "text/html": [
              "\n",
              "  <div id=\"df-fe4df30d-276f-4fbc-930b-936b413e9ff6\" class=\"colab-df-container\">\n",
              "    <div>\n",
              "<style scoped>\n",
              "    .dataframe tbody tr th:only-of-type {\n",
              "        vertical-align: middle;\n",
              "    }\n",
              "\n",
              "    .dataframe tbody tr th {\n",
              "        vertical-align: top;\n",
              "    }\n",
              "\n",
              "    .dataframe thead th {\n",
              "        text-align: right;\n",
              "    }\n",
              "</style>\n",
              "<table border=\"1\" class=\"dataframe\">\n",
              "  <thead>\n",
              "    <tr style=\"text-align: right;\">\n",
              "      <th></th>\n",
              "      <th>id</th>\n",
              "      <th>listing_url</th>\n",
              "      <th>scrape_id</th>\n",
              "      <th>last_scraped</th>\n",
              "      <th>source</th>\n",
              "      <th>picture_url</th>\n",
              "      <th>host_id</th>\n",
              "      <th>host_url</th>\n",
              "      <th>host_name</th>\n",
              "      <th>host_since</th>\n",
              "      <th>...</th>\n",
              "      <th>review_scores_communication</th>\n",
              "      <th>review_scores_location</th>\n",
              "      <th>review_scores_value</th>\n",
              "      <th>license</th>\n",
              "      <th>instant_bookable</th>\n",
              "      <th>calculated_host_listings_count</th>\n",
              "      <th>calculated_host_listings_count_entire_homes</th>\n",
              "      <th>calculated_host_listings_count_private_rooms</th>\n",
              "      <th>calculated_host_listings_count_shared_rooms</th>\n",
              "      <th>reviews_per_month</th>\n",
              "    </tr>\n",
              "  </thead>\n",
              "  <tbody>\n",
              "    <tr>\n",
              "      <th>0</th>\n",
              "      <td>3781</td>\n",
              "      <td>https://www.airbnb.com/rooms/3781</td>\n",
              "      <td>20231218233145</td>\n",
              "      <td>2023-12-19</td>\n",
              "      <td>city scrape</td>\n",
              "      <td>https://a0.muscache.com/pictures/24670/b2de044...</td>\n",
              "      <td>4804</td>\n",
              "      <td>https://www.airbnb.com/users/show/4804</td>\n",
              "      <td>Frank</td>\n",
              "      <td>2008-12-03</td>\n",
              "      <td>...</td>\n",
              "      <td>4.96</td>\n",
              "      <td>4.88</td>\n",
              "      <td>4.92</td>\n",
              "      <td>NaN</td>\n",
              "      <td>f</td>\n",
              "      <td>1</td>\n",
              "      <td>1</td>\n",
              "      <td>0</td>\n",
              "      <td>0</td>\n",
              "      <td>0.23</td>\n",
              "    </tr>\n",
              "    <tr>\n",
              "      <th>1</th>\n",
              "      <td>5506</td>\n",
              "      <td>https://www.airbnb.com/rooms/5506</td>\n",
              "      <td>20231218233145</td>\n",
              "      <td>2023-12-19</td>\n",
              "      <td>city scrape</td>\n",
              "      <td>https://a0.muscache.com/pictures/miso/Hosting-...</td>\n",
              "      <td>8229</td>\n",
              "      <td>https://www.airbnb.com/users/show/8229</td>\n",
              "      <td>Terry</td>\n",
              "      <td>2009-02-19</td>\n",
              "      <td>...</td>\n",
              "      <td>4.89</td>\n",
              "      <td>4.55</td>\n",
              "      <td>4.75</td>\n",
              "      <td>STR-490093</td>\n",
              "      <td>f</td>\n",
              "      <td>10</td>\n",
              "      <td>10</td>\n",
              "      <td>0</td>\n",
              "      <td>0</td>\n",
              "      <td>0.68</td>\n",
              "    </tr>\n",
              "    <tr>\n",
              "      <th>2</th>\n",
              "      <td>6695</td>\n",
              "      <td>https://www.airbnb.com/rooms/6695</td>\n",
              "      <td>20231218233145</td>\n",
              "      <td>2023-12-19</td>\n",
              "      <td>city scrape</td>\n",
              "      <td>https://a0.muscache.com/pictures/38ac4797-e7a4...</td>\n",
              "      <td>8229</td>\n",
              "      <td>https://www.airbnb.com/users/show/8229</td>\n",
              "      <td>Terry</td>\n",
              "      <td>2009-02-19</td>\n",
              "      <td>...</td>\n",
              "      <td>4.95</td>\n",
              "      <td>4.51</td>\n",
              "      <td>4.71</td>\n",
              "      <td>STR-491702</td>\n",
              "      <td>f</td>\n",
              "      <td>10</td>\n",
              "      <td>10</td>\n",
              "      <td>0</td>\n",
              "      <td>0</td>\n",
              "      <td>0.73</td>\n",
              "    </tr>\n",
              "    <tr>\n",
              "      <th>3</th>\n",
              "      <td>8789</td>\n",
              "      <td>https://www.airbnb.com/rooms/8789</td>\n",
              "      <td>20231218233145</td>\n",
              "      <td>2023-12-19</td>\n",
              "      <td>city scrape</td>\n",
              "      <td>https://a0.muscache.com/pictures/miso/Hosting-...</td>\n",
              "      <td>26988</td>\n",
              "      <td>https://www.airbnb.com/users/show/26988</td>\n",
              "      <td>Anne</td>\n",
              "      <td>2009-07-22</td>\n",
              "      <td>...</td>\n",
              "      <td>4.96</td>\n",
              "      <td>4.96</td>\n",
              "      <td>4.56</td>\n",
              "      <td>NaN</td>\n",
              "      <td>f</td>\n",
              "      <td>9</td>\n",
              "      <td>9</td>\n",
              "      <td>0</td>\n",
              "      <td>0</td>\n",
              "      <td>0.24</td>\n",
              "    </tr>\n",
              "    <tr>\n",
              "      <th>4</th>\n",
              "      <td>10813</td>\n",
              "      <td>https://www.airbnb.com/rooms/10813</td>\n",
              "      <td>20231218233145</td>\n",
              "      <td>2023-12-19</td>\n",
              "      <td>city scrape</td>\n",
              "      <td>https://a0.muscache.com/pictures/20b5b9c9-e1f4...</td>\n",
              "      <td>38997</td>\n",
              "      <td>https://www.airbnb.com/users/show/38997</td>\n",
              "      <td>Michelle</td>\n",
              "      <td>2009-09-16</td>\n",
              "      <td>...</td>\n",
              "      <td>5.00</td>\n",
              "      <td>5.00</td>\n",
              "      <td>4.80</td>\n",
              "      <td>NaN</td>\n",
              "      <td>f</td>\n",
              "      <td>11</td>\n",
              "      <td>11</td>\n",
              "      <td>0</td>\n",
              "      <td>0</td>\n",
              "      <td>0.09</td>\n",
              "    </tr>\n",
              "    <tr>\n",
              "      <th>...</th>\n",
              "      <td>...</td>\n",
              "      <td>...</td>\n",
              "      <td>...</td>\n",
              "      <td>...</td>\n",
              "      <td>...</td>\n",
              "      <td>...</td>\n",
              "      <td>...</td>\n",
              "      <td>...</td>\n",
              "      <td>...</td>\n",
              "      <td>...</td>\n",
              "      <td>...</td>\n",
              "      <td>...</td>\n",
              "      <td>...</td>\n",
              "      <td>...</td>\n",
              "      <td>...</td>\n",
              "      <td>...</td>\n",
              "      <td>...</td>\n",
              "      <td>...</td>\n",
              "      <td>...</td>\n",
              "      <td>...</td>\n",
              "      <td>...</td>\n",
              "    </tr>\n",
              "    <tr>\n",
              "      <th>3124</th>\n",
              "      <td>1046563598019556549</td>\n",
              "      <td>https://www.airbnb.com/rooms/1046563598019556549</td>\n",
              "      <td>20231218233145</td>\n",
              "      <td>2023-12-19</td>\n",
              "      <td>city scrape</td>\n",
              "      <td>https://a0.muscache.com/pictures/prohost-api/H...</td>\n",
              "      <td>212359760</td>\n",
              "      <td>https://www.airbnb.com/users/show/212359760</td>\n",
              "      <td>Evonify</td>\n",
              "      <td>2018-08-29</td>\n",
              "      <td>...</td>\n",
              "      <td>5.00</td>\n",
              "      <td>5.00</td>\n",
              "      <td>5.00</td>\n",
              "      <td>Exempt: This listing is a unit that has contra...</td>\n",
              "      <td>f</td>\n",
              "      <td>77</td>\n",
              "      <td>77</td>\n",
              "      <td>0</td>\n",
              "      <td>0</td>\n",
              "      <td>1.00</td>\n",
              "    </tr>\n",
              "    <tr>\n",
              "      <th>3125</th>\n",
              "      <td>1046568292864752336</td>\n",
              "      <td>https://www.airbnb.com/rooms/1046568292864752336</td>\n",
              "      <td>20231218233145</td>\n",
              "      <td>2023-12-19</td>\n",
              "      <td>city scrape</td>\n",
              "      <td>https://a0.muscache.com/pictures/prohost-api/H...</td>\n",
              "      <td>212359760</td>\n",
              "      <td>https://www.airbnb.com/users/show/212359760</td>\n",
              "      <td>Evonify</td>\n",
              "      <td>2018-08-29</td>\n",
              "      <td>...</td>\n",
              "      <td>NaN</td>\n",
              "      <td>NaN</td>\n",
              "      <td>NaN</td>\n",
              "      <td>Exempt: This listing is a unit that has contra...</td>\n",
              "      <td>f</td>\n",
              "      <td>77</td>\n",
              "      <td>77</td>\n",
              "      <td>0</td>\n",
              "      <td>0</td>\n",
              "      <td>NaN</td>\n",
              "    </tr>\n",
              "    <tr>\n",
              "      <th>3126</th>\n",
              "      <td>1047166785349446101</td>\n",
              "      <td>https://www.airbnb.com/rooms/1047166785349446101</td>\n",
              "      <td>20231218233145</td>\n",
              "      <td>2023-12-19</td>\n",
              "      <td>city scrape</td>\n",
              "      <td>https://a0.muscache.com/pictures/miso/Hosting-...</td>\n",
              "      <td>233908696</td>\n",
              "      <td>https://www.airbnb.com/users/show/233908696</td>\n",
              "      <td>Together We</td>\n",
              "      <td>2019-01-02</td>\n",
              "      <td>...</td>\n",
              "      <td>NaN</td>\n",
              "      <td>NaN</td>\n",
              "      <td>NaN</td>\n",
              "      <td>STR-531165</td>\n",
              "      <td>t</td>\n",
              "      <td>2</td>\n",
              "      <td>2</td>\n",
              "      <td>0</td>\n",
              "      <td>0</td>\n",
              "      <td>NaN</td>\n",
              "    </tr>\n",
              "    <tr>\n",
              "      <th>3127</th>\n",
              "      <td>1047226383263246733</td>\n",
              "      <td>https://www.airbnb.com/rooms/1047226383263246733</td>\n",
              "      <td>20231218233145</td>\n",
              "      <td>2023-12-19</td>\n",
              "      <td>city scrape</td>\n",
              "      <td>https://a0.muscache.com/pictures/prohost-api/H...</td>\n",
              "      <td>212359760</td>\n",
              "      <td>https://www.airbnb.com/users/show/212359760</td>\n",
              "      <td>Evonify</td>\n",
              "      <td>2018-08-29</td>\n",
              "      <td>...</td>\n",
              "      <td>NaN</td>\n",
              "      <td>NaN</td>\n",
              "      <td>NaN</td>\n",
              "      <td>Exempt: This listing is a unit that has contra...</td>\n",
              "      <td>f</td>\n",
              "      <td>77</td>\n",
              "      <td>77</td>\n",
              "      <td>0</td>\n",
              "      <td>0</td>\n",
              "      <td>NaN</td>\n",
              "    </tr>\n",
              "    <tr>\n",
              "      <th>3128</th>\n",
              "      <td>1048051750111422883</td>\n",
              "      <td>https://www.airbnb.com/rooms/1048051750111422883</td>\n",
              "      <td>20231218233145</td>\n",
              "      <td>2023-12-19</td>\n",
              "      <td>city scrape</td>\n",
              "      <td>https://a0.muscache.com/pictures/e53f88a5-f860...</td>\n",
              "      <td>108724738</td>\n",
              "      <td>https://www.airbnb.com/users/show/108724738</td>\n",
              "      <td>Diogo</td>\n",
              "      <td>2016-12-27</td>\n",
              "      <td>...</td>\n",
              "      <td>NaN</td>\n",
              "      <td>NaN</td>\n",
              "      <td>NaN</td>\n",
              "      <td>STR-546808</td>\n",
              "      <td>f</td>\n",
              "      <td>6</td>\n",
              "      <td>6</td>\n",
              "      <td>0</td>\n",
              "      <td>0</td>\n",
              "      <td>NaN</td>\n",
              "    </tr>\n",
              "  </tbody>\n",
              "</table>\n",
              "<p>3129 rows × 72 columns</p>\n",
              "</div>\n",
              "    <div class=\"colab-df-buttons\">\n",
              "\n",
              "  <div class=\"colab-df-container\">\n",
              "    <button class=\"colab-df-convert\" onclick=\"convertToInteractive('df-fe4df30d-276f-4fbc-930b-936b413e9ff6')\"\n",
              "            title=\"Convert this dataframe to an interactive table.\"\n",
              "            style=\"display:none;\">\n",
              "\n",
              "  <svg xmlns=\"http://www.w3.org/2000/svg\" height=\"24px\" viewBox=\"0 -960 960 960\">\n",
              "    <path d=\"M120-120v-720h720v720H120Zm60-500h600v-160H180v160Zm220 220h160v-160H400v160Zm0 220h160v-160H400v160ZM180-400h160v-160H180v160Zm440 0h160v-160H620v160ZM180-180h160v-160H180v160Zm440 0h160v-160H620v160Z\"/>\n",
              "  </svg>\n",
              "    </button>\n",
              "\n",
              "  <style>\n",
              "    .colab-df-container {\n",
              "      display:flex;\n",
              "      gap: 12px;\n",
              "    }\n",
              "\n",
              "    .colab-df-convert {\n",
              "      background-color: #E8F0FE;\n",
              "      border: none;\n",
              "      border-radius: 50%;\n",
              "      cursor: pointer;\n",
              "      display: none;\n",
              "      fill: #1967D2;\n",
              "      height: 32px;\n",
              "      padding: 0 0 0 0;\n",
              "      width: 32px;\n",
              "    }\n",
              "\n",
              "    .colab-df-convert:hover {\n",
              "      background-color: #E2EBFA;\n",
              "      box-shadow: 0px 1px 2px rgba(60, 64, 67, 0.3), 0px 1px 3px 1px rgba(60, 64, 67, 0.15);\n",
              "      fill: #174EA6;\n",
              "    }\n",
              "\n",
              "    .colab-df-buttons div {\n",
              "      margin-bottom: 4px;\n",
              "    }\n",
              "\n",
              "    [theme=dark] .colab-df-convert {\n",
              "      background-color: #3B4455;\n",
              "      fill: #D2E3FC;\n",
              "    }\n",
              "\n",
              "    [theme=dark] .colab-df-convert:hover {\n",
              "      background-color: #434B5C;\n",
              "      box-shadow: 0px 1px 3px 1px rgba(0, 0, 0, 0.15);\n",
              "      filter: drop-shadow(0px 1px 2px rgba(0, 0, 0, 0.3));\n",
              "      fill: #FFFFFF;\n",
              "    }\n",
              "  </style>\n",
              "\n",
              "    <script>\n",
              "      const buttonEl =\n",
              "        document.querySelector('#df-fe4df30d-276f-4fbc-930b-936b413e9ff6 button.colab-df-convert');\n",
              "      buttonEl.style.display =\n",
              "        google.colab.kernel.accessAllowed ? 'block' : 'none';\n",
              "\n",
              "      async function convertToInteractive(key) {\n",
              "        const element = document.querySelector('#df-fe4df30d-276f-4fbc-930b-936b413e9ff6');\n",
              "        const dataTable =\n",
              "          await google.colab.kernel.invokeFunction('convertToInteractive',\n",
              "                                                    [key], {});\n",
              "        if (!dataTable) return;\n",
              "\n",
              "        const docLinkHtml = 'Like what you see? Visit the ' +\n",
              "          '<a target=\"_blank\" href=https://colab.research.google.com/notebooks/data_table.ipynb>data table notebook</a>'\n",
              "          + ' to learn more about interactive tables.';\n",
              "        element.innerHTML = '';\n",
              "        dataTable['output_type'] = 'display_data';\n",
              "        await google.colab.output.renderOutput(dataTable, element);\n",
              "        const docLink = document.createElement('div');\n",
              "        docLink.innerHTML = docLinkHtml;\n",
              "        element.appendChild(docLink);\n",
              "      }\n",
              "    </script>\n",
              "  </div>\n",
              "\n",
              "\n",
              "<div id=\"df-4082388f-b6be-4ab5-a54c-d7eb204dd70b\">\n",
              "  <button class=\"colab-df-quickchart\" onclick=\"quickchart('df-4082388f-b6be-4ab5-a54c-d7eb204dd70b')\"\n",
              "            title=\"Suggest charts\"\n",
              "            style=\"display:none;\">\n",
              "\n",
              "<svg xmlns=\"http://www.w3.org/2000/svg\" height=\"24px\"viewBox=\"0 0 24 24\"\n",
              "     width=\"24px\">\n",
              "    <g>\n",
              "        <path d=\"M19 3H5c-1.1 0-2 .9-2 2v14c0 1.1.9 2 2 2h14c1.1 0 2-.9 2-2V5c0-1.1-.9-2-2-2zM9 17H7v-7h2v7zm4 0h-2V7h2v10zm4 0h-2v-4h2v4z\"/>\n",
              "    </g>\n",
              "</svg>\n",
              "  </button>\n",
              "\n",
              "<style>\n",
              "  .colab-df-quickchart {\n",
              "      --bg-color: #E8F0FE;\n",
              "      --fill-color: #1967D2;\n",
              "      --hover-bg-color: #E2EBFA;\n",
              "      --hover-fill-color: #174EA6;\n",
              "      --disabled-fill-color: #AAA;\n",
              "      --disabled-bg-color: #DDD;\n",
              "  }\n",
              "\n",
              "  [theme=dark] .colab-df-quickchart {\n",
              "      --bg-color: #3B4455;\n",
              "      --fill-color: #D2E3FC;\n",
              "      --hover-bg-color: #434B5C;\n",
              "      --hover-fill-color: #FFFFFF;\n",
              "      --disabled-bg-color: #3B4455;\n",
              "      --disabled-fill-color: #666;\n",
              "  }\n",
              "\n",
              "  .colab-df-quickchart {\n",
              "    background-color: var(--bg-color);\n",
              "    border: none;\n",
              "    border-radius: 50%;\n",
              "    cursor: pointer;\n",
              "    display: none;\n",
              "    fill: var(--fill-color);\n",
              "    height: 32px;\n",
              "    padding: 0;\n",
              "    width: 32px;\n",
              "  }\n",
              "\n",
              "  .colab-df-quickchart:hover {\n",
              "    background-color: var(--hover-bg-color);\n",
              "    box-shadow: 0 1px 2px rgba(60, 64, 67, 0.3), 0 1px 3px 1px rgba(60, 64, 67, 0.15);\n",
              "    fill: var(--button-hover-fill-color);\n",
              "  }\n",
              "\n",
              "  .colab-df-quickchart-complete:disabled,\n",
              "  .colab-df-quickchart-complete:disabled:hover {\n",
              "    background-color: var(--disabled-bg-color);\n",
              "    fill: var(--disabled-fill-color);\n",
              "    box-shadow: none;\n",
              "  }\n",
              "\n",
              "  .colab-df-spinner {\n",
              "    border: 2px solid var(--fill-color);\n",
              "    border-color: transparent;\n",
              "    border-bottom-color: var(--fill-color);\n",
              "    animation:\n",
              "      spin 1s steps(1) infinite;\n",
              "  }\n",
              "\n",
              "  @keyframes spin {\n",
              "    0% {\n",
              "      border-color: transparent;\n",
              "      border-bottom-color: var(--fill-color);\n",
              "      border-left-color: var(--fill-color);\n",
              "    }\n",
              "    20% {\n",
              "      border-color: transparent;\n",
              "      border-left-color: var(--fill-color);\n",
              "      border-top-color: var(--fill-color);\n",
              "    }\n",
              "    30% {\n",
              "      border-color: transparent;\n",
              "      border-left-color: var(--fill-color);\n",
              "      border-top-color: var(--fill-color);\n",
              "      border-right-color: var(--fill-color);\n",
              "    }\n",
              "    40% {\n",
              "      border-color: transparent;\n",
              "      border-right-color: var(--fill-color);\n",
              "      border-top-color: var(--fill-color);\n",
              "    }\n",
              "    60% {\n",
              "      border-color: transparent;\n",
              "      border-right-color: var(--fill-color);\n",
              "    }\n",
              "    80% {\n",
              "      border-color: transparent;\n",
              "      border-right-color: var(--fill-color);\n",
              "      border-bottom-color: var(--fill-color);\n",
              "    }\n",
              "    90% {\n",
              "      border-color: transparent;\n",
              "      border-bottom-color: var(--fill-color);\n",
              "    }\n",
              "  }\n",
              "</style>\n",
              "\n",
              "  <script>\n",
              "    async function quickchart(key) {\n",
              "      const quickchartButtonEl =\n",
              "        document.querySelector('#' + key + ' button');\n",
              "      quickchartButtonEl.disabled = true;  // To prevent multiple clicks.\n",
              "      quickchartButtonEl.classList.add('colab-df-spinner');\n",
              "      try {\n",
              "        const charts = await google.colab.kernel.invokeFunction(\n",
              "            'suggestCharts', [key], {});\n",
              "      } catch (error) {\n",
              "        console.error('Error during call to suggestCharts:', error);\n",
              "      }\n",
              "      quickchartButtonEl.classList.remove('colab-df-spinner');\n",
              "      quickchartButtonEl.classList.add('colab-df-quickchart-complete');\n",
              "    }\n",
              "    (() => {\n",
              "      let quickchartButtonEl =\n",
              "        document.querySelector('#df-4082388f-b6be-4ab5-a54c-d7eb204dd70b button');\n",
              "      quickchartButtonEl.style.display =\n",
              "        google.colab.kernel.accessAllowed ? 'block' : 'none';\n",
              "    })();\n",
              "  </script>\n",
              "</div>\n",
              "\n",
              "  <div id=\"id_5714a4f8-191a-4222-86f3-4ca592228806\">\n",
              "    <style>\n",
              "      .colab-df-generate {\n",
              "        background-color: #E8F0FE;\n",
              "        border: none;\n",
              "        border-radius: 50%;\n",
              "        cursor: pointer;\n",
              "        display: none;\n",
              "        fill: #1967D2;\n",
              "        height: 32px;\n",
              "        padding: 0 0 0 0;\n",
              "        width: 32px;\n",
              "      }\n",
              "\n",
              "      .colab-df-generate:hover {\n",
              "        background-color: #E2EBFA;\n",
              "        box-shadow: 0px 1px 2px rgba(60, 64, 67, 0.3), 0px 1px 3px 1px rgba(60, 64, 67, 0.15);\n",
              "        fill: #174EA6;\n",
              "      }\n",
              "\n",
              "      [theme=dark] .colab-df-generate {\n",
              "        background-color: #3B4455;\n",
              "        fill: #D2E3FC;\n",
              "      }\n",
              "\n",
              "      [theme=dark] .colab-df-generate:hover {\n",
              "        background-color: #434B5C;\n",
              "        box-shadow: 0px 1px 3px 1px rgba(0, 0, 0, 0.15);\n",
              "        filter: drop-shadow(0px 1px 2px rgba(0, 0, 0, 0.3));\n",
              "        fill: #FFFFFF;\n",
              "      }\n",
              "    </style>\n",
              "    <button class=\"colab-df-generate\" onclick=\"generateWithVariable('valid_df')\"\n",
              "            title=\"Generate code using this dataframe.\"\n",
              "            style=\"display:none;\">\n",
              "\n",
              "  <svg xmlns=\"http://www.w3.org/2000/svg\" height=\"24px\"viewBox=\"0 0 24 24\"\n",
              "       width=\"24px\">\n",
              "    <path d=\"M7,19H8.4L18.45,9,17,7.55,7,17.6ZM5,21V16.75L18.45,3.32a2,2,0,0,1,2.83,0l1.4,1.43a1.91,1.91,0,0,1,.58,1.4,1.91,1.91,0,0,1-.58,1.4L9.25,21ZM18.45,9,17,7.55Zm-12,3A5.31,5.31,0,0,0,4.9,8.1,5.31,5.31,0,0,0,1,6.5,5.31,5.31,0,0,0,4.9,4.9,5.31,5.31,0,0,0,6.5,1,5.31,5.31,0,0,0,8.1,4.9,5.31,5.31,0,0,0,12,6.5,5.46,5.46,0,0,0,6.5,12Z\"/>\n",
              "  </svg>\n",
              "    </button>\n",
              "    <script>\n",
              "      (() => {\n",
              "      const buttonEl =\n",
              "        document.querySelector('#id_5714a4f8-191a-4222-86f3-4ca592228806 button.colab-df-generate');\n",
              "      buttonEl.style.display =\n",
              "        google.colab.kernel.accessAllowed ? 'block' : 'none';\n",
              "\n",
              "      buttonEl.onclick = () => {\n",
              "        google.colab.notebook.generateWithVariable('valid_df');\n",
              "      }\n",
              "      })();\n",
              "    </script>\n",
              "  </div>\n",
              "\n",
              "    </div>\n",
              "  </div>\n"
            ],
            "application/vnd.google.colaboratory.intrinsic+json": {
              "type": "dataframe",
              "variable_name": "valid_df"
            }
          },
          "metadata": {},
          "execution_count": 6
        }
      ]
    },
    {
      "cell_type": "code",
      "source": [
        "import pandas as pd\n",
        "valid_df.info()"
      ],
      "metadata": {
        "colab": {
          "base_uri": "https://localhost:8080/"
        },
        "id": "Rtz2Sc5kpaT9",
        "outputId": "49fda13e-aadb-4737-fe52-0b1db8df4fcd"
      },
      "execution_count": 7,
      "outputs": [
        {
          "output_type": "stream",
          "name": "stdout",
          "text": [
            "<class 'pandas.core.frame.DataFrame'>\n",
            "RangeIndex: 3129 entries, 0 to 3128\n",
            "Data columns (total 72 columns):\n",
            " #   Column                                        Non-Null Count  Dtype  \n",
            "---  ------                                        --------------  -----  \n",
            " 0   id                                            3129 non-null   int64  \n",
            " 1   listing_url                                   3129 non-null   object \n",
            " 2   scrape_id                                     3129 non-null   int64  \n",
            " 3   last_scraped                                  3129 non-null   object \n",
            " 4   source                                        3129 non-null   object \n",
            " 5   picture_url                                   3129 non-null   object \n",
            " 6   host_id                                       3129 non-null   int64  \n",
            " 7   host_url                                      3129 non-null   object \n",
            " 8   host_name                                     3129 non-null   object \n",
            " 9   host_since                                    3129 non-null   object \n",
            " 10  host_location                                 2402 non-null   object \n",
            " 11  host_about                                    2135 non-null   object \n",
            " 12  host_response_time                            2882 non-null   object \n",
            " 13  host_response_rate                            2882 non-null   object \n",
            " 14  host_acceptance_rate                          2902 non-null   object \n",
            " 15  host_is_superhost                             3096 non-null   object \n",
            " 16  host_thumbnail_url                            3129 non-null   object \n",
            " 17  host_picture_url                              3129 non-null   object \n",
            " 18  host_neighbourhood                            3046 non-null   object \n",
            " 19  host_listings_count                           3129 non-null   int64  \n",
            " 20  host_total_listings_count                     3129 non-null   int64  \n",
            " 21  host_verifications                            3129 non-null   object \n",
            " 22  host_has_profile_pic                          3129 non-null   object \n",
            " 23  host_identity_verified                        3129 non-null   object \n",
            " 24  neighbourhood                                 1918 non-null   object \n",
            " 25  neighbourhood_cleansed                        3129 non-null   object \n",
            " 26  neighbourhood_group_cleansed                  0 non-null      float64\n",
            " 27  latitude                                      3129 non-null   float64\n",
            " 28  longitude                                     3129 non-null   float64\n",
            " 29  property_type                                 3129 non-null   object \n",
            " 30  room_type                                     3129 non-null   object \n",
            " 31  accommodates                                  3129 non-null   int64  \n",
            " 32  bathrooms                                     0 non-null      float64\n",
            " 33  bathrooms_text                                3129 non-null   object \n",
            " 34  bedrooms                                      0 non-null      float64\n",
            " 35  beds                                          3084 non-null   float64\n",
            " 36  amenities                                     3129 non-null   object \n",
            " 37  price                                         3129 non-null   object \n",
            " 38  minimum_nights                                3129 non-null   int64  \n",
            " 39  maximum_nights                                3129 non-null   int64  \n",
            " 40  minimum_minimum_nights                        3129 non-null   int64  \n",
            " 41  maximum_minimum_nights                        3129 non-null   int64  \n",
            " 42  minimum_maximum_nights                        3129 non-null   int64  \n",
            " 43  maximum_maximum_nights                        3129 non-null   int64  \n",
            " 44  minimum_nights_avg_ntm                        3129 non-null   float64\n",
            " 45  maximum_nights_avg_ntm                        3129 non-null   float64\n",
            " 46  calendar_updated                              0 non-null      float64\n",
            " 47  has_availability                              3129 non-null   object \n",
            " 48  availability_30                               3129 non-null   int64  \n",
            " 49  availability_60                               3129 non-null   int64  \n",
            " 50  availability_90                               3129 non-null   int64  \n",
            " 51  availability_365                              3129 non-null   int64  \n",
            " 52  calendar_last_scraped                         3129 non-null   object \n",
            " 53  number_of_reviews                             3129 non-null   int64  \n",
            " 54  number_of_reviews_ltm                         3129 non-null   int64  \n",
            " 55  number_of_reviews_l30d                        3129 non-null   int64  \n",
            " 56  first_review                                  2414 non-null   object \n",
            " 57  last_review                                   2414 non-null   object \n",
            " 58  review_scores_rating                          2417 non-null   float64\n",
            " 59  review_scores_accuracy                        2417 non-null   float64\n",
            " 60  review_scores_cleanliness                     2417 non-null   float64\n",
            " 61  review_scores_checkin                         2416 non-null   float64\n",
            " 62  review_scores_communication                   2417 non-null   float64\n",
            " 63  review_scores_location                        2416 non-null   float64\n",
            " 64  review_scores_value                           2416 non-null   float64\n",
            " 65  license                                       2272 non-null   object \n",
            " 66  instant_bookable                              3129 non-null   object \n",
            " 67  calculated_host_listings_count                3129 non-null   int64  \n",
            " 68  calculated_host_listings_count_entire_homes   3129 non-null   int64  \n",
            " 69  calculated_host_listings_count_private_rooms  3129 non-null   int64  \n",
            " 70  calculated_host_listings_count_shared_rooms   3129 non-null   int64  \n",
            " 71  reviews_per_month                             2414 non-null   float64\n",
            "dtypes: float64(17), int64(23), object(32)\n",
            "memory usage: 1.7+ MB\n"
          ]
        }
      ]
    },
    {
      "cell_type": "code",
      "source": [
        "valid_df['neighbourhood_cleansed'].value_counts()"
      ],
      "metadata": {
        "colab": {
          "base_uri": "https://localhost:8080/",
          "height": 900
        },
        "id": "jbPkRe-Up6Ah",
        "outputId": "b9812b0a-8ad4-4212-d4f8-c670428c5bf7"
      },
      "execution_count": 8,
      "outputs": [
        {
          "output_type": "execute_result",
          "data": {
            "text/plain": [
              "neighbourhood_cleansed\n",
              "Dorchester                 468\n",
              "Roxbury                    260\n",
              "Back Bay                   236\n",
              "Downtown                   234\n",
              "South End                  230\n",
              "Brighton                   205\n",
              "Jamaica Plain              176\n",
              "Fenway                     168\n",
              "East Boston                157\n",
              "South Boston               146\n",
              "Beacon Hill                144\n",
              "Allston                    123\n",
              "North End                   99\n",
              "Roslindale                  74\n",
              "Charlestown                 66\n",
              "Mattapan                    56\n",
              "Mission Hill                55\n",
              "West Roxbury                54\n",
              "Bay Village                 47\n",
              "Hyde Park                   43\n",
              "South Boston Waterfront     36\n",
              "West End                    23\n",
              "Chinatown                   18\n",
              "Longwood Medical Area        6\n",
              "Leather District             5\n",
              "Name: count, dtype: int64"
            ],
            "text/html": [
              "<div>\n",
              "<style scoped>\n",
              "    .dataframe tbody tr th:only-of-type {\n",
              "        vertical-align: middle;\n",
              "    }\n",
              "\n",
              "    .dataframe tbody tr th {\n",
              "        vertical-align: top;\n",
              "    }\n",
              "\n",
              "    .dataframe thead th {\n",
              "        text-align: right;\n",
              "    }\n",
              "</style>\n",
              "<table border=\"1\" class=\"dataframe\">\n",
              "  <thead>\n",
              "    <tr style=\"text-align: right;\">\n",
              "      <th></th>\n",
              "      <th>count</th>\n",
              "    </tr>\n",
              "    <tr>\n",
              "      <th>neighbourhood_cleansed</th>\n",
              "      <th></th>\n",
              "    </tr>\n",
              "  </thead>\n",
              "  <tbody>\n",
              "    <tr>\n",
              "      <th>Dorchester</th>\n",
              "      <td>468</td>\n",
              "    </tr>\n",
              "    <tr>\n",
              "      <th>Roxbury</th>\n",
              "      <td>260</td>\n",
              "    </tr>\n",
              "    <tr>\n",
              "      <th>Back Bay</th>\n",
              "      <td>236</td>\n",
              "    </tr>\n",
              "    <tr>\n",
              "      <th>Downtown</th>\n",
              "      <td>234</td>\n",
              "    </tr>\n",
              "    <tr>\n",
              "      <th>South End</th>\n",
              "      <td>230</td>\n",
              "    </tr>\n",
              "    <tr>\n",
              "      <th>Brighton</th>\n",
              "      <td>205</td>\n",
              "    </tr>\n",
              "    <tr>\n",
              "      <th>Jamaica Plain</th>\n",
              "      <td>176</td>\n",
              "    </tr>\n",
              "    <tr>\n",
              "      <th>Fenway</th>\n",
              "      <td>168</td>\n",
              "    </tr>\n",
              "    <tr>\n",
              "      <th>East Boston</th>\n",
              "      <td>157</td>\n",
              "    </tr>\n",
              "    <tr>\n",
              "      <th>South Boston</th>\n",
              "      <td>146</td>\n",
              "    </tr>\n",
              "    <tr>\n",
              "      <th>Beacon Hill</th>\n",
              "      <td>144</td>\n",
              "    </tr>\n",
              "    <tr>\n",
              "      <th>Allston</th>\n",
              "      <td>123</td>\n",
              "    </tr>\n",
              "    <tr>\n",
              "      <th>North End</th>\n",
              "      <td>99</td>\n",
              "    </tr>\n",
              "    <tr>\n",
              "      <th>Roslindale</th>\n",
              "      <td>74</td>\n",
              "    </tr>\n",
              "    <tr>\n",
              "      <th>Charlestown</th>\n",
              "      <td>66</td>\n",
              "    </tr>\n",
              "    <tr>\n",
              "      <th>Mattapan</th>\n",
              "      <td>56</td>\n",
              "    </tr>\n",
              "    <tr>\n",
              "      <th>Mission Hill</th>\n",
              "      <td>55</td>\n",
              "    </tr>\n",
              "    <tr>\n",
              "      <th>West Roxbury</th>\n",
              "      <td>54</td>\n",
              "    </tr>\n",
              "    <tr>\n",
              "      <th>Bay Village</th>\n",
              "      <td>47</td>\n",
              "    </tr>\n",
              "    <tr>\n",
              "      <th>Hyde Park</th>\n",
              "      <td>43</td>\n",
              "    </tr>\n",
              "    <tr>\n",
              "      <th>South Boston Waterfront</th>\n",
              "      <td>36</td>\n",
              "    </tr>\n",
              "    <tr>\n",
              "      <th>West End</th>\n",
              "      <td>23</td>\n",
              "    </tr>\n",
              "    <tr>\n",
              "      <th>Chinatown</th>\n",
              "      <td>18</td>\n",
              "    </tr>\n",
              "    <tr>\n",
              "      <th>Longwood Medical Area</th>\n",
              "      <td>6</td>\n",
              "    </tr>\n",
              "    <tr>\n",
              "      <th>Leather District</th>\n",
              "      <td>5</td>\n",
              "    </tr>\n",
              "  </tbody>\n",
              "</table>\n",
              "</div><br><label><b>dtype:</b> int64</label>"
            ]
          },
          "metadata": {},
          "execution_count": 8
        }
      ]
    },
    {
      "cell_type": "markdown",
      "source": [
        "##Elimino columnas claramente irrelevantes (como IDs o datos redundantes) antes de dividir."
      ],
      "metadata": {
        "id": "NFRTWNWQpSGW"
      }
    },
    {
      "cell_type": "code",
      "source": [
        "valid_df = valid_df.drop(['id', 'listing_url', 'scrape_id', 'last_scraped', 'source', 'picture_url',\n",
        "                          'host_id', 'host_url', 'host_name', 'host_since', 'host_location', 'host_about',\n",
        "                          'host_thumbnail_url', 'host_picture_url', 'host_neighbourhood', 'host_verifications',\n",
        "                          'neighbourhood', 'neighbourhood_group_cleansed','amenities','bathrooms_text','license'], axis=1)\n"
      ],
      "metadata": {
        "id": "JEQSbiU7zBQV"
      },
      "execution_count": 5,
      "outputs": []
    },
    {
      "cell_type": "code",
      "source": [
        "valid_df.dtypes"
      ],
      "metadata": {
        "colab": {
          "base_uri": "https://localhost:8080/",
          "height": 1000
        },
        "id": "q_lyzvT_06om",
        "outputId": "5e02bc39-aef9-4bc2-996f-cb64b4a4151c"
      },
      "execution_count": 10,
      "outputs": [
        {
          "output_type": "execute_result",
          "data": {
            "text/plain": [
              "host_response_time                               object\n",
              "host_response_rate                               object\n",
              "host_acceptance_rate                             object\n",
              "host_is_superhost                                object\n",
              "host_listings_count                               int64\n",
              "host_total_listings_count                         int64\n",
              "host_has_profile_pic                             object\n",
              "host_identity_verified                           object\n",
              "neighbourhood_cleansed                           object\n",
              "latitude                                        float64\n",
              "longitude                                       float64\n",
              "property_type                                    object\n",
              "room_type                                        object\n",
              "accommodates                                      int64\n",
              "bathrooms                                       float64\n",
              "bedrooms                                        float64\n",
              "beds                                            float64\n",
              "price                                            object\n",
              "minimum_nights                                    int64\n",
              "maximum_nights                                    int64\n",
              "minimum_minimum_nights                            int64\n",
              "maximum_minimum_nights                            int64\n",
              "minimum_maximum_nights                            int64\n",
              "maximum_maximum_nights                            int64\n",
              "minimum_nights_avg_ntm                          float64\n",
              "maximum_nights_avg_ntm                          float64\n",
              "calendar_updated                                float64\n",
              "has_availability                                 object\n",
              "availability_30                                   int64\n",
              "availability_60                                   int64\n",
              "availability_90                                   int64\n",
              "availability_365                                  int64\n",
              "calendar_last_scraped                            object\n",
              "number_of_reviews                                 int64\n",
              "number_of_reviews_ltm                             int64\n",
              "number_of_reviews_l30d                            int64\n",
              "first_review                                     object\n",
              "last_review                                      object\n",
              "review_scores_rating                            float64\n",
              "review_scores_accuracy                          float64\n",
              "review_scores_cleanliness                       float64\n",
              "review_scores_checkin                           float64\n",
              "review_scores_communication                     float64\n",
              "review_scores_location                          float64\n",
              "review_scores_value                             float64\n",
              "instant_bookable                                 object\n",
              "calculated_host_listings_count                    int64\n",
              "calculated_host_listings_count_entire_homes       int64\n",
              "calculated_host_listings_count_private_rooms      int64\n",
              "calculated_host_listings_count_shared_rooms       int64\n",
              "reviews_per_month                               float64\n",
              "dtype: object"
            ],
            "text/html": [
              "<div>\n",
              "<style scoped>\n",
              "    .dataframe tbody tr th:only-of-type {\n",
              "        vertical-align: middle;\n",
              "    }\n",
              "\n",
              "    .dataframe tbody tr th {\n",
              "        vertical-align: top;\n",
              "    }\n",
              "\n",
              "    .dataframe thead th {\n",
              "        text-align: right;\n",
              "    }\n",
              "</style>\n",
              "<table border=\"1\" class=\"dataframe\">\n",
              "  <thead>\n",
              "    <tr style=\"text-align: right;\">\n",
              "      <th></th>\n",
              "      <th>0</th>\n",
              "    </tr>\n",
              "  </thead>\n",
              "  <tbody>\n",
              "    <tr>\n",
              "      <th>host_response_time</th>\n",
              "      <td>object</td>\n",
              "    </tr>\n",
              "    <tr>\n",
              "      <th>host_response_rate</th>\n",
              "      <td>object</td>\n",
              "    </tr>\n",
              "    <tr>\n",
              "      <th>host_acceptance_rate</th>\n",
              "      <td>object</td>\n",
              "    </tr>\n",
              "    <tr>\n",
              "      <th>host_is_superhost</th>\n",
              "      <td>object</td>\n",
              "    </tr>\n",
              "    <tr>\n",
              "      <th>host_listings_count</th>\n",
              "      <td>int64</td>\n",
              "    </tr>\n",
              "    <tr>\n",
              "      <th>host_total_listings_count</th>\n",
              "      <td>int64</td>\n",
              "    </tr>\n",
              "    <tr>\n",
              "      <th>host_has_profile_pic</th>\n",
              "      <td>object</td>\n",
              "    </tr>\n",
              "    <tr>\n",
              "      <th>host_identity_verified</th>\n",
              "      <td>object</td>\n",
              "    </tr>\n",
              "    <tr>\n",
              "      <th>neighbourhood_cleansed</th>\n",
              "      <td>object</td>\n",
              "    </tr>\n",
              "    <tr>\n",
              "      <th>latitude</th>\n",
              "      <td>float64</td>\n",
              "    </tr>\n",
              "    <tr>\n",
              "      <th>longitude</th>\n",
              "      <td>float64</td>\n",
              "    </tr>\n",
              "    <tr>\n",
              "      <th>property_type</th>\n",
              "      <td>object</td>\n",
              "    </tr>\n",
              "    <tr>\n",
              "      <th>room_type</th>\n",
              "      <td>object</td>\n",
              "    </tr>\n",
              "    <tr>\n",
              "      <th>accommodates</th>\n",
              "      <td>int64</td>\n",
              "    </tr>\n",
              "    <tr>\n",
              "      <th>bathrooms</th>\n",
              "      <td>float64</td>\n",
              "    </tr>\n",
              "    <tr>\n",
              "      <th>bedrooms</th>\n",
              "      <td>float64</td>\n",
              "    </tr>\n",
              "    <tr>\n",
              "      <th>beds</th>\n",
              "      <td>float64</td>\n",
              "    </tr>\n",
              "    <tr>\n",
              "      <th>price</th>\n",
              "      <td>object</td>\n",
              "    </tr>\n",
              "    <tr>\n",
              "      <th>minimum_nights</th>\n",
              "      <td>int64</td>\n",
              "    </tr>\n",
              "    <tr>\n",
              "      <th>maximum_nights</th>\n",
              "      <td>int64</td>\n",
              "    </tr>\n",
              "    <tr>\n",
              "      <th>minimum_minimum_nights</th>\n",
              "      <td>int64</td>\n",
              "    </tr>\n",
              "    <tr>\n",
              "      <th>maximum_minimum_nights</th>\n",
              "      <td>int64</td>\n",
              "    </tr>\n",
              "    <tr>\n",
              "      <th>minimum_maximum_nights</th>\n",
              "      <td>int64</td>\n",
              "    </tr>\n",
              "    <tr>\n",
              "      <th>maximum_maximum_nights</th>\n",
              "      <td>int64</td>\n",
              "    </tr>\n",
              "    <tr>\n",
              "      <th>minimum_nights_avg_ntm</th>\n",
              "      <td>float64</td>\n",
              "    </tr>\n",
              "    <tr>\n",
              "      <th>maximum_nights_avg_ntm</th>\n",
              "      <td>float64</td>\n",
              "    </tr>\n",
              "    <tr>\n",
              "      <th>calendar_updated</th>\n",
              "      <td>float64</td>\n",
              "    </tr>\n",
              "    <tr>\n",
              "      <th>has_availability</th>\n",
              "      <td>object</td>\n",
              "    </tr>\n",
              "    <tr>\n",
              "      <th>availability_30</th>\n",
              "      <td>int64</td>\n",
              "    </tr>\n",
              "    <tr>\n",
              "      <th>availability_60</th>\n",
              "      <td>int64</td>\n",
              "    </tr>\n",
              "    <tr>\n",
              "      <th>availability_90</th>\n",
              "      <td>int64</td>\n",
              "    </tr>\n",
              "    <tr>\n",
              "      <th>availability_365</th>\n",
              "      <td>int64</td>\n",
              "    </tr>\n",
              "    <tr>\n",
              "      <th>calendar_last_scraped</th>\n",
              "      <td>object</td>\n",
              "    </tr>\n",
              "    <tr>\n",
              "      <th>number_of_reviews</th>\n",
              "      <td>int64</td>\n",
              "    </tr>\n",
              "    <tr>\n",
              "      <th>number_of_reviews_ltm</th>\n",
              "      <td>int64</td>\n",
              "    </tr>\n",
              "    <tr>\n",
              "      <th>number_of_reviews_l30d</th>\n",
              "      <td>int64</td>\n",
              "    </tr>\n",
              "    <tr>\n",
              "      <th>first_review</th>\n",
              "      <td>object</td>\n",
              "    </tr>\n",
              "    <tr>\n",
              "      <th>last_review</th>\n",
              "      <td>object</td>\n",
              "    </tr>\n",
              "    <tr>\n",
              "      <th>review_scores_rating</th>\n",
              "      <td>float64</td>\n",
              "    </tr>\n",
              "    <tr>\n",
              "      <th>review_scores_accuracy</th>\n",
              "      <td>float64</td>\n",
              "    </tr>\n",
              "    <tr>\n",
              "      <th>review_scores_cleanliness</th>\n",
              "      <td>float64</td>\n",
              "    </tr>\n",
              "    <tr>\n",
              "      <th>review_scores_checkin</th>\n",
              "      <td>float64</td>\n",
              "    </tr>\n",
              "    <tr>\n",
              "      <th>review_scores_communication</th>\n",
              "      <td>float64</td>\n",
              "    </tr>\n",
              "    <tr>\n",
              "      <th>review_scores_location</th>\n",
              "      <td>float64</td>\n",
              "    </tr>\n",
              "    <tr>\n",
              "      <th>review_scores_value</th>\n",
              "      <td>float64</td>\n",
              "    </tr>\n",
              "    <tr>\n",
              "      <th>instant_bookable</th>\n",
              "      <td>object</td>\n",
              "    </tr>\n",
              "    <tr>\n",
              "      <th>calculated_host_listings_count</th>\n",
              "      <td>int64</td>\n",
              "    </tr>\n",
              "    <tr>\n",
              "      <th>calculated_host_listings_count_entire_homes</th>\n",
              "      <td>int64</td>\n",
              "    </tr>\n",
              "    <tr>\n",
              "      <th>calculated_host_listings_count_private_rooms</th>\n",
              "      <td>int64</td>\n",
              "    </tr>\n",
              "    <tr>\n",
              "      <th>calculated_host_listings_count_shared_rooms</th>\n",
              "      <td>int64</td>\n",
              "    </tr>\n",
              "    <tr>\n",
              "      <th>reviews_per_month</th>\n",
              "      <td>float64</td>\n",
              "    </tr>\n",
              "  </tbody>\n",
              "</table>\n",
              "</div><br><label><b>dtype:</b> object</label>"
            ]
          },
          "metadata": {},
          "execution_count": 10
        }
      ]
    },
    {
      "cell_type": "markdown",
      "source": [
        "###Data set\n",
        "Normalización* y redimensionado de datos numéricos y categóricos"
      ],
      "metadata": {
        "id": "Ws-2U9_gPIw5"
      }
    },
    {
      "cell_type": "code",
      "source": [
        "import pandas as pd\n",
        "from sklearn.impute import SimpleImputer\n",
        "\n",
        "# Limpiar y transformar las columnas 'host_response_rate', 'host_acceptance_rate' y 'price'\n",
        "valid_df['host_response_rate'] = valid_df['host_response_rate'].astype(str).fillna('0%')\n",
        "valid_df['host_response_rate'] = valid_df['host_response_rate'].str.replace('%', '', regex=False).astype(float)\n",
        "valid_df['host_response_rate'] = valid_df['host_response_rate'] / 100\n",
        "\n",
        "valid_df['host_acceptance_rate'] = valid_df['host_acceptance_rate'].astype(str).fillna('0%')\n",
        "valid_df['host_acceptance_rate'] = valid_df['host_acceptance_rate'].str.replace('%', '', regex=False).astype(float)\n",
        "valid_df['host_acceptance_rate'] = valid_df['host_acceptance_rate'] / 100\n",
        "\n",
        "valid_df['price'] = valid_df['price'].astype(str).fillna('$0')\n",
        "valid_df['price'] = valid_df['price'].str.replace('$', '', regex=False).str.replace(',', '').astype(float)\n",
        "valid_df['price'] = valid_df['price'] / 100\n",
        "\n",
        "# Convertir columnas booleanas\n",
        "valid_df['host_is_superhost'] = valid_df['host_is_superhost'].replace({'f': 0, 't': 1})\n",
        "valid_df['host_has_profile_pic'] = valid_df['host_has_profile_pic'].replace({'f': 0, 't': 1})\n",
        "valid_df['host_identity_verified'] = valid_df['host_identity_verified'].replace({'f': 0, 't': 1})\n",
        "valid_df['has_availability'] = valid_df['has_availability'].replace({'f': 0, 't': 1})\n",
        "valid_df['instant_bookable'] = valid_df['instant_bookable'].replace({'f': 0, 't': 1})\n",
        "\n",
        "# Crear variables dummies para las columnas categóricas\n",
        "valid_df = pd.concat([\n",
        "    valid_df,\n",
        "    pd.get_dummies(valid_df['host_response_time'], prefix='host_response_time'),\n",
        "    pd.get_dummies(valid_df['property_type'], prefix='property_type'),\n",
        "    pd.get_dummies(valid_df['room_type'], prefix='room_type'),\n",
        "    pd.get_dummies(valid_df['neighbourhood_cleansed'], prefix='neighbourhood_cleansed')\n",
        "], axis=1)\n",
        "\n",
        "# Eliminar las columnas originales de tipo categórico\n",
        "valid_df = valid_df.drop(['host_response_time', 'property_type', 'room_type', 'neighbourhood_cleansed'], axis=1)\n",
        "\n",
        "# Convertir fechas a enteros en formato YYYYMMDD\n",
        "for col in ['calendar_last_scraped', 'first_review', 'last_review']:\n",
        "    valid_df[col] = pd.to_datetime(valid_df[col], errors='coerce')\n",
        "    valid_df[col] = valid_df[col].fillna(pd.Timestamp('1900-01-01')).dt.strftime('%Y%m%d').astype(int)\n",
        "\n",
        "# Imputar valores nulos e infinitos con la mediana\n",
        "imputer = SimpleImputer(strategy='median')\n",
        "\n",
        "# Seleccionar solo las columnas numéricas con valores no nulos (es decir, las columnas que no están completamente vacías)\n",
        "numeric_columns = valid_df.select_dtypes(include=['float64', 'int64']).columns\n",
        "\n",
        "# Filtrar las columnas que tienen al menos un valor no nulo\n",
        "valid_columns = valid_df[numeric_columns].dropna(axis=1, how='all').columns\n",
        "\n",
        "# Imputar los valores nulos en las columnas numéricas\n",
        "imputed_values = imputer.fit_transform(valid_df[valid_columns])\n",
        "\n",
        "# Convertir el resultado a un DataFrame con las mismas columnas\n",
        "imputed_df = pd.DataFrame(imputed_values, columns=valid_columns)\n",
        "\n",
        "# Asignar los valores imputados de vuelta al DataFrame original\n",
        "valid_df[valid_columns] = imputed_df\n",
        "\n",
        "# Verificar si aún hay valores nulos\n",
        "print(valid_df.isnull().sum())\n",
        "\n",
        "# Verificar la forma final del DataFrame\n",
        "valid_df.shape\n",
        "\n"
      ],
      "metadata": {
        "colab": {
          "base_uri": "https://localhost:8080/"
        },
        "id": "aODxwDksPIVz",
        "outputId": "c13c00a3-0465-4532-f812-d97b59098d28"
      },
      "execution_count": 6,
      "outputs": [
        {
          "output_type": "stream",
          "name": "stdout",
          "text": [
            "host_response_rate                                0\n",
            "host_acceptance_rate                              0\n",
            "host_is_superhost                                 0\n",
            "host_listings_count                               0\n",
            "host_total_listings_count                         0\n",
            "                                                 ..\n",
            "neighbourhood_cleansed_South Boston               0\n",
            "neighbourhood_cleansed_South Boston Waterfront    0\n",
            "neighbourhood_cleansed_South End                  0\n",
            "neighbourhood_cleansed_West End                   0\n",
            "neighbourhood_cleansed_West Roxbury               0\n",
            "Length: 114, dtype: int64\n"
          ]
        },
        {
          "output_type": "stream",
          "name": "stderr",
          "text": [
            "<ipython-input-6-8960af32bb2a>:18: FutureWarning: Downcasting behavior in `replace` is deprecated and will be removed in a future version. To retain the old behavior, explicitly call `result.infer_objects(copy=False)`. To opt-in to the future behavior, set `pd.set_option('future.no_silent_downcasting', True)`\n",
            "  valid_df['host_is_superhost'] = valid_df['host_is_superhost'].replace({'f': 0, 't': 1})\n",
            "<ipython-input-6-8960af32bb2a>:19: FutureWarning: Downcasting behavior in `replace` is deprecated and will be removed in a future version. To retain the old behavior, explicitly call `result.infer_objects(copy=False)`. To opt-in to the future behavior, set `pd.set_option('future.no_silent_downcasting', True)`\n",
            "  valid_df['host_has_profile_pic'] = valid_df['host_has_profile_pic'].replace({'f': 0, 't': 1})\n",
            "<ipython-input-6-8960af32bb2a>:20: FutureWarning: Downcasting behavior in `replace` is deprecated and will be removed in a future version. To retain the old behavior, explicitly call `result.infer_objects(copy=False)`. To opt-in to the future behavior, set `pd.set_option('future.no_silent_downcasting', True)`\n",
            "  valid_df['host_identity_verified'] = valid_df['host_identity_verified'].replace({'f': 0, 't': 1})\n",
            "<ipython-input-6-8960af32bb2a>:21: FutureWarning: Downcasting behavior in `replace` is deprecated and will be removed in a future version. To retain the old behavior, explicitly call `result.infer_objects(copy=False)`. To opt-in to the future behavior, set `pd.set_option('future.no_silent_downcasting', True)`\n",
            "  valid_df['has_availability'] = valid_df['has_availability'].replace({'f': 0, 't': 1})\n",
            "<ipython-input-6-8960af32bb2a>:22: FutureWarning: Downcasting behavior in `replace` is deprecated and will be removed in a future version. To retain the old behavior, explicitly call `result.infer_objects(copy=False)`. To opt-in to the future behavior, set `pd.set_option('future.no_silent_downcasting', True)`\n",
            "  valid_df['instant_bookable'] = valid_df['instant_bookable'].replace({'f': 0, 't': 1})\n"
          ]
        },
        {
          "output_type": "execute_result",
          "data": {
            "text/plain": [
              "(3129, 114)"
            ]
          },
          "metadata": {},
          "execution_count": 6
        }
      ]
    },
    {
      "cell_type": "code",
      "source": [
        "print(valid_df.isnull().sum())\n"
      ],
      "metadata": {
        "colab": {
          "base_uri": "https://localhost:8080/"
        },
        "id": "ofj8HGfKYFwy",
        "outputId": "c388f5d9-9f12-4bfa-86fa-a82ca7b5005f"
      },
      "execution_count": 12,
      "outputs": [
        {
          "output_type": "stream",
          "name": "stdout",
          "text": [
            "host_response_rate                                0\n",
            "host_acceptance_rate                              0\n",
            "host_is_superhost                                 0\n",
            "host_listings_count                               0\n",
            "host_total_listings_count                         0\n",
            "                                                 ..\n",
            "neighbourhood_cleansed_South Boston               0\n",
            "neighbourhood_cleansed_South Boston Waterfront    0\n",
            "neighbourhood_cleansed_South End                  0\n",
            "neighbourhood_cleansed_West End                   0\n",
            "neighbourhood_cleansed_West Roxbury               0\n",
            "Length: 114, dtype: int64\n"
          ]
        }
      ]
    },
    {
      "cell_type": "markdown",
      "source": [
        "###Preparar el data set para poder hacer clasificación"
      ],
      "metadata": {
        "id": "nGXTZx_kCQpU"
      }
    },
    {
      "cell_type": "code",
      "source": [
        "import pandas as pd\n",
        "\n",
        "#Para poder hacer clasificación(Creo tres rangos de precio)\n",
        "# 1. Calcular los percentiles\n",
        "lower_percentile = valid_df['price'].quantile(0.33)\n",
        "upper_percentile = valid_df['price'].quantile(0.66)\n",
        "\n",
        "# 2. Crear una columna de categorías\n",
        "valid_df['price_categoria'] = pd.cut(valid_df['price'],\n",
        "                                       bins=[-float('inf'), lower_percentile, upper_percentile, float('inf')],\n",
        "                                       labels=['bajo', 'medio', 'alto'])\n",
        "\n",
        "# 3. Convertir las categorías a variables numéricas o one-hot encoding\n",
        "# Opcional: Convertir a variables numéricas (0, 1, 2) para usarlas en el entrenamiento\n",
        "valid_df['price_categoria_num'] = valid_df['price_categoria'].map({'bajo': 0, 'medio': 1, 'alto': 2})\n"
      ],
      "metadata": {
        "id": "wsQBpXCL9JHe"
      },
      "execution_count": 7,
      "outputs": []
    },
    {
      "cell_type": "markdown",
      "source": [
        "##Entrenar la red neuronal de capas densa para los datos tabulares"
      ],
      "metadata": {
        "id": "HIK-LOjiIcsE"
      }
    },
    {
      "cell_type": "code",
      "source": [
        "import pandas as pd\n",
        "from sklearn.model_selection import train_test_split\n",
        "from sklearn.preprocessing import StandardScaler\n",
        "from tensorflow.keras.models import Sequential\n",
        "from tensorflow.keras.layers import Dense\n",
        "from sklearn.metrics import confusion_matrix, classification_report\n",
        "\n",
        "# 1. Separar las características (X) y las etiquetas (y)\n",
        "X = valid_df.drop(['price', 'price_categoria', 'price_categoria_num'], axis=1)  # Elimina la columna original y las etiquetas\n",
        "y = valid_df['price_categoria_num']  # Etiquetas numéricas (0, 1, 2)\n",
        "\n",
        "# 2. Convertir las columnas categóricas a dummies (variables indicadoras)\n",
        "X_dummies = pd.get_dummies(X)\n",
        "\n",
        "# 3. Asegurarse de que todas las columnas sean numéricas\n",
        "# 'get_dummies' ya convierte las variables categóricas a variables numéricas\n",
        "X_dummies = X_dummies.apply(pd.to_numeric, errors='coerce')\n",
        "\n",
        "# 4. Asegurarse de que no haya valores nulos en las características\n",
        "X_dummies = X_dummies.fillna(0)  # Rellenar cualquier NaN generado con 0\n",
        "\n",
        "# 5. Convertir todas las columnas a tipo 'float64' explícitamente\n",
        "X_dummies = X_dummies.astype('float64')\n",
        "\n",
        "# 6. Verificar y convertir 'y' a tipo numérico (en caso de que sea de tipo categoría)\n",
        "y = pd.to_numeric(y, errors='coerce')\n",
        "\n",
        "# Verificar si hay columnas de tipo 'category'\n",
        "print(X_dummies.dtypes)\n",
        "print(f\"Tipo de 'y': {y.dtype}\")\n",
        "\n",
        "# 7. Dividir en conjunto de entrenamiento (80%) y temporal (20%)\n",
        "X_train, X_temp, y_train, y_temp = train_test_split(X_dummies, y, test_size=0.2, random_state=42)\n",
        "\n",
        "# 8. Dividir el conjunto temporal en validación (50% del 20%) y test (50% del 20%)\n",
        "X_val, X_test, y_val, y_test = train_test_split(X_temp, y_temp, test_size=0.5, random_state=42)\n",
        "\n",
        "# 9. Escalar las características\n",
        "scaler = StandardScaler()\n",
        "X_train_scaled = scaler.fit_transform(X_train)\n",
        "X_val_scaled = scaler.transform(X_val)\n",
        "X_test_scaled = scaler.transform(X_test)\n",
        "\n",
        "# 10. Definir la red neuronal\n",
        "from tensorflow.keras import Input\n",
        "\n",
        "# Definir la capa de entrada de manera explícita\n",
        "input_layer = Input(shape=(X_train_scaled.shape[1],))\n",
        "\n",
        "model_a = Sequential()\n",
        "model_a.add(input_layer)  # Primera capa de entrada\n",
        "model_a.add(Dense(64, activation='relu'))  # Capa densa de 64 neuronas\n",
        "model_a.add(Dense(32, activation='relu'))  # Capa densa de 32 neuronas\n",
        "model_a.add(Dense(3, activation='softmax'))  # Capa de salida con 3 clases (precio bajo, medio, alto)\n",
        "\n",
        "# 11. Compilar el modelo\n",
        "model_a.compile(optimizer='adam', loss='sparse_categorical_crossentropy', metrics=['accuracy'])\n",
        "\n",
        "# 12. Entrenar el modelo\n",
        "history = model_a.fit(X_train_scaled, y_train, epochs=10, batch_size=32, validation_data=(X_val_scaled, y_val))\n",
        "\n",
        "# 13. Evaluar el modelo\n",
        "test_loss, test_accuracy = model_a.evaluate(X_test_scaled, y_test)\n",
        "print(f\"Test accuracy: {test_accuracy:.2f}\")\n",
        "\n",
        "# 14. Evaluación detallada con la matriz de confusión y el reporte de clasificación\n",
        "y_pred = model_a.predict(X_test_scaled)\n",
        "y_pred_classes = y_pred.argmax(axis=1)  # Obtener las clases predichas\n",
        "\n",
        "# Matriz de confusión\n",
        "cm = confusion_matrix(y_test, y_pred_classes)\n",
        "print(\"Confusion Matrix:\\n\", cm)\n",
        "\n",
        "# Reporte de clasificación\n",
        "print(\"\\nClassification Report:\\n\", classification_report(y_test, y_pred_classes))\n"
      ],
      "metadata": {
        "colab": {
          "base_uri": "https://localhost:8080/"
        },
        "id": "afWZKGAyIcXa",
        "outputId": "14f91389-5402-4f5c-c0e3-8c688bc702d6"
      },
      "execution_count": 8,
      "outputs": [
        {
          "output_type": "stream",
          "name": "stdout",
          "text": [
            "host_response_rate                                float64\n",
            "host_acceptance_rate                              float64\n",
            "host_is_superhost                                 float64\n",
            "host_listings_count                               float64\n",
            "host_total_listings_count                         float64\n",
            "                                                   ...   \n",
            "neighbourhood_cleansed_South Boston               float64\n",
            "neighbourhood_cleansed_South Boston Waterfront    float64\n",
            "neighbourhood_cleansed_South End                  float64\n",
            "neighbourhood_cleansed_West End                   float64\n",
            "neighbourhood_cleansed_West Roxbury               float64\n",
            "Length: 113, dtype: object\n",
            "Tipo de 'y': int64\n",
            "Epoch 1/10\n",
            "\u001b[1m79/79\u001b[0m \u001b[32m━━━━━━━━━━━━━━━━━━━━\u001b[0m\u001b[37m\u001b[0m \u001b[1m2s\u001b[0m 4ms/step - accuracy: 0.5001 - loss: 1.0617 - val_accuracy: 0.6677 - val_loss: 0.8405\n",
            "Epoch 2/10\n",
            "\u001b[1m79/79\u001b[0m \u001b[32m━━━━━━━━━━━━━━━━━━━━\u001b[0m\u001b[37m\u001b[0m \u001b[1m1s\u001b[0m 4ms/step - accuracy: 0.6891 - loss: 0.7152 - val_accuracy: 0.6550 - val_loss: 0.7761\n",
            "Epoch 3/10\n",
            "\u001b[1m79/79\u001b[0m \u001b[32m━━━━━━━━━━━━━━━━━━━━\u001b[0m\u001b[37m\u001b[0m \u001b[1m1s\u001b[0m 4ms/step - accuracy: 0.7222 - loss: 0.6476 - val_accuracy: 0.6645 - val_loss: 0.7540\n",
            "Epoch 4/10\n",
            "\u001b[1m79/79\u001b[0m \u001b[32m━━━━━━━━━━━━━━━━━━━━\u001b[0m\u001b[37m\u001b[0m \u001b[1m1s\u001b[0m 4ms/step - accuracy: 0.7479 - loss: 0.5905 - val_accuracy: 0.6805 - val_loss: 0.7176\n",
            "Epoch 5/10\n",
            "\u001b[1m79/79\u001b[0m \u001b[32m━━━━━━━━━━━━━━━━━━━━\u001b[0m\u001b[37m\u001b[0m \u001b[1m1s\u001b[0m 5ms/step - accuracy: 0.7654 - loss: 0.5595 - val_accuracy: 0.6837 - val_loss: 0.7054\n",
            "Epoch 6/10\n",
            "\u001b[1m79/79\u001b[0m \u001b[32m━━━━━━━━━━━━━━━━━━━━\u001b[0m\u001b[37m\u001b[0m \u001b[1m1s\u001b[0m 8ms/step - accuracy: 0.7929 - loss: 0.5127 - val_accuracy: 0.6773 - val_loss: 0.7068\n",
            "Epoch 7/10\n",
            "\u001b[1m79/79\u001b[0m \u001b[32m━━━━━━━━━━━━━━━━━━━━\u001b[0m\u001b[37m\u001b[0m \u001b[1m1s\u001b[0m 4ms/step - accuracy: 0.7883 - loss: 0.5077 - val_accuracy: 0.6773 - val_loss: 0.7128\n",
            "Epoch 8/10\n",
            "\u001b[1m79/79\u001b[0m \u001b[32m━━━━━━━━━━━━━━━━━━━━\u001b[0m\u001b[37m\u001b[0m \u001b[1m1s\u001b[0m 3ms/step - accuracy: 0.8135 - loss: 0.4650 - val_accuracy: 0.6901 - val_loss: 0.6982\n",
            "Epoch 9/10\n",
            "\u001b[1m79/79\u001b[0m \u001b[32m━━━━━━━━━━━━━━━━━━━━\u001b[0m\u001b[37m\u001b[0m \u001b[1m1s\u001b[0m 4ms/step - accuracy: 0.8096 - loss: 0.4624 - val_accuracy: 0.6773 - val_loss: 0.7361\n",
            "Epoch 10/10\n",
            "\u001b[1m79/79\u001b[0m \u001b[32m━━━━━━━━━━━━━━━━━━━━\u001b[0m\u001b[37m\u001b[0m \u001b[1m1s\u001b[0m 4ms/step - accuracy: 0.8168 - loss: 0.4445 - val_accuracy: 0.6997 - val_loss: 0.7033\n",
            "\u001b[1m10/10\u001b[0m \u001b[32m━━━━━━━━━━━━━━━━━━━━\u001b[0m\u001b[37m\u001b[0m \u001b[1m0s\u001b[0m 2ms/step - accuracy: 0.7053 - loss: 0.7389 \n",
            "Test accuracy: 0.70\n",
            "\u001b[1m10/10\u001b[0m \u001b[32m━━━━━━━━━━━━━━━━━━━━\u001b[0m\u001b[37m\u001b[0m \u001b[1m0s\u001b[0m 5ms/step \n",
            "Confusion Matrix:\n",
            " [[74 19  2]\n",
            " [16 63 23]\n",
            " [ 5 29 82]]\n",
            "\n",
            "Classification Report:\n",
            "               precision    recall  f1-score   support\n",
            "\n",
            "           0       0.78      0.78      0.78        95\n",
            "           1       0.57      0.62      0.59       102\n",
            "           2       0.77      0.71      0.74       116\n",
            "\n",
            "    accuracy                           0.70       313\n",
            "   macro avg       0.70      0.70      0.70       313\n",
            "weighted avg       0.71      0.70      0.70       313\n",
            "\n"
          ]
        }
      ]
    },
    {
      "cell_type": "markdown",
      "source": [
        "###Guardar datos procesados para Early-Fusion"
      ],
      "metadata": {
        "id": "uGzY1CtcHe0f"
      }
    },
    {
      "cell_type": "code",
      "source": [
        "import numpy as np\n",
        "\n",
        "# Guardar el modelo entrenado\n",
        "model_a.save(\"modelo1.h5\")  # Guardar modelo en formato HDF5\n",
        "print(\"Modelo tabular guardado como 'modelo1.h5'\")\n",
        "\n",
        "# Guardar características escaladas\n",
        "np.save('X_train_scaled.npy', X_train_scaled)\n",
        "np.save('X_val_scaled.npy', X_val_scaled)\n",
        "np.save('X_test_scaled.npy', X_test_scaled)\n",
        "\n",
        "# Guardar etiquetas\n",
        "np.save('y_train.npy', y_train)\n",
        "np.save('y_val.npy', y_val)\n",
        "np.save('y_test.npy', y_test)"
      ],
      "metadata": {
        "id": "5Mh_BrFmHdx0",
        "colab": {
          "base_uri": "https://localhost:8080/"
        },
        "outputId": "57b2d3c9-f52c-4f3c-f149-76b29eaff732"
      },
      "execution_count": 9,
      "outputs": [
        {
          "output_type": "stream",
          "name": "stderr",
          "text": [
            "WARNING:absl:You are saving your model as an HDF5 file via `model.save()` or `keras.saving.save_model(model)`. This file format is considered legacy. We recommend using instead the native Keras format, e.g. `model.save('my_model.keras')` or `keras.saving.save_model(model, 'my_model.keras')`. \n"
          ]
        },
        {
          "output_type": "stream",
          "name": "stdout",
          "text": [
            "Modelo tabular guardado como 'modelo1.h5'\n"
          ]
        }
      ]
    },
    {
      "cell_type": "markdown",
      "source": [
        "###Guardar predicciones intermedias para Late-Fusion"
      ],
      "metadata": {
        "id": "PXtRdgiPHZNn"
      }
    },
    {
      "cell_type": "code",
      "source": [
        "# Generar y guardar predicciones del Modelo A\n",
        "y_pred_val_model_a = model_a.predict(X_val_scaled)\n",
        "y_pred_test_model_a = model_a.predict(X_test_scaled)\n",
        "\n",
        "# Guardar predicciones del Modelo A\n",
        "np.save('y_pred_val_model_a.npy', y_pred_val_model_a)\n",
        "np.save('y_pred_test_model_a.npy', y_pred_test_model_a)\n"
      ],
      "metadata": {
        "colab": {
          "base_uri": "https://localhost:8080/"
        },
        "id": "MoDITiXTbcTG",
        "outputId": "89f39d83-6968-46e6-af2f-7e7b3c240078"
      },
      "execution_count": 16,
      "outputs": [
        {
          "output_type": "stream",
          "name": "stdout",
          "text": [
            "\u001b[1m10/10\u001b[0m \u001b[32m━━━━━━━━━━━━━━━━━━━━\u001b[0m\u001b[37m\u001b[0m \u001b[1m0s\u001b[0m 2ms/step \n",
            "\u001b[1m10/10\u001b[0m \u001b[32m━━━━━━━━━━━━━━━━━━━━\u001b[0m\u001b[37m\u001b[0m \u001b[1m0s\u001b[0m 2ms/step \n"
          ]
        }
      ]
    },
    {
      "cell_type": "markdown",
      "source": [
        "##Exportar los datos\n",
        "###Descargar a tu máquina local\n"
      ],
      "metadata": {
        "id": "5EnVo46FKmK3"
      }
    },
    {
      "cell_type": "code",
      "source": [
        "from google.colab import files\n",
        "\n",
        "# Descargar características y etiquetas\n",
        "files.download('X_train_scaled.npy')\n",
        "files.download('X_val_scaled.npy')\n",
        "files.download('X_test_scaled.npy')\n",
        "files.download('y_train.npy')\n",
        "files.download('y_val.npy')\n",
        "files.download('y_test.npy')\n",
        "\n",
        "# Descargar predicciones del modelo A\n",
        "files.download('y_pred_val_model_a.npy')\n",
        "files.download('y_pred_test_model_a.npy')"
      ],
      "metadata": {
        "colab": {
          "base_uri": "https://localhost:8080/",
          "height": 17
        },
        "id": "Ynp9CziqTT_6",
        "outputId": "b24f499e-72e7-4558-c160-f95f2f7d3e80"
      },
      "execution_count": 17,
      "outputs": [
        {
          "output_type": "display_data",
          "data": {
            "text/plain": [
              "<IPython.core.display.Javascript object>"
            ],
            "application/javascript": [
              "\n",
              "    async function download(id, filename, size) {\n",
              "      if (!google.colab.kernel.accessAllowed) {\n",
              "        return;\n",
              "      }\n",
              "      const div = document.createElement('div');\n",
              "      const label = document.createElement('label');\n",
              "      label.textContent = `Downloading \"${filename}\": `;\n",
              "      div.appendChild(label);\n",
              "      const progress = document.createElement('progress');\n",
              "      progress.max = size;\n",
              "      div.appendChild(progress);\n",
              "      document.body.appendChild(div);\n",
              "\n",
              "      const buffers = [];\n",
              "      let downloaded = 0;\n",
              "\n",
              "      const channel = await google.colab.kernel.comms.open(id);\n",
              "      // Send a message to notify the kernel that we're ready.\n",
              "      channel.send({})\n",
              "\n",
              "      for await (const message of channel.messages) {\n",
              "        // Send a message to notify the kernel that we're ready.\n",
              "        channel.send({})\n",
              "        if (message.buffers) {\n",
              "          for (const buffer of message.buffers) {\n",
              "            buffers.push(buffer);\n",
              "            downloaded += buffer.byteLength;\n",
              "            progress.value = downloaded;\n",
              "          }\n",
              "        }\n",
              "      }\n",
              "      const blob = new Blob(buffers, {type: 'application/binary'});\n",
              "      const a = document.createElement('a');\n",
              "      a.href = window.URL.createObjectURL(blob);\n",
              "      a.download = filename;\n",
              "      div.appendChild(a);\n",
              "      a.click();\n",
              "      div.remove();\n",
              "    }\n",
              "  "
            ]
          },
          "metadata": {}
        },
        {
          "output_type": "display_data",
          "data": {
            "text/plain": [
              "<IPython.core.display.Javascript object>"
            ],
            "application/javascript": [
              "download(\"download_1937651d-401f-4db2-a7a5-80e7dc889452\", \"X_train_scaled.npy\", 2262840)"
            ]
          },
          "metadata": {}
        },
        {
          "output_type": "display_data",
          "data": {
            "text/plain": [
              "<IPython.core.display.Javascript object>"
            ],
            "application/javascript": [
              "\n",
              "    async function download(id, filename, size) {\n",
              "      if (!google.colab.kernel.accessAllowed) {\n",
              "        return;\n",
              "      }\n",
              "      const div = document.createElement('div');\n",
              "      const label = document.createElement('label');\n",
              "      label.textContent = `Downloading \"${filename}\": `;\n",
              "      div.appendChild(label);\n",
              "      const progress = document.createElement('progress');\n",
              "      progress.max = size;\n",
              "      div.appendChild(progress);\n",
              "      document.body.appendChild(div);\n",
              "\n",
              "      const buffers = [];\n",
              "      let downloaded = 0;\n",
              "\n",
              "      const channel = await google.colab.kernel.comms.open(id);\n",
              "      // Send a message to notify the kernel that we're ready.\n",
              "      channel.send({})\n",
              "\n",
              "      for await (const message of channel.messages) {\n",
              "        // Send a message to notify the kernel that we're ready.\n",
              "        channel.send({})\n",
              "        if (message.buffers) {\n",
              "          for (const buffer of message.buffers) {\n",
              "            buffers.push(buffer);\n",
              "            downloaded += buffer.byteLength;\n",
              "            progress.value = downloaded;\n",
              "          }\n",
              "        }\n",
              "      }\n",
              "      const blob = new Blob(buffers, {type: 'application/binary'});\n",
              "      const a = document.createElement('a');\n",
              "      a.href = window.URL.createObjectURL(blob);\n",
              "      a.download = filename;\n",
              "      div.appendChild(a);\n",
              "      a.click();\n",
              "      div.remove();\n",
              "    }\n",
              "  "
            ]
          },
          "metadata": {}
        },
        {
          "output_type": "display_data",
          "data": {
            "text/plain": [
              "<IPython.core.display.Javascript object>"
            ],
            "application/javascript": [
              "download(\"download_65831693-f928-4d20-80e7-137605fc57a2\", \"X_val_scaled.npy\", 283080)"
            ]
          },
          "metadata": {}
        },
        {
          "output_type": "display_data",
          "data": {
            "text/plain": [
              "<IPython.core.display.Javascript object>"
            ],
            "application/javascript": [
              "\n",
              "    async function download(id, filename, size) {\n",
              "      if (!google.colab.kernel.accessAllowed) {\n",
              "        return;\n",
              "      }\n",
              "      const div = document.createElement('div');\n",
              "      const label = document.createElement('label');\n",
              "      label.textContent = `Downloading \"${filename}\": `;\n",
              "      div.appendChild(label);\n",
              "      const progress = document.createElement('progress');\n",
              "      progress.max = size;\n",
              "      div.appendChild(progress);\n",
              "      document.body.appendChild(div);\n",
              "\n",
              "      const buffers = [];\n",
              "      let downloaded = 0;\n",
              "\n",
              "      const channel = await google.colab.kernel.comms.open(id);\n",
              "      // Send a message to notify the kernel that we're ready.\n",
              "      channel.send({})\n",
              "\n",
              "      for await (const message of channel.messages) {\n",
              "        // Send a message to notify the kernel that we're ready.\n",
              "        channel.send({})\n",
              "        if (message.buffers) {\n",
              "          for (const buffer of message.buffers) {\n",
              "            buffers.push(buffer);\n",
              "            downloaded += buffer.byteLength;\n",
              "            progress.value = downloaded;\n",
              "          }\n",
              "        }\n",
              "      }\n",
              "      const blob = new Blob(buffers, {type: 'application/binary'});\n",
              "      const a = document.createElement('a');\n",
              "      a.href = window.URL.createObjectURL(blob);\n",
              "      a.download = filename;\n",
              "      div.appendChild(a);\n",
              "      a.click();\n",
              "      div.remove();\n",
              "    }\n",
              "  "
            ]
          },
          "metadata": {}
        },
        {
          "output_type": "display_data",
          "data": {
            "text/plain": [
              "<IPython.core.display.Javascript object>"
            ],
            "application/javascript": [
              "download(\"download_a0e7cffb-8e6a-49ed-8d2f-7f1f7f2a31b9\", \"X_test_scaled.npy\", 283080)"
            ]
          },
          "metadata": {}
        },
        {
          "output_type": "display_data",
          "data": {
            "text/plain": [
              "<IPython.core.display.Javascript object>"
            ],
            "application/javascript": [
              "\n",
              "    async function download(id, filename, size) {\n",
              "      if (!google.colab.kernel.accessAllowed) {\n",
              "        return;\n",
              "      }\n",
              "      const div = document.createElement('div');\n",
              "      const label = document.createElement('label');\n",
              "      label.textContent = `Downloading \"${filename}\": `;\n",
              "      div.appendChild(label);\n",
              "      const progress = document.createElement('progress');\n",
              "      progress.max = size;\n",
              "      div.appendChild(progress);\n",
              "      document.body.appendChild(div);\n",
              "\n",
              "      const buffers = [];\n",
              "      let downloaded = 0;\n",
              "\n",
              "      const channel = await google.colab.kernel.comms.open(id);\n",
              "      // Send a message to notify the kernel that we're ready.\n",
              "      channel.send({})\n",
              "\n",
              "      for await (const message of channel.messages) {\n",
              "        // Send a message to notify the kernel that we're ready.\n",
              "        channel.send({})\n",
              "        if (message.buffers) {\n",
              "          for (const buffer of message.buffers) {\n",
              "            buffers.push(buffer);\n",
              "            downloaded += buffer.byteLength;\n",
              "            progress.value = downloaded;\n",
              "          }\n",
              "        }\n",
              "      }\n",
              "      const blob = new Blob(buffers, {type: 'application/binary'});\n",
              "      const a = document.createElement('a');\n",
              "      a.href = window.URL.createObjectURL(blob);\n",
              "      a.download = filename;\n",
              "      div.appendChild(a);\n",
              "      a.click();\n",
              "      div.remove();\n",
              "    }\n",
              "  "
            ]
          },
          "metadata": {}
        },
        {
          "output_type": "display_data",
          "data": {
            "text/plain": [
              "<IPython.core.display.Javascript object>"
            ],
            "application/javascript": [
              "download(\"download_c7331ac6-9f72-4988-b425-05613eba192f\", \"y_train.npy\", 20152)"
            ]
          },
          "metadata": {}
        },
        {
          "output_type": "display_data",
          "data": {
            "text/plain": [
              "<IPython.core.display.Javascript object>"
            ],
            "application/javascript": [
              "\n",
              "    async function download(id, filename, size) {\n",
              "      if (!google.colab.kernel.accessAllowed) {\n",
              "        return;\n",
              "      }\n",
              "      const div = document.createElement('div');\n",
              "      const label = document.createElement('label');\n",
              "      label.textContent = `Downloading \"${filename}\": `;\n",
              "      div.appendChild(label);\n",
              "      const progress = document.createElement('progress');\n",
              "      progress.max = size;\n",
              "      div.appendChild(progress);\n",
              "      document.body.appendChild(div);\n",
              "\n",
              "      const buffers = [];\n",
              "      let downloaded = 0;\n",
              "\n",
              "      const channel = await google.colab.kernel.comms.open(id);\n",
              "      // Send a message to notify the kernel that we're ready.\n",
              "      channel.send({})\n",
              "\n",
              "      for await (const message of channel.messages) {\n",
              "        // Send a message to notify the kernel that we're ready.\n",
              "        channel.send({})\n",
              "        if (message.buffers) {\n",
              "          for (const buffer of message.buffers) {\n",
              "            buffers.push(buffer);\n",
              "            downloaded += buffer.byteLength;\n",
              "            progress.value = downloaded;\n",
              "          }\n",
              "        }\n",
              "      }\n",
              "      const blob = new Blob(buffers, {type: 'application/binary'});\n",
              "      const a = document.createElement('a');\n",
              "      a.href = window.URL.createObjectURL(blob);\n",
              "      a.download = filename;\n",
              "      div.appendChild(a);\n",
              "      a.click();\n",
              "      div.remove();\n",
              "    }\n",
              "  "
            ]
          },
          "metadata": {}
        },
        {
          "output_type": "display_data",
          "data": {
            "text/plain": [
              "<IPython.core.display.Javascript object>"
            ],
            "application/javascript": [
              "download(\"download_e68f544a-d9e0-433b-b8e4-ecd9306ab0af\", \"y_val.npy\", 2632)"
            ]
          },
          "metadata": {}
        },
        {
          "output_type": "display_data",
          "data": {
            "text/plain": [
              "<IPython.core.display.Javascript object>"
            ],
            "application/javascript": [
              "\n",
              "    async function download(id, filename, size) {\n",
              "      if (!google.colab.kernel.accessAllowed) {\n",
              "        return;\n",
              "      }\n",
              "      const div = document.createElement('div');\n",
              "      const label = document.createElement('label');\n",
              "      label.textContent = `Downloading \"${filename}\": `;\n",
              "      div.appendChild(label);\n",
              "      const progress = document.createElement('progress');\n",
              "      progress.max = size;\n",
              "      div.appendChild(progress);\n",
              "      document.body.appendChild(div);\n",
              "\n",
              "      const buffers = [];\n",
              "      let downloaded = 0;\n",
              "\n",
              "      const channel = await google.colab.kernel.comms.open(id);\n",
              "      // Send a message to notify the kernel that we're ready.\n",
              "      channel.send({})\n",
              "\n",
              "      for await (const message of channel.messages) {\n",
              "        // Send a message to notify the kernel that we're ready.\n",
              "        channel.send({})\n",
              "        if (message.buffers) {\n",
              "          for (const buffer of message.buffers) {\n",
              "            buffers.push(buffer);\n",
              "            downloaded += buffer.byteLength;\n",
              "            progress.value = downloaded;\n",
              "          }\n",
              "        }\n",
              "      }\n",
              "      const blob = new Blob(buffers, {type: 'application/binary'});\n",
              "      const a = document.createElement('a');\n",
              "      a.href = window.URL.createObjectURL(blob);\n",
              "      a.download = filename;\n",
              "      div.appendChild(a);\n",
              "      a.click();\n",
              "      div.remove();\n",
              "    }\n",
              "  "
            ]
          },
          "metadata": {}
        },
        {
          "output_type": "display_data",
          "data": {
            "text/plain": [
              "<IPython.core.display.Javascript object>"
            ],
            "application/javascript": [
              "download(\"download_fd15df73-bcbb-4c99-8df1-2377faa40b80\", \"y_test.npy\", 2632)"
            ]
          },
          "metadata": {}
        },
        {
          "output_type": "display_data",
          "data": {
            "text/plain": [
              "<IPython.core.display.Javascript object>"
            ],
            "application/javascript": [
              "\n",
              "    async function download(id, filename, size) {\n",
              "      if (!google.colab.kernel.accessAllowed) {\n",
              "        return;\n",
              "      }\n",
              "      const div = document.createElement('div');\n",
              "      const label = document.createElement('label');\n",
              "      label.textContent = `Downloading \"${filename}\": `;\n",
              "      div.appendChild(label);\n",
              "      const progress = document.createElement('progress');\n",
              "      progress.max = size;\n",
              "      div.appendChild(progress);\n",
              "      document.body.appendChild(div);\n",
              "\n",
              "      const buffers = [];\n",
              "      let downloaded = 0;\n",
              "\n",
              "      const channel = await google.colab.kernel.comms.open(id);\n",
              "      // Send a message to notify the kernel that we're ready.\n",
              "      channel.send({})\n",
              "\n",
              "      for await (const message of channel.messages) {\n",
              "        // Send a message to notify the kernel that we're ready.\n",
              "        channel.send({})\n",
              "        if (message.buffers) {\n",
              "          for (const buffer of message.buffers) {\n",
              "            buffers.push(buffer);\n",
              "            downloaded += buffer.byteLength;\n",
              "            progress.value = downloaded;\n",
              "          }\n",
              "        }\n",
              "      }\n",
              "      const blob = new Blob(buffers, {type: 'application/binary'});\n",
              "      const a = document.createElement('a');\n",
              "      a.href = window.URL.createObjectURL(blob);\n",
              "      a.download = filename;\n",
              "      div.appendChild(a);\n",
              "      a.click();\n",
              "      div.remove();\n",
              "    }\n",
              "  "
            ]
          },
          "metadata": {}
        },
        {
          "output_type": "display_data",
          "data": {
            "text/plain": [
              "<IPython.core.display.Javascript object>"
            ],
            "application/javascript": [
              "download(\"download_28c383cd-e334-4167-bbe2-a902363d4f14\", \"y_pred_val_model_a.npy\", 3884)"
            ]
          },
          "metadata": {}
        },
        {
          "output_type": "display_data",
          "data": {
            "text/plain": [
              "<IPython.core.display.Javascript object>"
            ],
            "application/javascript": [
              "\n",
              "    async function download(id, filename, size) {\n",
              "      if (!google.colab.kernel.accessAllowed) {\n",
              "        return;\n",
              "      }\n",
              "      const div = document.createElement('div');\n",
              "      const label = document.createElement('label');\n",
              "      label.textContent = `Downloading \"${filename}\": `;\n",
              "      div.appendChild(label);\n",
              "      const progress = document.createElement('progress');\n",
              "      progress.max = size;\n",
              "      div.appendChild(progress);\n",
              "      document.body.appendChild(div);\n",
              "\n",
              "      const buffers = [];\n",
              "      let downloaded = 0;\n",
              "\n",
              "      const channel = await google.colab.kernel.comms.open(id);\n",
              "      // Send a message to notify the kernel that we're ready.\n",
              "      channel.send({})\n",
              "\n",
              "      for await (const message of channel.messages) {\n",
              "        // Send a message to notify the kernel that we're ready.\n",
              "        channel.send({})\n",
              "        if (message.buffers) {\n",
              "          for (const buffer of message.buffers) {\n",
              "            buffers.push(buffer);\n",
              "            downloaded += buffer.byteLength;\n",
              "            progress.value = downloaded;\n",
              "          }\n",
              "        }\n",
              "      }\n",
              "      const blob = new Blob(buffers, {type: 'application/binary'});\n",
              "      const a = document.createElement('a');\n",
              "      a.href = window.URL.createObjectURL(blob);\n",
              "      a.download = filename;\n",
              "      div.appendChild(a);\n",
              "      a.click();\n",
              "      div.remove();\n",
              "    }\n",
              "  "
            ]
          },
          "metadata": {}
        },
        {
          "output_type": "display_data",
          "data": {
            "text/plain": [
              "<IPython.core.display.Javascript object>"
            ],
            "application/javascript": [
              "download(\"download_f2f3acb1-f660-485d-a82a-8373740dafa0\", \"y_pred_test_model_a.npy\", 3884)"
            ]
          },
          "metadata": {}
        }
      ]
    },
    {
      "cell_type": "markdown",
      "source": [
        "##Normalización y redimensionado de las imágenes\n",
        "Preparar los datos para alimentar nuestra red neuronal y poder entrenarla."
      ],
      "metadata": {
        "id": "eGTR_00eJIQd"
      }
    },
    {
      "cell_type": "markdown",
      "source": [
        "###Preparar las etiquetas"
      ],
      "metadata": {
        "id": "s09R9iAYap-e"
      }
    },
    {
      "cell_type": "code",
      "source": [
        "# 1. Calcular los percentiles\n",
        "lower_percentile = valid_df['price'].quantile(0.33)\n",
        "upper_percentile = valid_df['price'].quantile(0.66)\n",
        "\n",
        "# 2. Crear una columna de categorías\n",
        "valid_df['price_categoria'] = pd.cut(valid_df['price'],\n",
        "                                     bins=[-float('inf'), lower_percentile, upper_percentile, float('inf')],\n",
        "                                     labels=['bajo', 'medio', 'alto'])\n",
        "\n",
        "# 3. Convertir las categorías a variables numéricas\n",
        "valid_df['price_categoria_num'] = valid_df['price_categoria'].map({'bajo': 0, 'medio': 1, 'alto': 2})\n"
      ],
      "metadata": {
        "id": "lUJkZoKKaquF"
      },
      "execution_count": 8,
      "outputs": []
    },
    {
      "cell_type": "markdown",
      "source": [
        "###Preparar las imagenes\n",
        "Cargamos las imágenes desde la carpeta, las redimensionamos y las normalizamos."
      ],
      "metadata": {
        "id": "5M48Td0ba115"
      }
    },
    {
      "cell_type": "code",
      "source": [
        "import os\n",
        "import cv2\n",
        "import numpy as np\n",
        "from sklearn.model_selection import train_test_split\n",
        "\n",
        "# Ruta de las imágenes y lista de etiquetas\n",
        "image_folder = \"images\"\n",
        "\n",
        "# Obtener todos los nombres de los archivos en la carpeta (solo .jpg y .png)\n",
        "list_imgs = [os.path.join(image_folder, img) for img in os.listdir(image_folder) if img.endswith('.jpg') or img.endswith('.png')]\n",
        "\n",
        "# Asegurarte de que las imágenes y las etiquetas coinciden\n",
        "labels = valid_df['price_categoria_num'].values\n",
        "\n",
        "# Verifica que el número de imágenes coincida con el número de etiquetas\n",
        "assert len(list_imgs) == len(labels), \"El número de imágenes no coincide con el número de etiquetas.\"\n",
        "\n",
        "# Dimensiones de entrada de ResNet50\n",
        "IMG_SIZE = 128\n",
        "\n",
        "# Cargar, redimensionar y normalizar imágenes\n",
        "images = []\n",
        "for img_path in list_imgs:\n",
        "    img = cv2.imread(img_path)\n",
        "    if img is not None:\n",
        "        img = cv2.cvtColor(img, cv2.COLOR_BGR2RGB)  # Convertir de BGR a RGB\n",
        "        img = cv2.resize(img, (IMG_SIZE, IMG_SIZE))  # Redimensionar la imagen\n",
        "        img = img / 255.0  # Normalizar a rango [0, 1]\n",
        "        images.append(img)\n",
        "\n",
        "images = np.array(images)\n",
        "\n",
        "# Dividir en conjuntos de entrenamiento, validación y prueba\n",
        "X_train, X_temp, y_train, y_temp = train_test_split(images, labels, test_size=0.2, random_state=42)\n",
        "X_val, X_test, y_val, y_test = train_test_split(X_temp, y_temp, test_size=0.5, random_state=42)\n",
        "\n",
        "print(f\"Conjuntos de datos: \\nEntrenamiento: {X_train.shape[0]} imágenes\\nValidación: {X_val.shape[0]} imágenes\\nPrueba: {X_test.shape[0]} imágenes\")\n",
        "\n",
        "\n"
      ],
      "metadata": {
        "colab": {
          "base_uri": "https://localhost:8080/"
        },
        "id": "FduH7GcGa6SF",
        "outputId": "a0dadbca-df68-4e3f-92a8-d5d2e18646af"
      },
      "execution_count": 9,
      "outputs": [
        {
          "output_type": "stream",
          "name": "stdout",
          "text": [
            "Conjuntos de datos: \n",
            "Entrenamiento: 2503 imágenes\n",
            "Validación: 313 imágenes\n",
            "Prueba: 313 imágenes\n"
          ]
        }
      ]
    },
    {
      "cell_type": "markdown",
      "source": [
        "###Construir el modelo con ResNet50\n",
        "\n",
        "Usamos ResNet50 preentrenada en ImageNet y ajustamos las capas superiores."
      ],
      "metadata": {
        "id": "ykJ4jJ2kd71i"
      }
    },
    {
      "cell_type": "code",
      "source": [
        "from tensorflow.keras.applications import ResNet50\n",
        "from tensorflow.keras.layers import Dense, GlobalAveragePooling2D, Dropout\n",
        "from tensorflow.keras.models import Model\n",
        "from tensorflow.keras.optimizers import Adam\n",
        "from tensorflow.keras.preprocessing.image import ImageDataGenerator\n",
        "from tensorflow.keras.callbacks import EarlyStopping\n",
        "from sklearn.metrics import classification_report\n",
        "from sklearn.utils.class_weight import compute_class_weight\n",
        "import numpy as np\n",
        "import tensorflow as tf\n",
        "\n",
        "# Tamaño reducido de las imágenes\n",
        "IMG_SIZE = 128\n",
        "\n",
        "# Modelo base ResNet50 con más capas entrenables\n",
        "base_model = ResNet50(weights='imagenet', include_top=False, input_shape=(IMG_SIZE, IMG_SIZE, 3))\n",
        "\n",
        "# Descongelar las últimas capas de ResNet50\n",
        "for layer in base_model.layers[:170]:\n",
        "    layer.trainable = False\n",
        "for layer in base_model.layers[170:]:\n",
        "    layer.trainable = True\n",
        "\n",
        "# Capas superiores personalizadas\n",
        "x = GlobalAveragePooling2D()(base_model.output)\n",
        "x = Dense(128, activation='relu')(x)\n",
        "x = Dropout(0.4)(x)  # Menor dropout\n",
        "output = Dense(3, activation='softmax')(x)\n",
        "\n",
        "model_b = Model(inputs=base_model.input, outputs=output)\n",
        "\n",
        "# Ajuste de tasa de aprendizaje\n",
        "model_b.compile(optimizer=Adam(learning_rate=0.0005),  # Tasa de aprendizaje ajustada\n",
        "                loss='sparse_categorical_crossentropy',\n",
        "                metrics=['accuracy'])\n",
        "\n",
        "# Aumento de datos moderado\n",
        "datagen_train = ImageDataGenerator(\n",
        "    rescale=1./255,\n",
        "    rotation_range=15,\n",
        "    width_shift_range=0.1,\n",
        "    height_shift_range=0.1,\n",
        "    zoom_range=0.1,\n",
        "    horizontal_flip=True\n",
        ")\n",
        "\n",
        "datagen_val = ImageDataGenerator(rescale=1./255)\n",
        "\n",
        "# Generadores desde arrays\n",
        "train_generator = datagen_train.flow(X_train, y_train, batch_size=16)\n",
        "val_generator = datagen_val.flow(X_val, y_val, batch_size=16)\n",
        "\n",
        "# Pesos de las clases\n",
        "class_weights = compute_class_weight('balanced', classes=np.unique(y_train), y=y_train)\n",
        "class_weight_dict = dict(enumerate(class_weights))\n",
        "\n",
        "# EarlyStopping con paciencia ajustada\n",
        "early_stopping = EarlyStopping(monitor='val_loss', patience=3, restore_best_weights=True)\n",
        "\n",
        "# Entrenamiento\n",
        "model_b.fit(\n",
        "    train_generator,\n",
        "    epochs=10,  # Aumentar las épocas\n",
        "    validation_data=val_generator,\n",
        "    class_weight=class_weight_dict,\n",
        "    callbacks=[early_stopping]\n",
        ")\n",
        "\n",
        "# Evaluar y guardar el modelo\n",
        "X_test_processed = X_test / 255.0\n",
        "test_loss, test_acc = model_b.evaluate(X_test_processed, y_test, batch_size=16)\n",
        "print(f\"Test Accuracy: {test_acc:.2f}\")\n",
        "\n",
        "# Predicciones y clasificación\n",
        "y_pred = np.argmax(model_b.predict(X_test_processed), axis=1)\n",
        "print(classification_report(y_test, y_pred, target_names=['bajo', 'medio', 'alto']))\n",
        "\n",
        "# Guardar el modelo\n",
        "model_b.save(\"modelo_resnet50_ajustado.h5\")\n",
        "print(\"Modelo entrenado y guardado como 'modelo_resnet50_ajustado.h5'.\")\n",
        "\n"
      ],
      "metadata": {
        "colab": {
          "base_uri": "https://localhost:8080/"
        },
        "id": "N_DS1OQhd2_J",
        "outputId": "4ad8eb3d-28d7-4e2a-c704-2218de94237e"
      },
      "execution_count": 29,
      "outputs": [
        {
          "output_type": "stream",
          "name": "stdout",
          "text": [
            "Epoch 1/10\n"
          ]
        },
        {
          "output_type": "stream",
          "name": "stderr",
          "text": [
            "/usr/local/lib/python3.10/dist-packages/keras/src/trainers/data_adapters/py_dataset_adapter.py:122: UserWarning: Your `PyDataset` class should call `super().__init__(**kwargs)` in its constructor. `**kwargs` can include `workers`, `use_multiprocessing`, `max_queue_size`. Do not pass these arguments to `fit()`, as they will be ignored.\n",
            "  self._warn_if_super_not_called()\n"
          ]
        },
        {
          "output_type": "stream",
          "name": "stdout",
          "text": [
            "\u001b[1m157/157\u001b[0m \u001b[32m━━━━━━━━━━━━━━━━━━━━\u001b[0m\u001b[37m\u001b[0m \u001b[1m192s\u001b[0m 1s/step - accuracy: 0.3247 - loss: 1.1702 - val_accuracy: 0.3195 - val_loss: 1.1201\n",
            "Epoch 2/10\n",
            "\u001b[1m157/157\u001b[0m \u001b[32m━━━━━━━━━━━━━━━━━━━━\u001b[0m\u001b[37m\u001b[0m \u001b[1m175s\u001b[0m 1s/step - accuracy: 0.3301 - loss: 1.0983 - val_accuracy: 0.3195 - val_loss: 1.0987\n",
            "Epoch 3/10\n",
            "\u001b[1m157/157\u001b[0m \u001b[32m━━━━━━━━━━━━━━━━━━━━\u001b[0m\u001b[37m\u001b[0m \u001b[1m174s\u001b[0m 1s/step - accuracy: 0.3275 - loss: 1.0988 - val_accuracy: 0.3738 - val_loss: 1.0983\n",
            "Epoch 4/10\n",
            "\u001b[1m157/157\u001b[0m \u001b[32m━━━━━━━━━━━━━━━━━━━━\u001b[0m\u001b[37m\u001b[0m \u001b[1m178s\u001b[0m 1s/step - accuracy: 0.3171 - loss: 1.0985 - val_accuracy: 0.3738 - val_loss: 1.0982\n",
            "Epoch 5/10\n",
            "\u001b[1m157/157\u001b[0m \u001b[32m━━━━━━━━━━━━━━━━━━━━\u001b[0m\u001b[37m\u001b[0m \u001b[1m175s\u001b[0m 1s/step - accuracy: 0.3206 - loss: 1.0985 - val_accuracy: 0.3738 - val_loss: 1.0982\n",
            "Epoch 6/10\n",
            "\u001b[1m157/157\u001b[0m \u001b[32m━━━━━━━━━━━━━━━━━━━━\u001b[0m\u001b[37m\u001b[0m \u001b[1m181s\u001b[0m 1s/step - accuracy: 0.3203 - loss: 1.0986 - val_accuracy: 0.3738 - val_loss: 1.0985\n",
            "Epoch 7/10\n",
            "\u001b[1m157/157\u001b[0m \u001b[32m━━━━━━━━━━━━━━━━━━━━\u001b[0m\u001b[37m\u001b[0m \u001b[1m201s\u001b[0m 1s/step - accuracy: 0.3145 - loss: 1.0980 - val_accuracy: 0.3738 - val_loss: 1.0984\n",
            "Epoch 8/10\n",
            "\u001b[1m157/157\u001b[0m \u001b[32m━━━━━━━━━━━━━━━━━━━━\u001b[0m\u001b[37m\u001b[0m \u001b[1m203s\u001b[0m 1s/step - accuracy: 0.3084 - loss: 1.0985 - val_accuracy: 0.3738 - val_loss: 1.0985\n",
            "\u001b[1m20/20\u001b[0m \u001b[32m━━━━━━━━━━━━━━━━━━━━\u001b[0m\u001b[37m\u001b[0m \u001b[1m18s\u001b[0m 922ms/step - accuracy: 0.3119 - loss: 1.0988\n",
            "Test Accuracy: 0.33\n",
            "\u001b[1m10/10\u001b[0m \u001b[32m━━━━━━━━━━━━━━━━━━━━\u001b[0m\u001b[37m\u001b[0m \u001b[1m63s\u001b[0m 2s/step\n"
          ]
        },
        {
          "output_type": "stream",
          "name": "stderr",
          "text": [
            "/usr/local/lib/python3.10/dist-packages/sklearn/metrics/_classification.py:1531: UndefinedMetricWarning: Precision is ill-defined and being set to 0.0 in labels with no predicted samples. Use `zero_division` parameter to control this behavior.\n",
            "  _warn_prf(average, modifier, f\"{metric.capitalize()} is\", len(result))\n",
            "/usr/local/lib/python3.10/dist-packages/sklearn/metrics/_classification.py:1531: UndefinedMetricWarning: Precision is ill-defined and being set to 0.0 in labels with no predicted samples. Use `zero_division` parameter to control this behavior.\n",
            "  _warn_prf(average, modifier, f\"{metric.capitalize()} is\", len(result))\n",
            "/usr/local/lib/python3.10/dist-packages/sklearn/metrics/_classification.py:1531: UndefinedMetricWarning: Precision is ill-defined and being set to 0.0 in labels with no predicted samples. Use `zero_division` parameter to control this behavior.\n",
            "  _warn_prf(average, modifier, f\"{metric.capitalize()} is\", len(result))\n",
            "WARNING:absl:You are saving your model as an HDF5 file via `model.save()` or `keras.saving.save_model(model)`. This file format is considered legacy. We recommend using instead the native Keras format, e.g. `model.save('my_model.keras')` or `keras.saving.save_model(model, 'my_model.keras')`. \n"
          ]
        },
        {
          "output_type": "stream",
          "name": "stdout",
          "text": [
            "              precision    recall  f1-score   support\n",
            "\n",
            "        bajo       0.00      0.00      0.00        95\n",
            "       medio       0.33      1.00      0.49       102\n",
            "        alto       0.00      0.00      0.00       116\n",
            "\n",
            "    accuracy                           0.33       313\n",
            "   macro avg       0.11      0.33      0.16       313\n",
            "weighted avg       0.11      0.33      0.16       313\n",
            "\n",
            "Modelo entrenado y guardado como 'modelo_resnet50_ajustado.h5'.\n"
          ]
        }
      ]
    },
    {
      "cell_type": "code",
      "source": [],
      "metadata": {
        "id": "P0h_TwyxkhJ-"
      },
      "execution_count": null,
      "outputs": []
    },
    {
      "cell_type": "markdown",
      "source": [
        "###Evaluar el modelo\n",
        "\n",
        "Evaluamos el modelo en el conjunto de prueba y generamos un informe."
      ],
      "metadata": {
        "id": "f6PYjIfSeLxC"
      }
    },
    {
      "cell_type": "code",
      "source": [
        "from sklearn.metrics import classification_report\n",
        "from tensorflow.keras.models import load_model\n",
        "import numpy as np\n",
        "\n",
        "# Cargar el mejor modelo\n",
        "best_model = load_model(\"modelo_resnet50_ajustado.h5\")  # Asegúrate de que el nombre del archivo sea correcto\n",
        "\n",
        "# Evaluar\n",
        "test_loss, test_acc = best_model.evaluate(X_test / 255.0, y_test, batch_size=32)  # Preprocesa las imágenes\n",
        "print(f\"Test Accuracy: {test_acc:.2f}\")\n",
        "\n",
        "# Predicciones\n",
        "y_pred = np.argmax(best_model.predict(X_test / 255.0), axis=1)  # Preprocesa las imágenes\n",
        "\n",
        "# Informe de clasificación\n",
        "print(classification_report(y_test, y_pred, target_names=['bajo', 'medio', 'alto']))\n",
        "\n"
      ],
      "metadata": {
        "colab": {
          "base_uri": "https://localhost:8080/"
        },
        "id": "0W-ikBcyeMm4",
        "outputId": "2ed08272-c35b-4d56-eb6b-38c9a4a8b92b"
      },
      "execution_count": 31,
      "outputs": [
        {
          "output_type": "stream",
          "name": "stderr",
          "text": [
            "WARNING:absl:Compiled the loaded model, but the compiled metrics have yet to be built. `model.compile_metrics` will be empty until you train or evaluate the model.\n"
          ]
        },
        {
          "output_type": "stream",
          "name": "stdout",
          "text": [
            "\u001b[1m10/10\u001b[0m \u001b[32m━━━━━━━━━━━━━━━━━━━━\u001b[0m\u001b[37m\u001b[0m \u001b[1m21s\u001b[0m 2s/step - accuracy: 0.3110 - loss: 1.0988\n",
            "Test Accuracy: 0.33\n",
            "\u001b[1m10/10\u001b[0m \u001b[32m━━━━━━━━━━━━━━━━━━━━\u001b[0m\u001b[37m\u001b[0m \u001b[1m25s\u001b[0m 2s/step\n",
            "              precision    recall  f1-score   support\n",
            "\n",
            "        bajo       0.00      0.00      0.00        95\n",
            "       medio       0.33      1.00      0.49       102\n",
            "        alto       0.00      0.00      0.00       116\n",
            "\n",
            "    accuracy                           0.33       313\n",
            "   macro avg       0.11      0.33      0.16       313\n",
            "weighted avg       0.11      0.33      0.16       313\n",
            "\n"
          ]
        },
        {
          "output_type": "stream",
          "name": "stderr",
          "text": [
            "/usr/local/lib/python3.10/dist-packages/sklearn/metrics/_classification.py:1531: UndefinedMetricWarning: Precision is ill-defined and being set to 0.0 in labels with no predicted samples. Use `zero_division` parameter to control this behavior.\n",
            "  _warn_prf(average, modifier, f\"{metric.capitalize()} is\", len(result))\n",
            "/usr/local/lib/python3.10/dist-packages/sklearn/metrics/_classification.py:1531: UndefinedMetricWarning: Precision is ill-defined and being set to 0.0 in labels with no predicted samples. Use `zero_division` parameter to control this behavior.\n",
            "  _warn_prf(average, modifier, f\"{metric.capitalize()} is\", len(result))\n",
            "/usr/local/lib/python3.10/dist-packages/sklearn/metrics/_classification.py:1531: UndefinedMetricWarning: Precision is ill-defined and being set to 0.0 in labels with no predicted samples. Use `zero_division` parameter to control this behavior.\n",
            "  _warn_prf(average, modifier, f\"{metric.capitalize()} is\", len(result))\n"
          ]
        }
      ]
    },
    {
      "cell_type": "markdown",
      "source": [],
      "metadata": {
        "id": "mEByQ_E0P_Ed"
      }
    },
    {
      "cell_type": "markdown",
      "source": [
        "###Optimización de Hiperparámetros\n",
        "\n",
        "Si deseas optimizar los hiperparámetros (tasa de aprendizaje, capas, dropout, etc.), puedes usar KerasTuner."
      ],
      "metadata": {
        "id": "WQnAx9i9eY7Z"
      }
    },
    {
      "cell_type": "code",
      "source": [
        "!pip install keras-tuner --upgrade"
      ],
      "metadata": {
        "colab": {
          "base_uri": "https://localhost:8080/"
        },
        "id": "weFPHwAtX-NP",
        "outputId": "32732d00-e350-4695-c026-951c1cff2e4e"
      },
      "execution_count": 3,
      "outputs": [
        {
          "output_type": "stream",
          "name": "stdout",
          "text": [
            "Collecting keras-tuner\n",
            "  Downloading keras_tuner-1.4.7-py3-none-any.whl.metadata (5.4 kB)\n",
            "Requirement already satisfied: keras in /usr/local/lib/python3.10/dist-packages (from keras-tuner) (3.5.0)\n",
            "Requirement already satisfied: packaging in /usr/local/lib/python3.10/dist-packages (from keras-tuner) (24.2)\n",
            "Requirement already satisfied: requests in /usr/local/lib/python3.10/dist-packages (from keras-tuner) (2.32.3)\n",
            "Collecting kt-legacy (from keras-tuner)\n",
            "  Downloading kt_legacy-1.0.5-py3-none-any.whl.metadata (221 bytes)\n",
            "Requirement already satisfied: absl-py in /usr/local/lib/python3.10/dist-packages (from keras->keras-tuner) (1.4.0)\n",
            "Requirement already satisfied: numpy in /usr/local/lib/python3.10/dist-packages (from keras->keras-tuner) (1.26.4)\n",
            "Requirement already satisfied: rich in /usr/local/lib/python3.10/dist-packages (from keras->keras-tuner) (13.9.4)\n",
            "Requirement already satisfied: namex in /usr/local/lib/python3.10/dist-packages (from keras->keras-tuner) (0.0.8)\n",
            "Requirement already satisfied: h5py in /usr/local/lib/python3.10/dist-packages (from keras->keras-tuner) (3.12.1)\n",
            "Requirement already satisfied: optree in /usr/local/lib/python3.10/dist-packages (from keras->keras-tuner) (0.13.1)\n",
            "Requirement already satisfied: ml-dtypes in /usr/local/lib/python3.10/dist-packages (from keras->keras-tuner) (0.4.1)\n",
            "Requirement already satisfied: charset-normalizer<4,>=2 in /usr/local/lib/python3.10/dist-packages (from requests->keras-tuner) (3.4.0)\n",
            "Requirement already satisfied: idna<4,>=2.5 in /usr/local/lib/python3.10/dist-packages (from requests->keras-tuner) (3.10)\n",
            "Requirement already satisfied: urllib3<3,>=1.21.1 in /usr/local/lib/python3.10/dist-packages (from requests->keras-tuner) (2.2.3)\n",
            "Requirement already satisfied: certifi>=2017.4.17 in /usr/local/lib/python3.10/dist-packages (from requests->keras-tuner) (2024.8.30)\n",
            "Requirement already satisfied: typing-extensions>=4.5.0 in /usr/local/lib/python3.10/dist-packages (from optree->keras->keras-tuner) (4.12.2)\n",
            "Requirement already satisfied: markdown-it-py>=2.2.0 in /usr/local/lib/python3.10/dist-packages (from rich->keras->keras-tuner) (3.0.0)\n",
            "Requirement already satisfied: pygments<3.0.0,>=2.13.0 in /usr/local/lib/python3.10/dist-packages (from rich->keras->keras-tuner) (2.18.0)\n",
            "Requirement already satisfied: mdurl~=0.1 in /usr/local/lib/python3.10/dist-packages (from markdown-it-py>=2.2.0->rich->keras->keras-tuner) (0.1.2)\n",
            "Downloading keras_tuner-1.4.7-py3-none-any.whl (129 kB)\n",
            "\u001b[?25l   \u001b[90m━━━━━━━━━━━━━━━━━━━━━━━━━━━━━━━━━━━━━━━━\u001b[0m \u001b[32m0.0/129.1 kB\u001b[0m \u001b[31m?\u001b[0m eta \u001b[36m-:--:--\u001b[0m\r\u001b[2K   \u001b[90m━━━━━━━━━━━━━━━━━━━━━━━━━━━━━━━━━━━━━━━━\u001b[0m \u001b[32m129.1/129.1 kB\u001b[0m \u001b[31m9.6 MB/s\u001b[0m eta \u001b[36m0:00:00\u001b[0m\n",
            "\u001b[?25hDownloading kt_legacy-1.0.5-py3-none-any.whl (9.6 kB)\n",
            "Installing collected packages: kt-legacy, keras-tuner\n",
            "Successfully installed keras-tuner-1.4.7 kt-legacy-1.0.5\n"
          ]
        }
      ]
    },
    {
      "cell_type": "code",
      "source": [
        "import keras_tuner as kt\n",
        "from tensorflow.keras.applications import ResNet50\n",
        "from tensorflow.keras.layers import Dense, Dropout, Flatten\n",
        "from tensorflow.keras.models import Model\n",
        "from tensorflow.keras.optimizers import Adam\n",
        "\n",
        "# Tamaño reducido de las imágenes\n",
        "IMG_SIZE = 128\n",
        "\n",
        "def build_model(hp):\n",
        "    # Usar ResNet50 como modelo base\n",
        "    base_model = ResNet50(weights='imagenet', include_top=False, input_shape=(IMG_SIZE, IMG_SIZE, 3))\n",
        "\n",
        "    # Congelar todas las capas del modelo base\n",
        "    for layer in base_model.layers:\n",
        "        layer.trainable = False\n",
        "\n",
        "    # Capas superiores personalizadas\n",
        "    x = Flatten()(base_model.output)\n",
        "    x = Dense(hp.Int('units', min_value=128, max_value=512, step=64), activation='relu')(x)\n",
        "    x = Dropout(hp.Float('dropout', 0.3, 0.7, step=0.1))(x)\n",
        "    output = Dense(3, activation='softmax')(x)\n",
        "\n",
        "    # Crear el modelo final\n",
        "    model_b = Model(inputs=base_model.input, outputs=output)\n",
        "\n",
        "    # Compilación del modelo con optimización de hiperparámetros\n",
        "    model_b.compile(optimizer=Adam(learning_rate=hp.Choice('learning_rate', [1e-3, 1e-4, 1e-5])),\n",
        "                    loss='sparse_categorical_crossentropy',\n",
        "                    metrics=['accuracy'])\n",
        "\n",
        "    return model_b\n",
        "\n",
        "# Inicialización del KerasTuner\n",
        "tuner = kt.RandomSearch(\n",
        "    build_model,\n",
        "    objective='val_accuracy',\n",
        "    max_trials=10,\n",
        "    executions_per_trial=1,\n",
        "    directory='hyperparam_tuning',\n",
        "    project_name='resnet50_tuning'  # Cambié el nombre del proyecto para reflejar ResNet50\n",
        ")\n",
        "\n",
        "# Ejecutar búsqueda de hiperparámetros\n",
        "tuner.search(X_train, y_train, epochs=10, validation_data=(X_val, y_val))\n",
        "\n",
        "# Obtener los mejores hiperparámetros encontrados\n",
        "best_hyperparams = tuner.get_best_hyperparameters()[0]\n",
        "\n",
        "# Imprimir los mejores hiperparámetros\n",
        "print(f\"Best Hyperparameters: {best_hyperparams}\")\n",
        "\n",
        "\n"
      ],
      "metadata": {
        "id": "rO7AtKCweZZc",
        "colab": {
          "base_uri": "https://localhost:8080/",
          "height": 251
        },
        "outputId": "e04367a6-1bdf-4799-828e-0d2819b2e761"
      },
      "execution_count": 4,
      "outputs": [
        {
          "output_type": "stream",
          "name": "stdout",
          "text": [
            "Downloading data from https://storage.googleapis.com/tensorflow/keras-applications/resnet/resnet50_weights_tf_dim_ordering_tf_kernels_notop.h5\n",
            "\u001b[1m94765736/94765736\u001b[0m \u001b[32m━━━━━━━━━━━━━━━━━━━━\u001b[0m\u001b[37m\u001b[0m \u001b[1m1s\u001b[0m 0us/step\n"
          ]
        },
        {
          "output_type": "error",
          "ename": "NameError",
          "evalue": "name 'X_train' is not defined",
          "traceback": [
            "\u001b[0;31m---------------------------------------------------------------------------\u001b[0m",
            "\u001b[0;31mNameError\u001b[0m                                 Traceback (most recent call last)",
            "\u001b[0;32m<ipython-input-4-76693ef6b7d7>\u001b[0m in \u001b[0;36m<cell line: 45>\u001b[0;34m()\u001b[0m\n\u001b[1;32m     43\u001b[0m \u001b[0;34m\u001b[0m\u001b[0m\n\u001b[1;32m     44\u001b[0m \u001b[0;31m# Ejecutar búsqueda de hiperparámetros\u001b[0m\u001b[0;34m\u001b[0m\u001b[0;34m\u001b[0m\u001b[0m\n\u001b[0;32m---> 45\u001b[0;31m \u001b[0mtuner\u001b[0m\u001b[0;34m.\u001b[0m\u001b[0msearch\u001b[0m\u001b[0;34m(\u001b[0m\u001b[0mX_train\u001b[0m\u001b[0;34m,\u001b[0m \u001b[0my_train\u001b[0m\u001b[0;34m,\u001b[0m \u001b[0mepochs\u001b[0m\u001b[0;34m=\u001b[0m\u001b[0;36m10\u001b[0m\u001b[0;34m,\u001b[0m \u001b[0mvalidation_data\u001b[0m\u001b[0;34m=\u001b[0m\u001b[0;34m(\u001b[0m\u001b[0mX_val\u001b[0m\u001b[0;34m,\u001b[0m \u001b[0my_val\u001b[0m\u001b[0;34m)\u001b[0m\u001b[0;34m)\u001b[0m\u001b[0;34m\u001b[0m\u001b[0;34m\u001b[0m\u001b[0m\n\u001b[0m\u001b[1;32m     46\u001b[0m \u001b[0;34m\u001b[0m\u001b[0m\n\u001b[1;32m     47\u001b[0m \u001b[0;31m# Obtener los mejores hiperparámetros encontrados\u001b[0m\u001b[0;34m\u001b[0m\u001b[0;34m\u001b[0m\u001b[0m\n",
            "\u001b[0;31mNameError\u001b[0m: name 'X_train' is not defined"
          ]
        }
      ]
    },
    {
      "cell_type": "markdown",
      "source": [
        "###Guardar los datos y Exportarlos"
      ],
      "metadata": {
        "id": "BK-OO8MCepka"
      }
    },
    {
      "cell_type": "code",
      "source": [
        "import numpy as np\n",
        "from google.colab import files\n",
        "\n",
        "# Guardar el modelo entrenado\n",
        "model_b.save(\"modelo2_resnet50.h5\")  # Guardar modelo en formato HDF5\n",
        "print(\"Modelo ResNet50 guardado como 'modelo2_resnet50.h5'\")\n",
        "\n",
        "# Guardar datos procesados para Early-Fusion\n",
        "# Datos tabulares escalados y etiquetas\n",
        "np.save('X_train_scaled.npy', X_train_scaled)\n",
        "np.save('X_val_scaled.npy', X_val_scaled)\n",
        "np.save('X_test_scaled.npy', X_test_scaled)\n",
        "np.save('y_train.npy', y_train)\n",
        "np.save('y_val.npy', y_val)\n",
        "np.save('y_test.npy', y_test)\n",
        "\n",
        "# Guardar predicciones del Modelo A (tabular)\n",
        "y_pred_val_model_a = model_a.predict(X_val_scaled)\n",
        "y_pred_test_model_a = model_a.predict(X_test_scaled)\n",
        "np.save('y_pred_val_model_a.npy', y_pred_val_model_a)\n",
        "np.save('y_pred_test_model_a.npy', y_pred_test_model_a)\n",
        "\n",
        "# Guardar datos procesados para Late-Fusion\n",
        "# Imágenes redimensionadas (preprocesadas)\n",
        "np.save('X_train_images.npy', X_train_images)\n",
        "np.save('X_val_images.npy', X_val_images)\n",
        "np.save('X_test_images.npy', X_test_images)\n",
        "\n",
        "# Guardar características latentes de ResNet50\n",
        "embeddings_val_resnet = resnet50_model.predict(X_val_images)\n",
        "embeddings_test_resnet = resnet50_model.predict(X_test_images)\n",
        "np.save('embeddings_val_resnet.npy', embeddings_val_resnet)\n",
        "np.save('embeddings_test_resnet.npy', embeddings_test_resnet)\n",
        "\n",
        "# Guardar predicciones del Modelo B (ResNet50)\n",
        "y_pred_val_resnet = np.argmax(embeddings_val_resnet, axis=1)\n",
        "y_pred_test_resnet = np.argmax(embeddings_test_resnet, axis=1)\n",
        "np.save('y_pred_val_resnet.npy', y_pred_val_resnet)\n",
        "np.save('y_pred_test_resnet.npy', y_pred_test_resnet)\n",
        "\n",
        "# Descargar archivos desde Colab\n",
        "files_to_download = [\n",
        "    'X_train_scaled.npy', 'X_val_scaled.npy', 'X_test_scaled.npy',\n",
        "    'y_train.npy', 'y_val.npy', 'y_test.npy',\n",
        "    'y_pred_val_model_a.npy', 'y_pred_test_model_a.npy',\n",
        "    'X_train_images.npy', 'X_val_images.npy', 'X_test_images.npy',\n",
        "    'embeddings_val_resnet.npy', 'embeddings_test_resnet.npy',\n",
        "    'y_pred_val_resnet.npy', 'y_pred_test_resnet.npy','modelo2_resnet50.h5',\n",
        "    'modelo1.h5'\n",
        "]\n",
        "\n",
        "for file in files_to_download:\n",
        "    files.download(file)\n",
        "\n",
        "print(\"Todos los datos se han guardado y descargado correctamente.\")\n"
      ],
      "metadata": {
        "id": "r4aQl1yYepx1"
      },
      "execution_count": null,
      "outputs": []
    },
    {
      "cell_type": "code",
      "source": [],
      "metadata": {
        "id": "4ma-yOa5mSqM"
      },
      "execution_count": null,
      "outputs": []
    }
  ]
}